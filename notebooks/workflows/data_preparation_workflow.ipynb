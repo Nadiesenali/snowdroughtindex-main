{
 "cells": [
  {
   "cell_type": "markdown",
   "metadata": {},
   "source": [
    "# Data Preparation Workflow\n",
    "\n",
    "This notebook demonstrates the data preparation workflow for the Snow Drought Index package. It covers loading data, preprocessing, station extraction and filtering, and data availability assessment."
   ]
  },
  {
   "cell_type": "code",
   "execution_count": null,
   "metadata": {},
   "outputs": [],
   "source": [
    "# Import required packages\n",
    "import numpy as np\n",
    "import pandas as pd\n",
    "import xarray as xr\n",
    "import geopandas as gpd\n",
    "import matplotlib.pyplot as plt\n",
    "from shapely.geometry import Point\n",
    "\n",
    "# Import snowdroughtindex package\n",
    "from snowdroughtindex.core import data_preparation\n",
    "from snowdroughtindex.utils import visualization, io"
   ]
  },
  {
   "cell_type": "markdown",
   "metadata": {},
   "source": [
    "## 1. Data Loading\n",
    "\n",
    "First, we'll load the SWE data and other required datasets."
   ]
  },
  {
   "cell_type": "code",
   "execution_count": null,
   "metadata": {},
   "outputs": [],
   "source": [
    "# Define data paths\n",
    "swe_path = '../data/input_data/SWE_data.nc'\n",
    "precip_path = '../data/input_data/precip_data.nc'\n",
    "basin_path = '../data/input_data/basin_shapefile.shp'\n",
    "\n",
    "# Load data using the implemented functions\n",
    "swe_data = data_preparation.load_swe_data(swe_path)\n",
    "precip_data = data_preparation.load_precip_data(precip_path)\n",
    "basin_data = data_preparation.load_basin_data(basin_path)"
   ]
  },
  {
   "cell_type": "markdown",
   "metadata": {},
   "source": [
    "## 2. Data Preprocessing\n",
    "\n",
    "Next, we'll preprocess the data to prepare it for analysis."
   ]
  },
  {
   "cell_type": "code",
   "execution_count": null,
   "metadata": {},
   "outputs": [],
   "source": [
    "# Preprocess SWE data\n",
    "swe_processed = data_preparation.preprocess_swe(swe_data)\n",
    "\n",
    "# Preprocess precipitation data\n",
    "precip_processed = data_preparation.preprocess_precip(precip_data)\n",
    "\n",
    "# Convert to GeoDataFrame for spatial operations\n",
    "swe_gdf = data_preparation.convert_to_geodataframe(swe_processed)"
   ]
  },
  {
   "cell_type": "markdown",
   "metadata": {},
   "source": [
    "## 3. Station Extraction and Filtering\n",
    "\n",
    "Now, we'll extract stations within the basin of interest."
   ]
  },
  {
   "cell_type": "code",
   "execution_count": null,
   "metadata": {},
   "outputs": [],
   "source": [
    "# Define basin ID\n",
    "basin_id = 'example_basin'  # Replace with actual basin ID\n",
    "\n",
    "# Extract stations within the basin\n",
    "stations_in_basin, basin_buffer = data_preparation.extract_stations_in_basin(swe_gdf, basin_data, basin_id)\n",
    "\n",
    "# Filter data for stations in the basin\n",
    "station_ids = stations_in_basin['station_id'].tolist()\n",
    "swe_basin = data_preparation.filter_stations(swe_data, station_ids)"
   ]
  },
  {
   "cell_type": "markdown",
   "metadata": {},
   "source": [
    "## 4. Data Availability Assessment\n",
    "\n",
    "Finally, we'll assess the availability of data for the stations in the basin."
   ]
  },
  {
   "cell_type": "code",
   "execution_count": null,
   "metadata": {},
   "outputs": [],
   "source": [
    "# Assess data availability\n",
    "availability = data_preparation.assess_data_availability(swe_basin)\n",
    "\n",
    "# Visualize data availability (assuming this function exists in the visualization module)\n",
    "# visualization.plot_data_availability(availability)\n",
    "\n",
    "# Alternative: Basic visualization using matplotlib\n",
    "plt.figure(figsize=(10, 6))\n",
    "availability.plot(cmap='viridis')\n",
    "plt.colorbar(label='Data Availability (%)')\n",
    "plt.title('SWE Data Availability by Station')\n",
    "plt.xlabel('Station ID')\n",
    "plt.ylabel('Variable')\n",
    "plt.tight_layout()\n",
    "plt.show()"
   ]
  },
  {
   "cell_type": "markdown",
   "metadata": {},
   "source": [
    "## 5. Save Processed Data\n",
    "\n",
    "Save the processed data for use in subsequent analyses."
   ]
  },
  {
   "cell_type": "code",
   "execution_count": null,
   "metadata": {},
   "outputs": [],
   "source": [
    "# Save processed data (assuming this function exists in the io module)\n",
    "# io.save_processed_data(swe_basin, '../data/processed/swe_basin_processed.nc')\n",
    "\n",
    "# Alternative: Save using xarray's built-in methods\n",
    "swe_basin.to_netcdf('../data/processed/swe_basin_processed.nc')"
   ]
  },
  {
   "cell_type": "markdown",
   "metadata": {},
   "source": [
    "## 6. Summary\n",
    "\n",
    "In this notebook, we've demonstrated the data preparation workflow for the Snow Drought Index package. We've loaded data, preprocessed it, extracted stations within the basin of interest, assessed data availability, and saved the processed data for use in subsequent analyses.\n",
    "\n",
    "The workflow uses the following key functions from the `data_preparation` module:\n",
    "- `load_swe_data()`, `load_precip_data()`, `load_basin_data()` for data loading\n",
    "- `preprocess_swe()`, `preprocess_precip()` for data preprocessing\n",
    "- `convert_to_geodataframe()` for converting data to GeoDataFrame\n",
    "- `extract_stations_in_basin()` for extracting stations within a basin\n",
    "- `filter_stations()` for filtering data by station\n",
    "- `assess_data_availability()` for assessing data availability\n",
    "\n",
    "These functions provide a standardized and reusable way to prepare data for the Snow Drought Index calculations."
   ]
  }
 ],
 "metadata": {
  "kernelspec": {
   "display_name": "Python 3",
   "language": "python",
   "name": "python3"
  },
  "language_info": {
   "codemirror_mode": {
    "name": "ipython",
    "version": 3
   },
   "file_extension": ".py",
   "mimetype": "text/x-python",
   "name": "python",
   "nbconvert_exporter": "python",
   "pygments_lexer": "ipython3",
   "version": "3.8.5"
  }
 },
 "nbformat": 4,
 "nbformat_minor": 4
}
