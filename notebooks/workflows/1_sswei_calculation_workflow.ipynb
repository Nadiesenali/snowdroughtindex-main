{
 "cells": [
  {
   "cell_type": "markdown",
   "metadata": {},
   "source": [
    "# SSWEI Calculation Workflow\n",
    "\n",
    "This notebook demonstrates the SSWEI (Standardized Snow Water Equivalent Index) calculation workflow for the Snow Drought Index package. It covers loading data, preparing seasonal data, calculating the SSWEI, and classifying drought conditions."
   ]
  },
  {
   "cell_type": "code",
   "execution_count": null,
   "metadata": {},
   "outputs": [],
   "source": [
    "# Import required packages\n",
    "import numpy as np\n",
    "import pandas as pd\n",
    "import xarray as xr\n",
    "import matplotlib.pyplot as plt\n",
    "from scipy.integrate import trapz\n",
    "from scipy.stats import norm\n",
    "\n",
    "# Import snowdroughtindex package\n",
    "from snowdroughtindex.core import data_preparation, gap_filling, sswei\n",
    "from snowdroughtindex.utils import visualization, io"
   ]
  },
  {
   "cell_type": "markdown",
   "metadata": {},
   "source": [
    "## 1. Data Loading\n",
    "\n",
    "First, we'll load the gap-filled SWE data that will be used for SSWEI calculation."
   ]
  },
  {
   "cell_type": "code",
   "execution_count": null,
   "metadata": {},
   "outputs": [],
   "source": [
    "# Define data paths\n",
    "swe_path = '../data/processed/swe_gapfilled.nc'\n",
    "\n",
    "# Load data using the implemented functions\n",
    "swe_data = data_preparation.load_swe_data(swe_path)\n",
    "\n",
    "# Convert to DataFrame for processing\n",
    "swe_df = data_preparation.preprocess_swe(swe_data)\n",
    "\n",
    "# Display the first few rows of the data\n",
    "swe_df.head()"
   ]
  },
  {
   "cell_type": "markdown",
   "metadata": {},
   "source": [
    "## 2. Calculate Basin-Wide Mean SWE\n",
    "\n",
    "Next, we'll calculate the daily mean SWE across all stations in the basin."
   ]
  },
  {
   "cell_type": "code",
   "execution_count": null,
   "metadata": {},
   "outputs": [],
   "source": [
    "# Ensure the DataFrame has a time index\n",
    "if 'time' in swe_df.columns:\n",
    "    swe_df = swe_df.set_index('time')\n",
    "\n",
    "# Identify SWE columns (excluding metadata columns)\n",
    "swe_columns = [col for col in swe_df.columns if col not in ['station_id', 'lat', 'lon', 'elevation']]\n",
    "\n",
    "# Calculate daily mean SWE across all stations\n",
    "daily_mean = pd.DataFrame({\n",
    "    'date': swe_df.index,\n",
    "    'mean_SWE': swe_df[swe_columns].mean(axis=1)\n",
    "})\n",
    "\n",
    "# Display the first few rows of the daily mean data\n",
    "daily_mean.head()"
   ]
  },
  {
   "cell_type": "markdown",
   "metadata": {},
   "source": [
    "## 3. Visualize Daily Mean SWE\n",
    "\n",
    "Let's visualize the daily mean SWE values to understand the seasonal patterns."
   ]
  },
  {
   "cell_type": "code",
   "execution_count": null,
   "metadata": {},
   "outputs": [],
   "source": [
    "# Plot the daily mean SWE values\n",
    "plt.figure(figsize=(12, 6))\n",
    "plt.plot(daily_mean['date'], daily_mean['mean_SWE'])\n",
    "plt.xlabel('Date')\n",
    "plt.ylabel('Mean SWE (mm)')\n",
    "plt.title('Daily Mean SWE Values')\n",
    "plt.grid(True, alpha=0.3)\n",
    "plt.tight_layout()\n",
    "plt.show()"
   ]
  },
  {
   "cell_type": "markdown",
   "metadata": {},
   "source": [
    "## 4. Prepare Seasonal Data\n",
    "\n",
    "Now we'll prepare the seasonal data by filtering for complete snow seasons."
   ]
  },
  {
   "cell_type": "code",
   "execution_count": null,
   "metadata": {},
   "outputs": [],
   "source": [
    "# Define season parameters\n",
    "start_month = 11  # November\n",
    "start_day = 1\n",
    "end_month = 4    # April\n",
    "end_day = 30\n",
    "min_swe = 15     # Minimum SWE to consider as the start of the snow season\n",
    "\n",
    "# Prepare seasonal data\n",
    "season_data = sswei.prepare_season_data(\n",
    "    daily_mean, \n",
    "    start_month=start_month, \n",
    "    start_day=start_day, \n",
    "    end_month=end_month, \n",
    "    end_day=end_day, \n",
    "    min_swe=min_swe\n",
    ")\n",
    "\n",
    "# Display the first few rows of the seasonal data\n",
    "season_data.head()"
   ]
  },
  {
   "cell_type": "markdown",
   "metadata": {},
   "source": [
    "## 5. Calculate Seasonal Integration\n",
    "\n",
    "Next, we'll calculate the seasonal integration of SWE values."
   ]
  },
  {
   "cell_type": "code",
   "execution_count": null,
   "metadata": {},
   "outputs": [],
   "source": [
    "# Calculate seasonal integration\n",
    "integrated_data_season = sswei.calculate_seasonal_integration(season_data, start_month=start_month)\n",
    "\n",
    "# Display the integrated data\n",
    "integrated_data_season"
   ]
  },
  {
   "cell_type": "markdown",
   "metadata": {},
   "source": [
    "## 6. Calculate SSWEI\n",
    "\n",
    "Now we'll calculate the SSWEI values and classify drought conditions."
   ]
  },
  {
   "cell_type": "code",
   "execution_count": null,
   "metadata": {},
   "outputs": [],
   "source": [
    "# Calculate SSWEI directly from daily mean data\n",
    "sswei_results = sswei.calculate_sswei(\n",
    "    daily_mean, \n",
    "    start_month=start_month, \n",
    "    start_day=start_day, \n",
    "    end_month=end_month, \n",
    "    end_day=end_day, \n",
    "    min_swe=min_swe\n",
    ")\n",
    "\n",
    "# Display the SSWEI results\n",
    "sswei_results[['season_year', 'total_SWE_integration', 'Gringorten_probabilities', 'SWEI', 'Drought_Classification']]"
   ]
  },
  {
   "cell_type": "markdown",
   "metadata": {},
   "source": [
    "## 7. Visualize SSWEI Results\n",
    "\n",
    "Let's visualize the SSWEI values and drought classifications."
   ]
  },
  {
   "cell_type": "code",
   "execution_count": null,
   "metadata": {},
   "outputs": [],
   "source": [
    "# Plot SSWEI values with drought classification thresholds\n",
    "sswei_plot = sswei.plot_sswei(sswei_results)\n",
    "plt.show()"
   ]
  },
  {
   "cell_type": "markdown",
   "metadata": {},
   "source": [
    "## 8. Analyze Drought Conditions\n",
    "\n",
    "Let's analyze the drought conditions over the years."
   ]
  },
  {
   "cell_type": "code",
   "execution_count": null,
   "metadata": {},
   "outputs": [],
   "source": [
    "# Count occurrences of each drought classification\n",
    "drought_counts = sswei_results['Drought_Classification'].value_counts()\n",
    "\n",
    "# Plot the counts\n",
    "plt.figure(figsize=(10, 6))\n",
    "drought_counts.plot(kind='bar', color='skyblue')\n",
    "plt.title('Frequency of Drought Classifications')\n",
    "plt.xlabel('Drought Classification')\n",
    "plt.ylabel('Count')\n",
    "plt.xticks(rotation=45)\n",
    "plt.grid(axis='y', alpha=0.3)\n",
    "plt.tight_layout()\n",
    "plt.show()\n",
    "\n",
    "# Calculate percentage of each classification\n",
    "drought_percentage = (drought_counts / len(sswei_results) * 100).round(1)\n",
    "print(\"Percentage of each drought classification:\")\n",
    "for classification, percentage in drought_percentage.items():\n",
    "    print(f\"{classification}: {percentage}%\")"
   ]
  },
  {
   "cell_type": "markdown",
   "metadata": {},
   "source": [
    "## 9. Identify Drought Years\n",
    "\n",
    "Let's identify the years with drought conditions."
   ]
  },
  {
   "cell_type": "code",
   "execution_count": null,
   "metadata": {},
   "outputs": [],
   "source": [
    "# Filter for drought years (SWEI < -0.5)\n",
    "drought_years = sswei_results[sswei_results['SWEI'] < -0.5]\n",
    "\n",
    "# Sort by SWEI to see the most severe droughts first\n",
    "drought_years = drought_years.sort_values('SWEI')\n",
    "\n",
    "# Display drought years\n",
    "print(\"Years with drought conditions (SWEI < -0.5):\")\n",
    "drought_years[['season_year', 'SWEI', 'Drought_Classification']]"
   ]
  },
  {
   "cell_type": "markdown",
   "metadata": {},
   "source": [
    "## 10. Save SSWEI Results\n",
    "\n",
    "Finally, let's save the SSWEI results for future analysis."
   ]
  },
  {
   "cell_type": "code",
   "execution_count": null,
   "metadata": {},
   "outputs": [],
   "source": [
    "# Save SSWEI results to CSV\n",
    "sswei_results.to_csv('../data/processed/sswei_results.csv', index=False)\n",
    "\n",
    "print(\"SSWEI results saved to '../data/processed/sswei_results.csv'\")"
   ]
  },
  {
   "cell_type": "markdown",
   "metadata": {},
   "source": [
    "## 11. Summary\n",
    "\n",
    "In this notebook, we've demonstrated the SSWEI calculation workflow for the Snow Drought Index package. We've loaded gap-filled SWE data, calculated daily mean SWE values, prepared seasonal data, calculated the SSWEI, classified drought conditions, and analyzed the results.\n",
    "\n",
    "The workflow uses the following key functions from the `sswei` module:\n",
    "- `prepare_season_data()` for filtering complete snow seasons\n",
    "- `calculate_seasonal_integration()` for integrating SWE values over the season\n",
    "- `calculate_sswei()` for calculating SSWEI values and classifying drought conditions\n",
    "- `plot_sswei()` for visualizing SSWEI values with drought classification thresholds\n",
    "\n",
    "These functions provide a standardized and reusable way to calculate the SSWEI and classify drought conditions based on SWE data."
   ]
  }
 ],
 "metadata": {
  "kernelspec": {
   "display_name": "Python 3",
   "language": "python",
   "name": "python3"
  },
  "language_info": {
   "codemirror_mode": {
    "name": "ipython",
    "version": 3
   },
   "file_extension": ".py",
   "mimetype": "text/x-python",
   "name": "python",
   "nbconvert_exporter": "python",
   "pygments_lexer": "ipython3",
   "version": "3.8.5"
  }
 },
 "nbformat": 4,
 "nbformat_minor": 4
}
