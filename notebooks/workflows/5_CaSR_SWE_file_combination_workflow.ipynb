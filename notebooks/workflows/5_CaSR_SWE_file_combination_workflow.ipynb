{
 "cells": [
  {
   "cell_type": "markdown",
   "metadata": {},
   "source": [
    "# CaSR SWE File Combination Workflow\n",
    "\n",
    "This notebook demonstrates how to combine NetCDF files from the CaSR SWE dataset using the `combine_casr_swe_files.py` script. The CaSR dataset contains files organized by variable types, spatial regions, and time periods that can be combined in different ways:\n",
    "\n",
    "1. **Temporal combination**: Combine files across time periods\n",
    "2. **Spatial combination**: Combine files across spatial regions  \n",
    "3. **Full combination**: Combine both temporal and spatial dimensions\n",
    "\n",
    "The CaSR SWE dataset includes:\n",
    "- **Variable types**: A_PR24_SFC (precipitation) and P_SWE_LAND (snow water equivalent)\n",
    "- **Spatial regions**: Different rlon/rlat coordinate ranges\n",
    "- **Time periods**: 4-year chunks from 1980-2023"
   ]
  },
  {
   "cell_type": "markdown",
   "metadata": {},
   "source": [
    "## Setup and Imports\n",
    "\n",
    "**Note**: If you encounter NumPy compatibility errors, please run one of the following commands in your terminal before running this notebook:\n",
    "\n",
    "**Option 1 (Recommended)**: Install from requirements file\n",
    "```bash\n",
    "pip install -r requirements_notebook.txt\n",
    "```\n",
    "\n",
    "**Option 2**: Manual installation with compatible versions\n",
    "```bash\n",
    "pip install \"numpy<2\" xarray pandas matplotlib netcdf4\n",
    "```\n",
    "\n",
    "**Option 3**: Using conda\n",
    "```bash\n",
    "conda install numpy=1.26 xarray pandas matplotlib netcdf4\n",
    "```\n",
    "\n",
    "**Option 4**: Create a new environment with compatible versions\n",
    "```bash\n",
    "conda create -n snowdrought python=3.9 numpy=1.26 xarray pandas matplotlib netcdf4 jupyter\n",
    "conda activate snowdrought\n",
    "```"
   ]
  },
  {
   "cell_type": "code",
   "execution_count": 1,
   "metadata": {},
   "outputs": [
    {
     "name": "stdout",
     "output_type": "stream",
     "text": [
      "NumPy version: 1.26.0\n",
      "xarray version: 2025.6.1\n",
      "pandas version: 2.1.1\n",
      "matplotlib version: 3.8.0\n",
      "Successfully imported CaSRFileCombiner\n"
     ]
    }
   ],
   "source": [
    "# Check for NumPy compatibility issues\n",
    "import warnings\n",
    "warnings.filterwarnings('ignore', category=UserWarning, module='numpy')\n",
    "\n",
    "# Import required packages\n",
    "import sys\n",
    "import os\n",
    "from pathlib import Path\n",
    "\n",
    "# Handle NumPy compatibility\n",
    "try:\n",
    "    import numpy as np\n",
    "    print(f\"NumPy version: {np.__version__}\")\n",
    "except ImportError as e:\n",
    "    print(f\"NumPy import error: {e}\")\n",
    "    print(\"Please install NumPy: pip install numpy\")\n",
    "\n",
    "# Import data science packages with error handling\n",
    "try:\n",
    "    import xarray as xr\n",
    "    print(f\"xarray version: {xr.__version__}\")\n",
    "except ImportError as e:\n",
    "    print(f\"xarray import error: {e}\")\n",
    "    print(\"If you encounter NumPy compatibility issues, try:\")\n",
    "    print(\"  pip install 'numpy<2' xarray pandas matplotlib\")\n",
    "    print(\"  or\")\n",
    "    print(\"  conda install numpy=1.26 xarray pandas matplotlib\")\n",
    "    raise\n",
    "\n",
    "try:\n",
    "    import pandas as pd\n",
    "    print(f\"pandas version: {pd.__version__}\")\n",
    "except ImportError as e:\n",
    "    print(f\"pandas import error: {e}\")\n",
    "    raise\n",
    "\n",
    "try:\n",
    "    import matplotlib.pyplot as plt\n",
    "    print(f\"matplotlib version: {plt.matplotlib.__version__}\")\n",
    "except ImportError as e:\n",
    "    print(f\"matplotlib import error: {e}\")\n",
    "    raise\n",
    "\n",
    "# Add the project root to Python path to import the combine script\n",
    "project_root = Path().cwd().parent.parent\n",
    "sys.path.append(str(project_root))\n",
    "\n",
    "# Import the CaSR file combiner\n",
    "try:\n",
    "    from combine_casr_swe_files import CaSRFileCombiner\n",
    "    print(\"Successfully imported CaSRFileCombiner\")\n",
    "except ImportError as e:\n",
    "    print(f\"Error importing CaSRFileCombiner: {e}\")\n",
    "    print(\"Make sure combine_casr_swe_files.py is in the project root directory\")\n",
    "    raise"
   ]
  },
  {
   "cell_type": "markdown",
   "metadata": {},
   "source": [
    "## Configuration\n",
    "\n",
    "Set up the input and output directories for your CaSR SWE data files."
   ]
  },
  {
   "cell_type": "code",
   "execution_count": 2,
   "metadata": {},
   "outputs": [
    {
     "name": "stdout",
     "output_type": "stream",
     "text": [
      "Input directory: c:\\Users\\walimunige.rupasingh\\OneDrive - University of Calgary\\Documents\\GitHub\\snowdroughtindex-main\\data\\input_data\\CaSR_SWE\n",
      "Output directory: c:\\Users\\walimunige.rupasingh\\OneDrive - University of Calgary\\Documents\\GitHub\\snowdroughtindex-main\\data\\output_data\\combined_casr\n",
      "Input directory exists: True\n"
     ]
    }
   ],
   "source": [
    "# Define data paths - modify these paths according to your data location\n",
    "input_dir = r\"data/input_data/CaSR_SWE\"  # Directory containing CaSR NetCDF files\n",
    "output_dir = r\"data/output_data/combined_casr\"  # Directory for combined output files\n",
    "\n",
    "# Create absolute paths\n",
    "input_path = project_root / input_dir\n",
    "output_path = project_root / output_dir\n",
    "\n",
    "print(f\"Input directory: {input_path}\")\n",
    "print(f\"Output directory: {output_path}\")\n",
    "print(f\"Input directory exists: {input_path.exists()}\")"
   ]
  },
  {
   "cell_type": "markdown",
   "metadata": {},
   "source": [
    "## Initialize the CaSR File Combiner\n",
    "\n",
    "Create an instance of the `CaSRFileCombiner` class with your input and output directories."
   ]
  },
  {
   "cell_type": "code",
   "execution_count": 3,
   "metadata": {},
   "outputs": [
    {
     "name": "stderr",
     "output_type": "stream",
     "text": [
      "2025-06-25 05:25:21,979 - INFO - Input directory: c:\\Users\\walimunige.rupasingh\\OneDrive - University of Calgary\\Documents\\GitHub\\snowdroughtindex-main\\data\\input_data\\CaSR_SWE\n",
      "2025-06-25 05:25:21,980 - INFO - Output directory: c:\\Users\\walimunige.rupasingh\\OneDrive - University of Calgary\\Documents\\GitHub\\snowdroughtindex-main\\data\\output_data\\combined_casr\n"
     ]
    }
   ],
   "source": [
    "# Initialize the file combiner\n",
    "combiner = CaSRFileCombiner(input_dir=str(input_path), output_dir=str(output_path))"
   ]
  },
  {
   "cell_type": "markdown",
   "metadata": {},
   "source": [
    "## Explore Dataset Information\n",
    "\n",
    "Before combining files, let's examine what data is available in the input directory."
   ]
  },
  {
   "cell_type": "code",
   "execution_count": 4,
   "metadata": {},
   "outputs": [
    {
     "name": "stderr",
     "output_type": "stream",
     "text": [
      "2025-06-25 05:25:28,829 - INFO - Found 1 file groups:\n",
      "2025-06-25 05:25:28,830 - INFO -   P_SWE_LAND: 44 files\n"
     ]
    },
    {
     "name": "stdout",
     "output_type": "stream",
     "text": [
      "\n",
      "============================================================\n",
      "CASR SWE DATASET INFORMATION\n",
      "============================================================\n",
      "\n",
      "Group: P_SWE_LAND\n",
      "Number of files: 44\n",
      "Time coverage: 1980-2023\n",
      "Spatial regions: 4\n",
      "  rlon 211-245, rlat 386-420\n",
      "  rlon 211-245, rlat 421-455\n",
      "  rlon 246-280, rlat 386-420\n",
      "  rlon 246-280, rlat 421-455\n",
      "Variables: ['rotated_pole', 'CaSR_v3.1_P_SWE_LAND']\n",
      "Dimensions: {'time': 35064, 'rlat': 35, 'rlon': 35}\n"
     ]
    }
   ],
   "source": [
    "# Get information about the available datasets\n",
    "combiner.get_dataset_info()"
   ]
  },
  {
   "cell_type": "markdown",
   "metadata": {},
   "source": [
    "## Examine File Groups\n",
    "\n",
    "Let's look at how the files are grouped by variable type."
   ]
  },
  {
   "cell_type": "code",
   "execution_count": 5,
   "metadata": {},
   "outputs": [
    {
     "name": "stderr",
     "output_type": "stream",
     "text": [
      "2025-06-25 05:25:53,336 - INFO - Found 1 file groups:\n",
      "2025-06-25 05:25:53,338 - INFO -   P_SWE_LAND: 44 files\n"
     ]
    },
    {
     "name": "stdout",
     "output_type": "stream",
     "text": [
      "Available file groups:\n",
      "\n",
      "P_SWE_LAND: 44 files\n",
      "  1. CaSR_v3.1_P_SWE_LAND_rlon211-245_rlat386-420_1980-1983.nc\n",
      "  2. CaSR_v3.1_P_SWE_LAND_rlon211-245_rlat386-420_1984-1987.nc\n",
      "  3. CaSR_v3.1_P_SWE_LAND_rlon211-245_rlat386-420_1988-1991.nc\n",
      "  ... and 41 more files\n"
     ]
    }
   ],
   "source": [
    "# Get file groups\n",
    "file_groups = combiner.get_file_groups()\n",
    "\n",
    "print(\"Available file groups:\")\n",
    "for group_name, files in file_groups.items():\n",
    "    print(f\"\\n{group_name}: {len(files)} files\")\n",
    "    \n",
    "    # Show first few filenames as examples\n",
    "    for i, file_path in enumerate(files[:3]):\n",
    "        filename = Path(file_path).name\n",
    "        print(f\"  {i+1}. {filename}\")\n",
    "    \n",
    "    if len(files) > 3:\n",
    "        print(f\"  ... and {len(files) - 3} more files\")"
   ]
  },
  {
   "cell_type": "markdown",
   "metadata": {},
   "source": [
    "## Example: Parse Individual Filenames\n",
    "\n",
    "Let's examine how the filename parsing works for understanding the file structure."
   ]
  },
  {
   "cell_type": "code",
   "execution_count": 6,
   "metadata": {},
   "outputs": [
    {
     "name": "stdout",
     "output_type": "stream",
     "text": [
      "Sample filename: CaSR_v3.1_P_SWE_LAND_rlon211-245_rlat386-420_1980-1983.nc\n",
      "\n",
      "Parsed information:\n",
      "  version: v3.1\n",
      "  variable: P_SWE_LAND\n",
      "  surface: LAND\n",
      "  rlon_range: rlon211-245\n",
      "  rlat_range: rlat386-420\n",
      "  time_range: 1980-1983\n",
      "  rlon_start: 211\n",
      "  rlon_end: 245\n",
      "  rlat_start: 386\n",
      "  rlat_end: 420\n",
      "  year_start: 1980\n",
      "  year_end: 1983\n"
     ]
    }
   ],
   "source": [
    "# Get a sample file and parse its filename\n",
    "if file_groups:\n",
    "    # Get the first file from the first group\n",
    "    first_group = list(file_groups.keys())[0]\n",
    "    sample_file = file_groups[first_group][0]\n",
    "    sample_filename = Path(sample_file).name\n",
    "    \n",
    "    print(f\"Sample filename: {sample_filename}\")\n",
    "    \n",
    "    # Parse the filename\n",
    "    parsed_info = combiner.parse_filename(sample_filename)\n",
    "    \n",
    "    print(\"\\nParsed information:\")\n",
    "    for key, value in parsed_info.items():\n",
    "        print(f\"  {key}: {value}\")\n",
    "else:\n",
    "    print(\"No files found in the input directory. Please check your input path.\")"
   ]
  },
  {
   "cell_type": "markdown",
   "metadata": {},
   "source": [
    "## Combination Options\n",
    "\n",
    "Now let's demonstrate the different ways to combine the CaSR files."
   ]
  },
  {
   "cell_type": "markdown",
   "metadata": {},
   "source": [
    "### Option 1: Temporal Combination Only\n",
    "\n",
    "Combine files across time periods while keeping spatial regions separate."
   ]
  },
  {
   "cell_type": "code",
   "execution_count": 7,
   "metadata": {},
   "outputs": [
    {
     "name": "stderr",
     "output_type": "stream",
     "text": [
      "2025-06-25 05:26:23,377 - INFO - Found 1 file groups:\n",
      "2025-06-25 05:26:23,378 - INFO -   P_SWE_LAND: 44 files\n",
      "2025-06-25 05:26:23,380 - INFO - \n",
      "Processing group: P_SWE_LAND\n",
      "2025-06-25 05:26:23,383 - INFO - Combining 11 files temporally...\n",
      "2025-06-25 05:26:23,385 - INFO -   Loading: CaSR_v3.1_P_SWE_LAND_rlon211-245_rlat386-420_1980-1983.nc\n",
      "2025-06-25 05:26:23,406 - INFO -   Loading: CaSR_v3.1_P_SWE_LAND_rlon211-245_rlat386-420_1984-1987.nc\n",
      "2025-06-25 05:26:23,421 - INFO -   Loading: CaSR_v3.1_P_SWE_LAND_rlon211-245_rlat386-420_1988-1991.nc\n",
      "2025-06-25 05:26:23,438 - INFO -   Loading: CaSR_v3.1_P_SWE_LAND_rlon211-245_rlat386-420_1992-1995.nc\n",
      "2025-06-25 05:26:23,455 - INFO -   Loading: CaSR_v3.1_P_SWE_LAND_rlon211-245_rlat386-420_1996-1999.nc\n",
      "2025-06-25 05:26:23,472 - INFO -   Loading: CaSR_v3.1_P_SWE_LAND_rlon211-245_rlat386-420_2000-2003.nc\n",
      "2025-06-25 05:26:23,489 - INFO -   Loading: CaSR_v3.1_P_SWE_LAND_rlon211-245_rlat386-420_2004-2007.nc\n",
      "2025-06-25 05:26:23,504 - INFO -   Loading: CaSR_v3.1_P_SWE_LAND_rlon211-245_rlat386-420_2008-2011.nc\n",
      "2025-06-25 05:26:23,520 - INFO -   Loading: CaSR_v3.1_P_SWE_LAND_rlon211-245_rlat386-420_2012-2015.nc\n",
      "2025-06-25 05:26:23,538 - INFO -   Loading: CaSR_v3.1_P_SWE_LAND_rlon211-245_rlat386-420_2016-2019.nc\n",
      "2025-06-25 05:26:23,555 - INFO -   Loading: CaSR_v3.1_P_SWE_LAND_rlon211-245_rlat386-420_2020-2023.nc\n"
     ]
    },
    {
     "name": "stdout",
     "output_type": "stream",
     "text": [
      "Performing temporal combination (keeping spatial regions separate)...\n"
     ]
    },
    {
     "name": "stderr",
     "output_type": "stream",
     "text": [
      "2025-06-25 05:26:23,571 - INFO -   Concatenating datasets...\n",
      "2025-06-25 05:26:31,120 - INFO -   Saving to: c:\\Users\\walimunige.rupasingh\\OneDrive - University of Calgary\\Documents\\GitHub\\snowdroughtindex-main\\data\\output_data\\combined_casr\\CaSR_v3.1_P_SWE_LAND_rlon211-245_rlat386-420_temporal_combined.nc\n",
      "2025-06-25 05:26:41,014 - INFO -   Successfully saved combined file: c:\\Users\\walimunige.rupasingh\\OneDrive - University of Calgary\\Documents\\GitHub\\snowdroughtindex-main\\data\\output_data\\combined_casr\\CaSR_v3.1_P_SWE_LAND_rlon211-245_rlat386-420_temporal_combined.nc\n",
      "2025-06-25 05:26:41,147 - INFO - Combining 11 files temporally...\n",
      "2025-06-25 05:26:41,164 - INFO -   Loading: CaSR_v3.1_P_SWE_LAND_rlon211-245_rlat421-455_1980-1983.nc\n",
      "2025-06-25 05:26:41,185 - INFO -   Loading: CaSR_v3.1_P_SWE_LAND_rlon211-245_rlat421-455_1984-1987.nc\n",
      "2025-06-25 05:26:41,208 - INFO -   Loading: CaSR_v3.1_P_SWE_LAND_rlon211-245_rlat421-455_1988-1991.nc\n",
      "2025-06-25 05:26:41,231 - INFO -   Loading: CaSR_v3.1_P_SWE_LAND_rlon211-245_rlat421-455_1992-1995.nc\n",
      "2025-06-25 05:26:41,253 - INFO -   Loading: CaSR_v3.1_P_SWE_LAND_rlon211-245_rlat421-455_1996-1999.nc\n",
      "2025-06-25 05:26:41,275 - INFO -   Loading: CaSR_v3.1_P_SWE_LAND_rlon211-245_rlat421-455_2000-2003.nc\n",
      "2025-06-25 05:26:41,294 - INFO -   Loading: CaSR_v3.1_P_SWE_LAND_rlon211-245_rlat421-455_2004-2007.nc\n",
      "2025-06-25 05:26:41,315 - INFO -   Loading: CaSR_v3.1_P_SWE_LAND_rlon211-245_rlat421-455_2008-2011.nc\n",
      "2025-06-25 05:26:41,336 - INFO -   Loading: CaSR_v3.1_P_SWE_LAND_rlon211-245_rlat421-455_2012-2015.nc\n",
      "2025-06-25 05:26:41,356 - INFO -   Loading: CaSR_v3.1_P_SWE_LAND_rlon211-245_rlat421-455_2016-2019.nc\n",
      "2025-06-25 05:26:41,378 - INFO -   Loading: CaSR_v3.1_P_SWE_LAND_rlon211-245_rlat421-455_2020-2023.nc\n",
      "2025-06-25 05:26:41,398 - INFO -   Concatenating datasets...\n",
      "2025-06-25 05:26:49,481 - INFO -   Saving to: c:\\Users\\walimunige.rupasingh\\OneDrive - University of Calgary\\Documents\\GitHub\\snowdroughtindex-main\\data\\output_data\\combined_casr\\CaSR_v3.1_P_SWE_LAND_rlon211-245_rlat421-455_temporal_combined.nc\n",
      "2025-06-25 05:27:06,142 - INFO -   Successfully saved combined file: c:\\Users\\walimunige.rupasingh\\OneDrive - University of Calgary\\Documents\\GitHub\\snowdroughtindex-main\\data\\output_data\\combined_casr\\CaSR_v3.1_P_SWE_LAND_rlon211-245_rlat421-455_temporal_combined.nc\n",
      "2025-06-25 05:27:06,284 - INFO - Combining 11 files temporally...\n",
      "2025-06-25 05:27:06,286 - INFO -   Loading: CaSR_v3.1_P_SWE_LAND_rlon246-280_rlat386-420_1980-1983.nc\n",
      "2025-06-25 05:27:06,290 - INFO -   Loading: CaSR_v3.1_P_SWE_LAND_rlon246-280_rlat386-420_1984-1987.nc\n",
      "2025-06-25 05:27:06,323 - INFO -   Loading: CaSR_v3.1_P_SWE_LAND_rlon246-280_rlat386-420_1988-1991.nc\n",
      "2025-06-25 05:27:06,340 - INFO -   Loading: CaSR_v3.1_P_SWE_LAND_rlon246-280_rlat386-420_1992-1995.nc\n",
      "2025-06-25 05:27:06,359 - INFO -   Loading: CaSR_v3.1_P_SWE_LAND_rlon246-280_rlat386-420_1996-1999.nc\n",
      "2025-06-25 05:27:06,376 - INFO -   Loading: CaSR_v3.1_P_SWE_LAND_rlon246-280_rlat386-420_2000-2003.nc\n",
      "2025-06-25 05:27:06,394 - INFO -   Loading: CaSR_v3.1_P_SWE_LAND_rlon246-280_rlat386-420_2004-2007.nc\n",
      "2025-06-25 05:27:06,412 - INFO -   Loading: CaSR_v3.1_P_SWE_LAND_rlon246-280_rlat386-420_2008-2011.nc\n",
      "2025-06-25 05:27:06,430 - INFO -   Loading: CaSR_v3.1_P_SWE_LAND_rlon246-280_rlat386-420_2012-2015.nc\n",
      "2025-06-25 05:27:06,447 - INFO -   Loading: CaSR_v3.1_P_SWE_LAND_rlon246-280_rlat386-420_2016-2019.nc\n",
      "2025-06-25 05:27:06,464 - INFO -   Loading: CaSR_v3.1_P_SWE_LAND_rlon246-280_rlat386-420_2020-2023.nc\n",
      "2025-06-25 05:27:06,482 - INFO -   Concatenating datasets...\n",
      "2025-06-25 05:27:14,629 - INFO -   Saving to: c:\\Users\\walimunige.rupasingh\\OneDrive - University of Calgary\\Documents\\GitHub\\snowdroughtindex-main\\data\\output_data\\combined_casr\\CaSR_v3.1_P_SWE_LAND_rlon246-280_rlat386-420_temporal_combined.nc\n",
      "2025-06-25 05:27:34,685 - INFO -   Successfully saved combined file: c:\\Users\\walimunige.rupasingh\\OneDrive - University of Calgary\\Documents\\GitHub\\snowdroughtindex-main\\data\\output_data\\combined_casr\\CaSR_v3.1_P_SWE_LAND_rlon246-280_rlat386-420_temporal_combined.nc\n",
      "2025-06-25 05:27:34,852 - INFO - Combining 11 files temporally...\n",
      "2025-06-25 05:27:34,859 - INFO -   Loading: CaSR_v3.1_P_SWE_LAND_rlon246-280_rlat421-455_1980-1983.nc\n",
      "2025-06-25 05:27:34,876 - INFO -   Loading: CaSR_v3.1_P_SWE_LAND_rlon246-280_rlat421-455_1984-1987.nc\n",
      "2025-06-25 05:27:34,895 - INFO -   Loading: CaSR_v3.1_P_SWE_LAND_rlon246-280_rlat421-455_1988-1991.nc\n",
      "2025-06-25 05:27:34,911 - INFO -   Loading: CaSR_v3.1_P_SWE_LAND_rlon246-280_rlat421-455_1992-1995.nc\n",
      "2025-06-25 05:27:34,929 - INFO -   Loading: CaSR_v3.1_P_SWE_LAND_rlon246-280_rlat421-455_1996-1999.nc\n",
      "2025-06-25 05:27:34,993 - INFO -   Loading: CaSR_v3.1_P_SWE_LAND_rlon246-280_rlat421-455_2000-2003.nc\n",
      "2025-06-25 05:27:35,013 - INFO -   Loading: CaSR_v3.1_P_SWE_LAND_rlon246-280_rlat421-455_2004-2007.nc\n",
      "2025-06-25 05:27:35,032 - INFO -   Loading: CaSR_v3.1_P_SWE_LAND_rlon246-280_rlat421-455_2008-2011.nc\n",
      "2025-06-25 05:27:35,052 - INFO -   Loading: CaSR_v3.1_P_SWE_LAND_rlon246-280_rlat421-455_2012-2015.nc\n",
      "2025-06-25 05:27:35,070 - INFO -   Loading: CaSR_v3.1_P_SWE_LAND_rlon246-280_rlat421-455_2016-2019.nc\n",
      "2025-06-25 05:27:35,087 - INFO -   Loading: CaSR_v3.1_P_SWE_LAND_rlon246-280_rlat421-455_2020-2023.nc\n",
      "2025-06-25 05:27:35,104 - INFO -   Concatenating datasets...\n",
      "2025-06-25 05:27:43,268 - INFO -   Saving to: c:\\Users\\walimunige.rupasingh\\OneDrive - University of Calgary\\Documents\\GitHub\\snowdroughtindex-main\\data\\output_data\\combined_casr\\CaSR_v3.1_P_SWE_LAND_rlon246-280_rlat421-455_temporal_combined.nc\n",
      "2025-06-25 05:28:10,550 - INFO -   Successfully saved combined file: c:\\Users\\walimunige.rupasingh\\OneDrive - University of Calgary\\Documents\\GitHub\\snowdroughtindex-main\\data\\output_data\\combined_casr\\CaSR_v3.1_P_SWE_LAND_rlon246-280_rlat421-455_temporal_combined.nc\n"
     ]
    },
    {
     "name": "stdout",
     "output_type": "stream",
     "text": [
      "Temporal combination completed!\n"
     ]
    }
   ],
   "source": [
    "# Temporal combination only\n",
    "print(\"Performing temporal combination (keeping spatial regions separate)...\")\n",
    "combiner.combine_by_variable(combine_spatial=False, combine_temporal=True)\n",
    "print(\"Temporal combination completed!\")"
   ]
  },
  {
   "cell_type": "markdown",
   "metadata": {},
   "source": [
    "### Option 2: Spatial Combination Only\n",
    "\n",
    "Combine files across spatial regions while keeping time periods separate."
   ]
  },
  {
   "cell_type": "code",
   "execution_count": 8,
   "metadata": {},
   "outputs": [
    {
     "name": "stderr",
     "output_type": "stream",
     "text": [
      "2025-06-25 05:28:17,483 - INFO - Found 1 file groups:\n",
      "2025-06-25 05:28:17,485 - INFO -   P_SWE_LAND: 44 files\n",
      "2025-06-25 05:28:17,485 - INFO - \n",
      "Processing group: P_SWE_LAND\n",
      "2025-06-25 05:28:17,485 - INFO - Combining 4 files spatially...\n",
      "2025-06-25 05:28:17,485 - INFO -   Processing time period: 1980-1983\n",
      "2025-06-25 05:28:17,496 - INFO -     Loading: CaSR_v3.1_P_SWE_LAND_rlon211-245_rlat386-420_1980-1983.nc\n",
      "2025-06-25 05:28:17,516 - INFO -     Loading: CaSR_v3.1_P_SWE_LAND_rlon211-245_rlat421-455_1980-1983.nc\n",
      "2025-06-25 05:28:17,531 - INFO -     Loading: CaSR_v3.1_P_SWE_LAND_rlon246-280_rlat386-420_1980-1983.nc\n",
      "2025-06-25 05:28:17,546 - INFO -     Loading: CaSR_v3.1_P_SWE_LAND_rlon246-280_rlat421-455_1980-1983.nc\n",
      "2025-06-25 05:28:17,563 - INFO -     Combining 4 spatial regions...\n"
     ]
    },
    {
     "name": "stdout",
     "output_type": "stream",
     "text": [
      "Performing spatial combination (keeping time periods separate)...\n"
     ]
    },
    {
     "name": "stderr",
     "output_type": "stream",
     "text": [
      "2025-06-25 05:28:20,680 - INFO -   Combining all time periods...\n",
      "2025-06-25 05:28:22,046 - INFO -   Saving to: c:\\Users\\walimunige.rupasingh\\OneDrive - University of Calgary\\Documents\\GitHub\\snowdroughtindex-main\\data\\output_data\\combined_casr\\CaSR_v3.1_P_SWE_LAND_1980-1983_spatial_combined.nc\n",
      "2025-06-25 05:28:25,279 - INFO -   Successfully saved spatially combined file: c:\\Users\\walimunige.rupasingh\\OneDrive - University of Calgary\\Documents\\GitHub\\snowdroughtindex-main\\data\\output_data\\combined_casr\\CaSR_v3.1_P_SWE_LAND_1980-1983_spatial_combined.nc\n",
      "2025-06-25 05:28:25,430 - INFO - Combining 4 files spatially...\n",
      "2025-06-25 05:28:25,430 - INFO -   Processing time period: 1984-1987\n",
      "2025-06-25 05:28:25,430 - INFO -     Loading: CaSR_v3.1_P_SWE_LAND_rlon211-245_rlat386-420_1984-1987.nc\n",
      "2025-06-25 05:28:25,444 - INFO -     Loading: CaSR_v3.1_P_SWE_LAND_rlon211-245_rlat421-455_1984-1987.nc\n",
      "2025-06-25 05:28:25,464 - INFO -     Loading: CaSR_v3.1_P_SWE_LAND_rlon246-280_rlat386-420_1984-1987.nc\n",
      "2025-06-25 05:28:25,488 - INFO -     Loading: CaSR_v3.1_P_SWE_LAND_rlon246-280_rlat421-455_1984-1987.nc\n",
      "2025-06-25 05:28:25,502 - INFO -     Combining 4 spatial regions...\n",
      "2025-06-25 05:28:28,663 - INFO -   Combining all time periods...\n",
      "2025-06-25 05:28:30,079 - INFO -   Saving to: c:\\Users\\walimunige.rupasingh\\OneDrive - University of Calgary\\Documents\\GitHub\\snowdroughtindex-main\\data\\output_data\\combined_casr\\CaSR_v3.1_P_SWE_LAND_1984-1987_spatial_combined.nc\n",
      "2025-06-25 05:28:33,276 - INFO -   Successfully saved spatially combined file: c:\\Users\\walimunige.rupasingh\\OneDrive - University of Calgary\\Documents\\GitHub\\snowdroughtindex-main\\data\\output_data\\combined_casr\\CaSR_v3.1_P_SWE_LAND_1984-1987_spatial_combined.nc\n",
      "2025-06-25 05:28:33,425 - INFO - Combining 4 files spatially...\n",
      "2025-06-25 05:28:33,427 - INFO -   Processing time period: 1988-1991\n",
      "2025-06-25 05:28:33,428 - INFO -     Loading: CaSR_v3.1_P_SWE_LAND_rlon211-245_rlat386-420_1988-1991.nc\n",
      "2025-06-25 05:28:33,443 - INFO -     Loading: CaSR_v3.1_P_SWE_LAND_rlon211-245_rlat421-455_1988-1991.nc\n",
      "2025-06-25 05:28:33,450 - INFO -     Loading: CaSR_v3.1_P_SWE_LAND_rlon246-280_rlat386-420_1988-1991.nc\n",
      "2025-06-25 05:28:33,466 - INFO -     Loading: CaSR_v3.1_P_SWE_LAND_rlon246-280_rlat421-455_1988-1991.nc\n",
      "2025-06-25 05:28:33,485 - INFO -     Combining 4 spatial regions...\n",
      "2025-06-25 05:28:36,642 - INFO -   Combining all time periods...\n",
      "2025-06-25 05:28:38,008 - INFO -   Saving to: c:\\Users\\walimunige.rupasingh\\OneDrive - University of Calgary\\Documents\\GitHub\\snowdroughtindex-main\\data\\output_data\\combined_casr\\CaSR_v3.1_P_SWE_LAND_1988-1991_spatial_combined.nc\n",
      "2025-06-25 05:28:41,176 - INFO -   Successfully saved spatially combined file: c:\\Users\\walimunige.rupasingh\\OneDrive - University of Calgary\\Documents\\GitHub\\snowdroughtindex-main\\data\\output_data\\combined_casr\\CaSR_v3.1_P_SWE_LAND_1988-1991_spatial_combined.nc\n",
      "2025-06-25 05:28:41,325 - INFO - Combining 4 files spatially...\n",
      "2025-06-25 05:28:41,325 - INFO -   Processing time period: 1992-1995\n",
      "2025-06-25 05:28:41,325 - INFO -     Loading: CaSR_v3.1_P_SWE_LAND_rlon211-245_rlat386-420_1992-1995.nc\n",
      "2025-06-25 05:28:41,341 - INFO -     Loading: CaSR_v3.1_P_SWE_LAND_rlon211-245_rlat421-455_1992-1995.nc\n",
      "2025-06-25 05:28:41,363 - INFO -     Loading: CaSR_v3.1_P_SWE_LAND_rlon246-280_rlat386-420_1992-1995.nc\n",
      "2025-06-25 05:28:41,381 - INFO -     Loading: CaSR_v3.1_P_SWE_LAND_rlon246-280_rlat421-455_1992-1995.nc\n",
      "2025-06-25 05:28:41,395 - INFO -     Combining 4 spatial regions...\n",
      "2025-06-25 05:28:44,601 - INFO -   Combining all time periods...\n",
      "2025-06-25 05:28:45,991 - INFO -   Saving to: c:\\Users\\walimunige.rupasingh\\OneDrive - University of Calgary\\Documents\\GitHub\\snowdroughtindex-main\\data\\output_data\\combined_casr\\CaSR_v3.1_P_SWE_LAND_1992-1995_spatial_combined.nc\n",
      "2025-06-25 05:28:49,391 - INFO -   Successfully saved spatially combined file: c:\\Users\\walimunige.rupasingh\\OneDrive - University of Calgary\\Documents\\GitHub\\snowdroughtindex-main\\data\\output_data\\combined_casr\\CaSR_v3.1_P_SWE_LAND_1992-1995_spatial_combined.nc\n",
      "2025-06-25 05:28:49,525 - INFO - Combining 4 files spatially...\n",
      "2025-06-25 05:28:49,525 - INFO -   Processing time period: 1996-1999\n",
      "2025-06-25 05:28:49,542 - INFO -     Loading: CaSR_v3.1_P_SWE_LAND_rlon211-245_rlat386-420_1996-1999.nc\n",
      "2025-06-25 05:28:49,542 - INFO -     Loading: CaSR_v3.1_P_SWE_LAND_rlon211-245_rlat421-455_1996-1999.nc\n",
      "2025-06-25 05:28:49,567 - INFO -     Loading: CaSR_v3.1_P_SWE_LAND_rlon246-280_rlat386-420_1996-1999.nc\n",
      "2025-06-25 05:28:49,581 - INFO -     Loading: CaSR_v3.1_P_SWE_LAND_rlon246-280_rlat421-455_1996-1999.nc\n",
      "2025-06-25 05:28:49,593 - INFO -     Combining 4 spatial regions...\n",
      "2025-06-25 05:28:52,941 - INFO -   Combining all time periods...\n",
      "2025-06-25 05:28:54,525 - INFO -   Saving to: c:\\Users\\walimunige.rupasingh\\OneDrive - University of Calgary\\Documents\\GitHub\\snowdroughtindex-main\\data\\output_data\\combined_casr\\CaSR_v3.1_P_SWE_LAND_1996-1999_spatial_combined.nc\n",
      "2025-06-25 05:28:57,775 - INFO -   Successfully saved spatially combined file: c:\\Users\\walimunige.rupasingh\\OneDrive - University of Calgary\\Documents\\GitHub\\snowdroughtindex-main\\data\\output_data\\combined_casr\\CaSR_v3.1_P_SWE_LAND_1996-1999_spatial_combined.nc\n",
      "2025-06-25 05:28:57,927 - INFO - Combining 4 files spatially...\n",
      "2025-06-25 05:28:57,927 - INFO -   Processing time period: 2000-2003\n",
      "2025-06-25 05:28:57,927 - INFO -     Loading: CaSR_v3.1_P_SWE_LAND_rlon211-245_rlat386-420_2000-2003.nc\n",
      "2025-06-25 05:28:57,948 - INFO -     Loading: CaSR_v3.1_P_SWE_LAND_rlon211-245_rlat421-455_2000-2003.nc\n",
      "2025-06-25 05:28:57,967 - INFO -     Loading: CaSR_v3.1_P_SWE_LAND_rlon246-280_rlat386-420_2000-2003.nc\n",
      "2025-06-25 05:28:57,977 - INFO -     Loading: CaSR_v3.1_P_SWE_LAND_rlon246-280_rlat421-455_2000-2003.nc\n",
      "2025-06-25 05:28:57,993 - INFO -     Combining 4 spatial regions...\n",
      "2025-06-25 05:29:01,182 - INFO -   Combining all time periods...\n",
      "2025-06-25 05:29:02,673 - INFO -   Saving to: c:\\Users\\walimunige.rupasingh\\OneDrive - University of Calgary\\Documents\\GitHub\\snowdroughtindex-main\\data\\output_data\\combined_casr\\CaSR_v3.1_P_SWE_LAND_2000-2003_spatial_combined.nc\n",
      "2025-06-25 05:29:05,769 - INFO -   Successfully saved spatially combined file: c:\\Users\\walimunige.rupasingh\\OneDrive - University of Calgary\\Documents\\GitHub\\snowdroughtindex-main\\data\\output_data\\combined_casr\\CaSR_v3.1_P_SWE_LAND_2000-2003_spatial_combined.nc\n",
      "2025-06-25 05:29:05,927 - INFO - Combining 4 files spatially...\n",
      "2025-06-25 05:29:05,931 - INFO -   Processing time period: 2004-2007\n",
      "2025-06-25 05:29:05,931 - INFO -     Loading: CaSR_v3.1_P_SWE_LAND_rlon211-245_rlat386-420_2004-2007.nc\n",
      "2025-06-25 05:29:05,951 - INFO -     Loading: CaSR_v3.1_P_SWE_LAND_rlon211-245_rlat421-455_2004-2007.nc\n",
      "2025-06-25 05:29:05,962 - INFO -     Loading: CaSR_v3.1_P_SWE_LAND_rlon246-280_rlat386-420_2004-2007.nc\n",
      "2025-06-25 05:29:05,984 - INFO -     Loading: CaSR_v3.1_P_SWE_LAND_rlon246-280_rlat421-455_2004-2007.nc\n",
      "2025-06-25 05:29:06,001 - INFO -     Combining 4 spatial regions...\n",
      "2025-06-25 05:29:09,089 - INFO -   Combining all time periods...\n",
      "2025-06-25 05:29:10,723 - INFO -   Saving to: c:\\Users\\walimunige.rupasingh\\OneDrive - University of Calgary\\Documents\\GitHub\\snowdroughtindex-main\\data\\output_data\\combined_casr\\CaSR_v3.1_P_SWE_LAND_2004-2007_spatial_combined.nc\n",
      "2025-06-25 05:29:13,858 - INFO -   Successfully saved spatially combined file: c:\\Users\\walimunige.rupasingh\\OneDrive - University of Calgary\\Documents\\GitHub\\snowdroughtindex-main\\data\\output_data\\combined_casr\\CaSR_v3.1_P_SWE_LAND_2004-2007_spatial_combined.nc\n",
      "2025-06-25 05:29:14,002 - INFO - Combining 4 files spatially...\n",
      "2025-06-25 05:29:14,004 - INFO -   Processing time period: 2008-2011\n",
      "2025-06-25 05:29:14,004 - INFO -     Loading: CaSR_v3.1_P_SWE_LAND_rlon211-245_rlat386-420_2008-2011.nc\n",
      "2025-06-25 05:29:14,020 - INFO -     Loading: CaSR_v3.1_P_SWE_LAND_rlon211-245_rlat421-455_2008-2011.nc\n",
      "2025-06-25 05:29:14,025 - INFO -     Loading: CaSR_v3.1_P_SWE_LAND_rlon246-280_rlat386-420_2008-2011.nc\n",
      "2025-06-25 05:29:14,047 - INFO -     Loading: CaSR_v3.1_P_SWE_LAND_rlon246-280_rlat421-455_2008-2011.nc\n",
      "2025-06-25 05:29:14,059 - INFO -     Combining 4 spatial regions...\n",
      "2025-06-25 05:29:17,204 - INFO -   Combining all time periods...\n",
      "2025-06-25 05:29:18,604 - INFO -   Saving to: c:\\Users\\walimunige.rupasingh\\OneDrive - University of Calgary\\Documents\\GitHub\\snowdroughtindex-main\\data\\output_data\\combined_casr\\CaSR_v3.1_P_SWE_LAND_2008-2011_spatial_combined.nc\n",
      "2025-06-25 05:29:21,720 - INFO -   Successfully saved spatially combined file: c:\\Users\\walimunige.rupasingh\\OneDrive - University of Calgary\\Documents\\GitHub\\snowdroughtindex-main\\data\\output_data\\combined_casr\\CaSR_v3.1_P_SWE_LAND_2008-2011_spatial_combined.nc\n",
      "2025-06-25 05:29:21,901 - INFO - Combining 4 files spatially...\n",
      "2025-06-25 05:29:21,904 - INFO -   Processing time period: 2012-2015\n",
      "2025-06-25 05:29:21,904 - INFO -     Loading: CaSR_v3.1_P_SWE_LAND_rlon211-245_rlat386-420_2012-2015.nc\n",
      "2025-06-25 05:29:21,921 - INFO -     Loading: CaSR_v3.1_P_SWE_LAND_rlon211-245_rlat421-455_2012-2015.nc\n",
      "2025-06-25 05:29:21,935 - INFO -     Loading: CaSR_v3.1_P_SWE_LAND_rlon246-280_rlat386-420_2012-2015.nc\n",
      "2025-06-25 05:29:21,950 - INFO -     Loading: CaSR_v3.1_P_SWE_LAND_rlon246-280_rlat421-455_2012-2015.nc\n",
      "2025-06-25 05:29:21,963 - INFO -     Combining 4 spatial regions...\n",
      "2025-06-25 05:29:25,150 - INFO -   Combining all time periods...\n",
      "2025-06-25 05:29:26,554 - INFO -   Saving to: c:\\Users\\walimunige.rupasingh\\OneDrive - University of Calgary\\Documents\\GitHub\\snowdroughtindex-main\\data\\output_data\\combined_casr\\CaSR_v3.1_P_SWE_LAND_2012-2015_spatial_combined.nc\n",
      "2025-06-25 05:29:29,569 - INFO -   Successfully saved spatially combined file: c:\\Users\\walimunige.rupasingh\\OneDrive - University of Calgary\\Documents\\GitHub\\snowdroughtindex-main\\data\\output_data\\combined_casr\\CaSR_v3.1_P_SWE_LAND_2012-2015_spatial_combined.nc\n",
      "2025-06-25 05:29:29,700 - INFO - Combining 4 files spatially...\n",
      "2025-06-25 05:29:29,700 - INFO -   Processing time period: 2016-2019\n",
      "2025-06-25 05:29:29,700 - INFO -     Loading: CaSR_v3.1_P_SWE_LAND_rlon211-245_rlat386-420_2016-2019.nc\n",
      "2025-06-25 05:29:29,720 - INFO -     Loading: CaSR_v3.1_P_SWE_LAND_rlon211-245_rlat421-455_2016-2019.nc\n",
      "2025-06-25 05:29:29,737 - INFO -     Loading: CaSR_v3.1_P_SWE_LAND_rlon246-280_rlat386-420_2016-2019.nc\n",
      "2025-06-25 05:29:29,752 - INFO -     Loading: CaSR_v3.1_P_SWE_LAND_rlon246-280_rlat421-455_2016-2019.nc\n",
      "2025-06-25 05:29:29,767 - INFO -     Combining 4 spatial regions...\n",
      "2025-06-25 05:29:32,979 - INFO -   Combining all time periods...\n",
      "2025-06-25 05:29:34,450 - INFO -   Saving to: c:\\Users\\walimunige.rupasingh\\OneDrive - University of Calgary\\Documents\\GitHub\\snowdroughtindex-main\\data\\output_data\\combined_casr\\CaSR_v3.1_P_SWE_LAND_2016-2019_spatial_combined.nc\n",
      "2025-06-25 05:29:37,532 - INFO -   Successfully saved spatially combined file: c:\\Users\\walimunige.rupasingh\\OneDrive - University of Calgary\\Documents\\GitHub\\snowdroughtindex-main\\data\\output_data\\combined_casr\\CaSR_v3.1_P_SWE_LAND_2016-2019_spatial_combined.nc\n",
      "2025-06-25 05:29:37,682 - INFO - Combining 4 files spatially...\n",
      "2025-06-25 05:29:37,685 - INFO -   Processing time period: 2020-2023\n",
      "2025-06-25 05:29:37,685 - INFO -     Loading: CaSR_v3.1_P_SWE_LAND_rlon211-245_rlat386-420_2020-2023.nc\n",
      "2025-06-25 05:29:37,701 - INFO -     Loading: CaSR_v3.1_P_SWE_LAND_rlon211-245_rlat421-455_2020-2023.nc\n",
      "2025-06-25 05:29:37,702 - INFO -     Loading: CaSR_v3.1_P_SWE_LAND_rlon246-280_rlat386-420_2020-2023.nc\n",
      "2025-06-25 05:29:37,731 - INFO -     Loading: CaSR_v3.1_P_SWE_LAND_rlon246-280_rlat421-455_2020-2023.nc\n",
      "2025-06-25 05:29:37,735 - INFO -     Combining 4 spatial regions...\n",
      "2025-06-25 05:29:40,855 - INFO -   Combining all time periods...\n",
      "2025-06-25 05:29:42,198 - INFO -   Saving to: c:\\Users\\walimunige.rupasingh\\OneDrive - University of Calgary\\Documents\\GitHub\\snowdroughtindex-main\\data\\output_data\\combined_casr\\CaSR_v3.1_P_SWE_LAND_2020-2023_spatial_combined.nc\n",
      "2025-06-25 05:29:45,301 - INFO -   Successfully saved spatially combined file: c:\\Users\\walimunige.rupasingh\\OneDrive - University of Calgary\\Documents\\GitHub\\snowdroughtindex-main\\data\\output_data\\combined_casr\\CaSR_v3.1_P_SWE_LAND_2020-2023_spatial_combined.nc\n"
     ]
    },
    {
     "name": "stdout",
     "output_type": "stream",
     "text": [
      "Spatial combination completed!\n"
     ]
    }
   ],
   "source": [
    "# Spatial combination only\n",
    "print(\"Performing spatial combination (keeping time periods separate)...\")\n",
    "combiner.combine_by_variable(combine_spatial=True, combine_temporal=False)\n",
    "print(\"Spatial combination completed!\")"
   ]
  },
  {
   "cell_type": "markdown",
   "metadata": {},
   "source": [
    "### Option 3: Full Combination\n",
    "\n",
    "Combine files across both spatial and temporal dimensions to create complete datasets."
   ]
  },
  {
   "cell_type": "code",
   "execution_count": 9,
   "metadata": {},
   "outputs": [
    {
     "name": "stderr",
     "output_type": "stream",
     "text": [
      "2025-06-25 05:29:56,270 - INFO - Found 1 file groups:\n",
      "2025-06-25 05:29:56,270 - INFO -   P_SWE_LAND: 44 files\n",
      "2025-06-25 05:29:56,270 - INFO - \n",
      "Processing group: P_SWE_LAND\n",
      "2025-06-25 05:29:56,280 - INFO - Combining 44 files spatially...\n",
      "2025-06-25 05:29:56,283 - INFO -   Processing time period: 1980-1983\n",
      "2025-06-25 05:29:56,287 - INFO -     Loading: CaSR_v3.1_P_SWE_LAND_rlon211-245_rlat386-420_1980-1983.nc\n",
      "2025-06-25 05:29:56,314 - INFO -     Loading: CaSR_v3.1_P_SWE_LAND_rlon211-245_rlat421-455_1980-1983.nc\n",
      "2025-06-25 05:29:56,341 - INFO -     Loading: CaSR_v3.1_P_SWE_LAND_rlon246-280_rlat386-420_1980-1983.nc\n",
      "2025-06-25 05:29:56,363 - INFO -     Loading: CaSR_v3.1_P_SWE_LAND_rlon246-280_rlat421-455_1980-1983.nc\n",
      "2025-06-25 05:29:56,380 - INFO -     Combining 4 spatial regions...\n"
     ]
    },
    {
     "name": "stdout",
     "output_type": "stream",
     "text": [
      "Performing full combination (both spatial and temporal)...\n"
     ]
    },
    {
     "name": "stderr",
     "output_type": "stream",
     "text": [
      "2025-06-25 05:29:59,512 - INFO -   Processing time period: 1984-1987\n",
      "2025-06-25 05:29:59,512 - INFO -     Loading: CaSR_v3.1_P_SWE_LAND_rlon211-245_rlat386-420_1984-1987.nc\n",
      "2025-06-25 05:29:59,528 - INFO -     Loading: CaSR_v3.1_P_SWE_LAND_rlon211-245_rlat421-455_1984-1987.nc\n",
      "2025-06-25 05:29:59,547 - INFO -     Loading: CaSR_v3.1_P_SWE_LAND_rlon246-280_rlat386-420_1984-1987.nc\n",
      "2025-06-25 05:29:59,566 - INFO -     Loading: CaSR_v3.1_P_SWE_LAND_rlon246-280_rlat421-455_1984-1987.nc\n",
      "2025-06-25 05:29:59,579 - INFO -     Combining 4 spatial regions...\n",
      "2025-06-25 05:30:02,695 - INFO -   Processing time period: 1988-1991\n",
      "2025-06-25 05:30:02,711 - INFO -     Loading: CaSR_v3.1_P_SWE_LAND_rlon211-245_rlat386-420_1988-1991.nc\n",
      "2025-06-25 05:30:02,711 - INFO -     Loading: CaSR_v3.1_P_SWE_LAND_rlon211-245_rlat421-455_1988-1991.nc\n",
      "2025-06-25 05:30:02,731 - INFO -     Loading: CaSR_v3.1_P_SWE_LAND_rlon246-280_rlat386-420_1988-1991.nc\n",
      "2025-06-25 05:30:02,752 - INFO -     Loading: CaSR_v3.1_P_SWE_LAND_rlon246-280_rlat421-455_1988-1991.nc\n",
      "2025-06-25 05:30:02,766 - INFO -     Combining 4 spatial regions...\n",
      "2025-06-25 05:30:05,796 - INFO -   Processing time period: 1992-1995\n",
      "2025-06-25 05:30:05,811 - INFO -     Loading: CaSR_v3.1_P_SWE_LAND_rlon211-245_rlat386-420_1992-1995.nc\n",
      "2025-06-25 05:30:05,811 - INFO -     Loading: CaSR_v3.1_P_SWE_LAND_rlon211-245_rlat421-455_1992-1995.nc\n",
      "2025-06-25 05:30:05,831 - INFO -     Loading: CaSR_v3.1_P_SWE_LAND_rlon246-280_rlat386-420_1992-1995.nc\n",
      "2025-06-25 05:30:05,857 - INFO -     Loading: CaSR_v3.1_P_SWE_LAND_rlon246-280_rlat421-455_1992-1995.nc\n",
      "2025-06-25 05:30:05,867 - INFO -     Combining 4 spatial regions...\n",
      "2025-06-25 05:30:08,973 - INFO -   Processing time period: 1996-1999\n",
      "2025-06-25 05:30:08,973 - INFO -     Loading: CaSR_v3.1_P_SWE_LAND_rlon211-245_rlat386-420_1996-1999.nc\n",
      "2025-06-25 05:30:08,989 - INFO -     Loading: CaSR_v3.1_P_SWE_LAND_rlon211-245_rlat421-455_1996-1999.nc\n",
      "2025-06-25 05:30:09,019 - INFO -     Loading: CaSR_v3.1_P_SWE_LAND_rlon246-280_rlat386-420_1996-1999.nc\n",
      "2025-06-25 05:30:09,032 - INFO -     Loading: CaSR_v3.1_P_SWE_LAND_rlon246-280_rlat421-455_1996-1999.nc\n",
      "2025-06-25 05:30:09,045 - INFO -     Combining 4 spatial regions...\n",
      "2025-06-25 05:30:12,282 - INFO -   Processing time period: 2000-2003\n",
      "2025-06-25 05:30:12,282 - INFO -     Loading: CaSR_v3.1_P_SWE_LAND_rlon211-245_rlat386-420_2000-2003.nc\n",
      "2025-06-25 05:30:12,299 - INFO -     Loading: CaSR_v3.1_P_SWE_LAND_rlon211-245_rlat421-455_2000-2003.nc\n",
      "2025-06-25 05:30:12,316 - INFO -     Loading: CaSR_v3.1_P_SWE_LAND_rlon246-280_rlat386-420_2000-2003.nc\n",
      "2025-06-25 05:30:12,329 - INFO -     Loading: CaSR_v3.1_P_SWE_LAND_rlon246-280_rlat421-455_2000-2003.nc\n",
      "2025-06-25 05:30:12,342 - INFO -     Combining 4 spatial regions...\n",
      "2025-06-25 05:30:15,470 - INFO -   Processing time period: 2004-2007\n",
      "2025-06-25 05:30:15,486 - INFO -     Loading: CaSR_v3.1_P_SWE_LAND_rlon211-245_rlat386-420_2004-2007.nc\n",
      "2025-06-25 05:30:15,495 - INFO -     Loading: CaSR_v3.1_P_SWE_LAND_rlon211-245_rlat421-455_2004-2007.nc\n",
      "2025-06-25 05:30:15,512 - INFO -     Loading: CaSR_v3.1_P_SWE_LAND_rlon246-280_rlat386-420_2004-2007.nc\n",
      "2025-06-25 05:30:15,532 - INFO -     Loading: CaSR_v3.1_P_SWE_LAND_rlon246-280_rlat421-455_2004-2007.nc\n",
      "2025-06-25 05:30:15,546 - INFO -     Combining 4 spatial regions...\n",
      "2025-06-25 05:30:18,610 - INFO -   Processing time period: 2008-2011\n",
      "2025-06-25 05:30:18,610 - INFO -     Loading: CaSR_v3.1_P_SWE_LAND_rlon211-245_rlat386-420_2008-2011.nc\n",
      "2025-06-25 05:30:18,627 - INFO -     Loading: CaSR_v3.1_P_SWE_LAND_rlon211-245_rlat421-455_2008-2011.nc\n",
      "2025-06-25 05:30:18,643 - INFO -     Loading: CaSR_v3.1_P_SWE_LAND_rlon246-280_rlat386-420_2008-2011.nc\n",
      "2025-06-25 05:30:18,656 - INFO -     Loading: CaSR_v3.1_P_SWE_LAND_rlon246-280_rlat421-455_2008-2011.nc\n",
      "2025-06-25 05:30:18,664 - INFO -     Combining 4 spatial regions...\n",
      "2025-06-25 05:30:21,876 - INFO -   Processing time period: 2012-2015\n",
      "2025-06-25 05:30:21,876 - INFO -     Loading: CaSR_v3.1_P_SWE_LAND_rlon211-245_rlat386-420_2012-2015.nc\n",
      "2025-06-25 05:30:21,886 - INFO -     Loading: CaSR_v3.1_P_SWE_LAND_rlon211-245_rlat421-455_2012-2015.nc\n",
      "2025-06-25 05:30:21,910 - INFO -     Loading: CaSR_v3.1_P_SWE_LAND_rlon246-280_rlat386-420_2012-2015.nc\n",
      "2025-06-25 05:30:21,923 - INFO -     Loading: CaSR_v3.1_P_SWE_LAND_rlon246-280_rlat421-455_2012-2015.nc\n",
      "2025-06-25 05:30:21,931 - INFO -     Combining 4 spatial regions...\n",
      "2025-06-25 05:30:25,043 - INFO -   Processing time period: 2016-2019\n",
      "2025-06-25 05:30:25,057 - INFO -     Loading: CaSR_v3.1_P_SWE_LAND_rlon211-245_rlat386-420_2016-2019.nc\n",
      "2025-06-25 05:30:25,057 - INFO -     Loading: CaSR_v3.1_P_SWE_LAND_rlon211-245_rlat421-455_2016-2019.nc\n",
      "2025-06-25 05:30:25,077 - INFO -     Loading: CaSR_v3.1_P_SWE_LAND_rlon246-280_rlat386-420_2016-2019.nc\n",
      "2025-06-25 05:30:25,100 - INFO -     Loading: CaSR_v3.1_P_SWE_LAND_rlon246-280_rlat421-455_2016-2019.nc\n",
      "2025-06-25 05:30:25,114 - INFO -     Combining 4 spatial regions...\n",
      "2025-06-25 05:30:28,199 - INFO -   Processing time period: 2020-2023\n",
      "2025-06-25 05:30:28,199 - INFO -     Loading: CaSR_v3.1_P_SWE_LAND_rlon211-245_rlat386-420_2020-2023.nc\n",
      "2025-06-25 05:30:28,215 - INFO -     Loading: CaSR_v3.1_P_SWE_LAND_rlon211-245_rlat421-455_2020-2023.nc\n",
      "2025-06-25 05:30:28,243 - INFO -     Loading: CaSR_v3.1_P_SWE_LAND_rlon246-280_rlat386-420_2020-2023.nc\n",
      "2025-06-25 05:30:28,258 - INFO -     Loading: CaSR_v3.1_P_SWE_LAND_rlon246-280_rlat421-455_2020-2023.nc\n",
      "2025-06-25 05:30:28,261 - INFO -     Combining 4 spatial regions...\n",
      "2025-06-25 05:30:31,425 - INFO -   Combining all time periods...\n",
      "2025-06-25 05:32:36,895 - INFO -   Saving to: c:\\Users\\walimunige.rupasingh\\OneDrive - University of Calgary\\Documents\\GitHub\\snowdroughtindex-main\\data\\output_data\\combined_casr\\CaSR_v3.1_P_SWE_LAND_combined_full.nc\n",
      "2025-06-25 05:33:45,907 - INFO -   Successfully saved spatially combined file: c:\\Users\\walimunige.rupasingh\\OneDrive - University of Calgary\\Documents\\GitHub\\snowdroughtindex-main\\data\\output_data\\combined_casr\\CaSR_v3.1_P_SWE_LAND_combined_full.nc\n"
     ]
    },
    {
     "name": "stdout",
     "output_type": "stream",
     "text": [
      "Full combination completed!\n"
     ]
    }
   ],
   "source": [
    "# Full combination (both spatial and temporal)\n",
    "print(\"Performing full combination (both spatial and temporal)...\")\n",
    "combiner.combine_by_variable(combine_spatial=True, combine_temporal=True)\n",
    "print(\"Full combination completed!\")"
   ]
  },
  {
   "cell_type": "markdown",
   "metadata": {},
   "source": [
    "## Examine Combined Output Files\n",
    "\n",
    "Let's check what files were created in the output directory."
   ]
  },
  {
   "cell_type": "code",
   "execution_count": 10,
   "metadata": {},
   "outputs": [
    {
     "name": "stdout",
     "output_type": "stream",
     "text": [
      "Combined files created in c:\\Users\\walimunige.rupasingh\\OneDrive - University of Calgary\\Documents\\GitHub\\snowdroughtindex-main\\data\\output_data\\combined_casr:\n",
      "Total files: 16\n",
      "\n",
      "1. CaSR_v3.1_P_SWE_LAND_1980-1983_spatial_combined.nc (666.5 MB)\n",
      "2. CaSR_v3.1_P_SWE_LAND_1984-1987_spatial_combined.nc (666.7 MB)\n",
      "3. CaSR_v3.1_P_SWE_LAND_1988-1991_spatial_combined.nc (666.3 MB)\n",
      "4. CaSR_v3.1_P_SWE_LAND_1992-1995_spatial_combined.nc (666.1 MB)\n",
      "5. CaSR_v3.1_P_SWE_LAND_1996-1999_spatial_combined.nc (666.5 MB)\n",
      "6. CaSR_v3.1_P_SWE_LAND_2000-2003_spatial_combined.nc (666.1 MB)\n",
      "7. CaSR_v3.1_P_SWE_LAND_2004-2007_spatial_combined.nc (666.1 MB)\n",
      "8. CaSR_v3.1_P_SWE_LAND_2008-2011_spatial_combined.nc (666.6 MB)\n",
      "9. CaSR_v3.1_P_SWE_LAND_2012-2015_spatial_combined.nc (666.2 MB)\n",
      "10. CaSR_v3.1_P_SWE_LAND_2016-2019_spatial_combined.nc (666.5 MB)\n",
      "11. CaSR_v3.1_P_SWE_LAND_2020-2023_spatial_combined.nc (666.2 MB)\n",
      "12. CaSR_v3.1_P_SWE_LAND_combined_full.nc (7352.7 MB)\n",
      "13. CaSR_v3.1_P_SWE_LAND_rlon211-245_rlat386-420_temporal_combined.nc (66.5 MB)\n",
      "14. CaSR_v3.1_P_SWE_LAND_rlon211-245_rlat421-455_temporal_combined.nc (70.7 MB)\n",
      "15. CaSR_v3.1_P_SWE_LAND_rlon246-280_rlat386-420_temporal_combined.nc (55.5 MB)\n",
      "16. CaSR_v3.1_P_SWE_LAND_rlon246-280_rlat421-455_temporal_combined.nc (56.6 MB)\n"
     ]
    }
   ],
   "source": [
    "# List output files\n",
    "output_files = list(output_path.glob('*.nc'))\n",
    "\n",
    "print(f\"Combined files created in {output_path}:\")\n",
    "print(f\"Total files: {len(output_files)}\\n\")\n",
    "\n",
    "for i, file_path in enumerate(output_files, 1):\n",
    "    file_size = file_path.stat().st_size / (1024**2)  # Size in MB\n",
    "    print(f\"{i}. {file_path.name} ({file_size:.1f} MB)\")"
   ]
  },
  {
   "cell_type": "markdown",
   "metadata": {},
   "source": [
    "## Extract Elevation Data from Combined Files\n",
    "\n",
    "Now that we have combined the CaSR SWE files, let's extract data at specific elevation points using the optimized elevation data extractor. This allows us to track SWE and precipitation data at different elevation levels."
   ]
  },
  {
   "cell_type": "code",
   "execution_count": 11,
   "metadata": {},
   "outputs": [
    {
     "name": "stdout",
     "output_type": "stream",
     "text": [
      "Successfully imported OptimizedElevationDataExtractor\n"
     ]
    }
   ],
   "source": [
    "# Import the optimized elevation data extractor\n",
    "try:\n",
    "    from extract_elevation_data_optimized import OptimizedElevationDataExtractor\n",
    "    print(\"Successfully imported OptimizedElevationDataExtractor\")\n",
    "except ImportError as e:\n",
    "    print(f\"Error importing OptimizedElevationDataExtractor: {e}\")\n",
    "    print(\"Make sure extract_elevation_data_optimized.py is in the project root directory\")\n",
    "    raise"
   ]
  },
  {
   "cell_type": "markdown",
   "metadata": {},
   "source": [
    "### Configure Elevation Data Extraction\n",
    "\n",
    "Set up the paths for elevation data and configure extraction parameters."
   ]
  },
  {
   "cell_type": "code",
   "execution_count": 12,
   "metadata": {},
   "outputs": [
    {
     "name": "stdout",
     "output_type": "stream",
     "text": [
      "Elevation data directory: c:\\Users\\walimunige.rupasingh\\OneDrive - University of Calgary\\Documents\\GitHub\\snowdroughtindex-main\\data\\input_data\\Elevation\n",
      "Elevation output directory: c:\\Users\\walimunige.rupasingh\\OneDrive - University of Calgary\\Documents\\GitHub\\snowdroughtindex-main\\data\\output_data\\elevation\n",
      "Elevation directory exists: True\n"
     ]
    }
   ],
   "source": [
    "# Define elevation data paths\n",
    "elevation_dir = r\"data/input_data/Elevation\"  # Directory containing elevation shapefiles\n",
    "elevation_output_dir = r\"data/output_data/elevation\"  # Directory for elevation extraction output\n",
    "\n",
    "# Create absolute paths\n",
    "elevation_path = project_root / elevation_dir\n",
    "elevation_output_path = project_root / elevation_output_dir\n",
    "\n",
    "print(f\"Elevation data directory: {elevation_path}\")\n",
    "print(f\"Elevation output directory: {elevation_output_path}\")\n",
    "print(f\"Elevation directory exists: {elevation_path.exists()}\")\n",
    "\n",
    "# Initialize the elevation data extractor\n",
    "elevation_extractor = OptimizedElevationDataExtractor(\n",
    "    elevation_dir=str(elevation_path),\n",
    "    combined_casr_dir=str(output_path),  # Use the output from CaSR combination\n",
    "    output_dir=str(elevation_output_path)\n",
    ")"
   ]
  },
  {
   "cell_type": "markdown",
   "metadata": {},
   "source": [
    "### Load and Explore Elevation Data\n",
    "\n",
    "Load the elevation shapefile to see what elevation points are available for data extraction."
   ]
  },
  {
   "cell_type": "code",
   "execution_count": 13,
   "metadata": {},
   "outputs": [
    {
     "name": "stderr",
     "output_type": "stream",
     "text": [
      "2025-06-25 05:35:55,938 - INFO - Loading elevation data...\n",
      "2025-06-25 05:35:55,941 - INFO - Loading shapefile: c:\\Users\\walimunige.rupasingh\\OneDrive - University of Calgary\\Documents\\GitHub\\snowdroughtindex-main\\data\\input_data\\Elevation\\Bow.shp\n",
      "2025-06-25 05:35:57,771 - INFO - Loaded 13 elevation points\n",
      "2025-06-25 05:35:57,771 - INFO - Elevation data columns: ['PROVCD_1', 'PROVCD_2', 'PROVCD_3', 'PROVCD_4', 'VALDATE', 'EDITION', 'DATASETNAM', 'VERSION', 'COMPLEVEL', 'WSCMDA', 'WSCSDA', 'WSCSSDA', 'FDA', 'OCEAN', 'WSCMDANAME', 'WSCSDANAME', 'WSCSSDANAM', 'geometry']\n",
      "2025-06-25 05:35:57,771 - INFO - CRS: EPSG:4617\n"
     ]
    },
    {
     "name": "stdout",
     "output_type": "stream",
     "text": [
      "\n",
      "Total elevation points: 13\n",
      "\n",
      "First 5 elevation points:\n",
      "  PROVCD_1 PROVCD_2  PROVCD_3  PROVCD_4   VALDATE EDITION DATASETNAM VERSION  \\\n",
      "0       AB      NaN       NaN       NaN  20070319       1    05BA000       0   \n",
      "1       AB      NaN       NaN       NaN  20070315       1    05BB000       0   \n",
      "2       AB       BC       NaN       NaN  20111128       2    05BC000       0   \n",
      "3       AB      NaN       NaN       NaN  20070305       1    05BD000       0   \n",
      "4       AB      NaN       NaN       NaN  20070302       1    05BE000       0   \n",
      "\n",
      "  COMPLEVEL WSCMDA WSCSDA WSCSSDA   FDA       OCEAN  \\\n",
      "0   NHN-CL1     05    05B    05BA  05BA  Hudson Bay   \n",
      "1   NHN-CL1     05    05B    05BB  05BB  Hudson Bay   \n",
      "2   NHN-CL1     05    05B    05BC  05BC  Hudson Bay   \n",
      "3   NHN-CL1     05    05B    05BD  05BD  Hudson Bay   \n",
      "4   NHN-CL1     05    05B    05BE  05BE  Hudson Bay   \n",
      "\n",
      "                   WSCMDANAME WSCSDANAME             WSCSSDANAM  \\\n",
      "0  Nelson River Drainage Area        Bow         Headwaters Bow   \n",
      "1  Nelson River Drainage Area        Bow   Upper Bow - Redearth   \n",
      "2  Nelson River Drainage Area        Bow                  Spray   \n",
      "3  Nelson River Drainage Area        Bow                Cascade   \n",
      "4  Nelson River Drainage Area        Bow  Upper Bow - Policeman   \n",
      "\n",
      "                                            geometry  \n",
      "0  POLYGON ((-116.25388 51.71161, -116.25374 51.7...  \n",
      "1  POLYGON ((-115.47260 51.16677, -115.47276 51.1...  \n",
      "2  POLYGON ((-115.60862 50.95877, -115.60860 50.9...  \n",
      "3  POLYGON ((-115.47641 51.42722, -115.47702 51.4...  \n",
      "4  POLYGON ((-114.72215 51.33033, -114.72235 51.3...  \n"
     ]
    }
   ],
   "source": [
    "# Load elevation data\n",
    "elevation_extractor.load_elevation_data()\n",
    "\n",
    "# Display basic information about elevation points\n",
    "if elevation_extractor.elevation_gdf is not None:\n",
    "    print(f\"\\nTotal elevation points: {len(elevation_extractor.elevation_gdf)}\")\n",
    "    print(f\"\\nFirst 5 elevation points:\")\n",
    "    print(elevation_extractor.elevation_gdf.head())\n",
    "    \n",
    "    # Show elevation statistics if available\n",
    "    elev_cols = [col for col in elevation_extractor.elevation_gdf.columns \n",
    "                 if 'elev' in col.lower() or col in ['min', 'max', 'mean', 'median']]\n",
    "    if elev_cols:\n",
    "        print(f\"\\nElevation statistics:\")\n",
    "        for col in elev_cols:\n",
    "            if pd.api.types.is_numeric_dtype(elevation_extractor.elevation_gdf[col]):\n",
    "                print(f\"  {col}:\")\n",
    "                print(f\"    Min: {elevation_extractor.elevation_gdf[col].min():.1f}\")\n",
    "                print(f\"    Max: {elevation_extractor.elevation_gdf[col].max():.1f}\")\n",
    "                print(f\"    Mean: {elevation_extractor.elevation_gdf[col].mean():.1f}\")"
   ]
  },
  {
   "cell_type": "markdown",
   "metadata": {},
   "source": [
    "### Check Available Combined CaSR Files\n",
    "\n",
    "Let's see what combined CaSR files are available for elevation data extraction."
   ]
  },
  {
   "cell_type": "code",
   "execution_count": 14,
   "metadata": {},
   "outputs": [
    {
     "name": "stderr",
     "output_type": "stream",
     "text": [
      "2025-06-25 05:36:08,957 - INFO - Found 4 temporal combined files\n",
      "2025-06-25 05:36:08,958 - INFO - Found 1 full combined files\n"
     ]
    },
    {
     "name": "stdout",
     "output_type": "stream",
     "text": [
      "Available files for elevation extraction:\n",
      "\n",
      "Temporal combined files (4):\n",
      "  1. CaSR_v3.1_P_SWE_LAND_rlon211-245_rlat386-420_temporal_combined.nc\n",
      "  2. CaSR_v3.1_P_SWE_LAND_rlon211-245_rlat421-455_temporal_combined.nc\n",
      "  3. CaSR_v3.1_P_SWE_LAND_rlon246-280_rlat386-420_temporal_combined.nc\n",
      "  ... and 1 more files\n",
      "\n",
      "Full combined files (1):\n",
      "  1. CaSR_v3.1_P_SWE_LAND_combined_full.nc\n"
     ]
    }
   ],
   "source": [
    "# Get available combined CaSR files\n",
    "temporal_files, full_files = elevation_extractor.get_combined_casr_files()\n",
    "\n",
    "print(\"Available files for elevation extraction:\")\n",
    "print(f\"\\nTemporal combined files ({len(temporal_files)}):\")\n",
    "for i, file in enumerate(temporal_files[:3], 1):\n",
    "    print(f\"  {i}. {file.name}\")\n",
    "if len(temporal_files) > 3:\n",
    "    print(f\"  ... and {len(temporal_files) - 3} more files\")\n",
    "\n",
    "print(f\"\\nFull combined files ({len(full_files)}):\")\n",
    "for i, file in enumerate(full_files[:3], 1):\n",
    "    print(f\"  {i}. {file.name}\")\n",
    "if len(full_files) > 3:\n",
    "    print(f\"  ... and {len(full_files) - 3} more files\")"
   ]
  },
  {
   "cell_type": "markdown",
   "metadata": {},
   "source": [
    "### Extract Elevation Data with Optimization\n",
    "\n",
    "Extract data at elevation points from the combined CaSR files. We'll use time sampling to handle large datasets efficiently."
   ]
  },
  {
   "cell_type": "code",
   "execution_count": 15,
   "metadata": {},
   "outputs": [
    {
     "name": "stderr",
     "output_type": "stream",
     "text": [
      "2025-06-25 05:36:24,470 - INFO - Found 4 temporal combined files\n",
      "2025-06-25 05:36:24,474 - INFO - Found 1 full combined files\n",
      "2025-06-25 05:36:24,478 - INFO - Processing temporal combined files...\n",
      "2025-06-25 05:36:24,485 - INFO - Processing CaSR_v3.1_P_SWE_LAND_rlon211-245_rlat386-420_temporal_combined.nc...\n",
      "2025-06-25 05:36:24,567 - INFO - Dataset variables: ['rotated_pole', 'CaSR_v3.1_P_SWE_LAND']\n",
      "2025-06-25 05:36:24,569 - INFO - Dataset dimensions: {'time': 385704, 'rlat': 35, 'rlon': 35}\n",
      "2025-06-25 05:36:24,636 - INFO - Time dimension size: 385704\n"
     ]
    },
    {
     "name": "stdout",
     "output_type": "stream",
     "text": [
      "Extraction configuration:\n",
      "  Time sampling: all\n",
      "  Max records per point: 10000\n",
      "  File types to process: ['temporal', 'full']\n",
      "\n",
      "Starting elevation data extraction...\n"
     ]
    },
    {
     "name": "stderr",
     "output_type": "stream",
     "text": [
      "2025-06-25 05:42:48,600 - INFO - Extracted data for 5014152 records from 13 points\n",
      "2025-06-25 05:42:48,968 - INFO - Processing CaSR_v3.1_P_SWE_LAND_rlon211-245_rlat421-455_temporal_combined.nc...\n",
      "2025-06-25 05:42:49,003 - INFO - Dataset variables: ['rotated_pole', 'CaSR_v3.1_P_SWE_LAND']\n",
      "2025-06-25 05:42:49,006 - INFO - Dataset dimensions: {'time': 385704, 'rlat': 35, 'rlon': 35}\n",
      "2025-06-25 05:42:49,040 - INFO - Time dimension size: 385704\n",
      "2025-06-25 05:50:11,225 - INFO - Extracted data for 5014152 records from 13 points\n",
      "2025-06-25 05:50:11,543 - INFO - Processing CaSR_v3.1_P_SWE_LAND_rlon246-280_rlat386-420_temporal_combined.nc...\n",
      "2025-06-25 05:50:11,580 - INFO - Dataset variables: ['rotated_pole', 'CaSR_v3.1_P_SWE_LAND']\n",
      "2025-06-25 05:50:11,580 - INFO - Dataset dimensions: {'time': 385704, 'rlat': 35, 'rlon': 35}\n",
      "2025-06-25 05:50:11,612 - INFO - Time dimension size: 385704\n",
      "2025-06-25 05:57:28,920 - INFO - Extracted data for 5014152 records from 13 points\n",
      "2025-06-25 05:57:29,256 - INFO - Processing CaSR_v3.1_P_SWE_LAND_rlon246-280_rlat421-455_temporal_combined.nc...\n",
      "2025-06-25 05:57:29,296 - INFO - Dataset variables: ['rotated_pole', 'CaSR_v3.1_P_SWE_LAND']\n",
      "2025-06-25 05:57:29,298 - INFO - Dataset dimensions: {'time': 385704, 'rlat': 35, 'rlon': 35}\n",
      "2025-06-25 05:57:29,340 - INFO - Time dimension size: 385704\n",
      "2025-06-25 06:05:04,663 - INFO - Extracted data for 5014152 records from 13 points\n",
      "2025-06-25 06:05:05,023 - INFO - Processing full combined files...\n",
      "2025-06-25 06:05:05,026 - INFO - Processing CaSR_v3.1_P_SWE_LAND_combined_full.nc...\n",
      "2025-06-25 06:05:05,048 - INFO - Dataset variables: ['rotated_pole', 'CaSR_v3.1_P_SWE_LAND']\n",
      "2025-06-25 06:05:05,051 - INFO - Dataset dimensions: {'time': 385704, 'rlon': 70, 'rlat': 70}\n",
      "2025-06-25 06:05:05,084 - INFO - Time dimension size: 385704\n",
      "2025-06-25 06:06:44,361 - INFO - Extracted data for 5014152 records from 13 points\n"
     ]
    },
    {
     "name": "stdout",
     "output_type": "stream",
     "text": [
      "\n",
      "Extraction completed!\n",
      "Processed 5 file groups\n"
     ]
    }
   ],
   "source": [
    "# Configure extraction parameters\n",
    "time_sampling = 'all'  # Options: 'all', 'monthly', 'yearly', 'sample'\n",
    "max_records = 10000  # Maximum records per point to avoid memory issues\n",
    "file_types = ['temporal', 'full']  # Which file types to process\n",
    "\n",
    "print(f\"Extraction configuration:\")\n",
    "print(f\"  Time sampling: {time_sampling}\")\n",
    "print(f\"  Max records per point: {max_records}\")\n",
    "print(f\"  File types to process: {file_types}\")\n",
    "print(f\"\\nStarting elevation data extraction...\")\n",
    "\n",
    "# Process all files and extract elevation data\n",
    "extraction_results = elevation_extractor.process_all_files(\n",
    "    file_types=file_types,\n",
    "    time_sampling=time_sampling,\n",
    "    max_records=max_records\n",
    ")\n",
    "\n",
    "print(f\"\\nExtraction completed!\")\n",
    "print(f\"Processed {len(extraction_results)} file groups\")"
   ]
  },
  {
   "cell_type": "markdown",
   "metadata": {},
   "source": [
    "### Save Extracted Data\n",
    "\n",
    "Save the extracted elevation data to files for further analysis."
   ]
  },
  {
   "cell_type": "code",
   "execution_count": 16,
   "metadata": {},
   "outputs": [
    {
     "name": "stderr",
     "output_type": "stream",
     "text": [
      "2025-06-25 06:07:12,328 - INFO - Saving results to c:\\Users\\walimunige.rupasingh\\OneDrive - University of Calgary\\Documents\\GitHub\\snowdroughtindex-main\\data\\output_data\\elevation\n"
     ]
    },
    {
     "name": "stdout",
     "output_type": "stream",
     "text": [
      "Saving extracted data in both format...\n"
     ]
    },
    {
     "name": "stderr",
     "output_type": "stream",
     "text": [
      "2025-06-25 06:07:31,189 - INFO - Saved CSV: c:\\Users\\walimunige.rupasingh\\OneDrive - University of Calgary\\Documents\\GitHub\\snowdroughtindex-main\\data\\output_data\\elevation\\elevation_extracted_temporal_CaSR_v3.1_P_SWE_LAND_rlon211-245_rlat386-420_temporal_combined.csv\n",
      "2025-06-25 06:07:32,136 - INFO - Saved Parquet: c:\\Users\\walimunige.rupasingh\\OneDrive - University of Calgary\\Documents\\GitHub\\snowdroughtindex-main\\data\\output_data\\elevation\\elevation_extracted_temporal_CaSR_v3.1_P_SWE_LAND_rlon211-245_rlat386-420_temporal_combined.parquet\n",
      "2025-06-25 06:07:51,201 - INFO - Saved CSV: c:\\Users\\walimunige.rupasingh\\OneDrive - University of Calgary\\Documents\\GitHub\\snowdroughtindex-main\\data\\output_data\\elevation\\elevation_extracted_temporal_CaSR_v3.1_P_SWE_LAND_rlon211-245_rlat421-455_temporal_combined.csv\n",
      "2025-06-25 06:07:51,817 - INFO - Saved Parquet: c:\\Users\\walimunige.rupasingh\\OneDrive - University of Calgary\\Documents\\GitHub\\snowdroughtindex-main\\data\\output_data\\elevation\\elevation_extracted_temporal_CaSR_v3.1_P_SWE_LAND_rlon211-245_rlat421-455_temporal_combined.parquet\n",
      "2025-06-25 06:08:11,013 - INFO - Saved CSV: c:\\Users\\walimunige.rupasingh\\OneDrive - University of Calgary\\Documents\\GitHub\\snowdroughtindex-main\\data\\output_data\\elevation\\elevation_extracted_temporal_CaSR_v3.1_P_SWE_LAND_rlon246-280_rlat386-420_temporal_combined.csv\n",
      "2025-06-25 06:08:11,613 - INFO - Saved Parquet: c:\\Users\\walimunige.rupasingh\\OneDrive - University of Calgary\\Documents\\GitHub\\snowdroughtindex-main\\data\\output_data\\elevation\\elevation_extracted_temporal_CaSR_v3.1_P_SWE_LAND_rlon246-280_rlat386-420_temporal_combined.parquet\n",
      "2025-06-25 06:08:53,973 - INFO - Saved CSV: c:\\Users\\walimunige.rupasingh\\OneDrive - University of Calgary\\Documents\\GitHub\\snowdroughtindex-main\\data\\output_data\\elevation\\elevation_extracted_temporal_CaSR_v3.1_P_SWE_LAND_rlon246-280_rlat421-455_temporal_combined.csv\n",
      "2025-06-25 06:08:55,227 - INFO - Saved Parquet: c:\\Users\\walimunige.rupasingh\\OneDrive - University of Calgary\\Documents\\GitHub\\snowdroughtindex-main\\data\\output_data\\elevation\\elevation_extracted_temporal_CaSR_v3.1_P_SWE_LAND_rlon246-280_rlat421-455_temporal_combined.parquet\n",
      "2025-06-25 06:09:36,850 - INFO - Saved CSV: c:\\Users\\walimunige.rupasingh\\OneDrive - University of Calgary\\Documents\\GitHub\\snowdroughtindex-main\\data\\output_data\\elevation\\elevation_extracted_full_CaSR_v3.1_P_SWE_LAND_combined_full.csv\n",
      "2025-06-25 06:09:38,512 - INFO - Saved Parquet: c:\\Users\\walimunige.rupasingh\\OneDrive - University of Calgary\\Documents\\GitHub\\snowdroughtindex-main\\data\\output_data\\elevation\\elevation_extracted_full_CaSR_v3.1_P_SWE_LAND_combined_full.parquet\n",
      "2025-06-25 06:09:38,522 - INFO - Generating summary report...\n",
      "2025-06-25 06:09:38,913 - INFO - Summary saved to: c:\\Users\\walimunige.rupasingh\\OneDrive - University of Calgary\\Documents\\GitHub\\snowdroughtindex-main\\data\\output_data\\elevation\\extraction_summary_optimized.json\n"
     ]
    },
    {
     "name": "stdout",
     "output_type": "stream",
     "text": [
      "\n",
      "============================================================\n",
      "OPTIMIZED EXTRACTION SUMMARY\n",
      "============================================================\n",
      "Elevation points processed: 13\n",
      "Files processed: 5\n",
      "Total records extracted: 25070760\n",
      "\n",
      "File details:\n",
      "  temporal_CaSR_v3.1_P_SWE_LAND_rlon211-245_rlat386-420_temporal_combined:\n",
      "    Records: 5014152\n",
      "    Variables: CaSR_v3.1_P_SWE_LAND\n",
      "    Time range: 1979-12-31T13:00:00 to 2023-12-31T12:00:00\n",
      "  temporal_CaSR_v3.1_P_SWE_LAND_rlon211-245_rlat421-455_temporal_combined:\n",
      "    Records: 5014152\n",
      "    Variables: CaSR_v3.1_P_SWE_LAND\n",
      "    Time range: 1979-12-31T13:00:00 to 2023-12-31T12:00:00\n",
      "  temporal_CaSR_v3.1_P_SWE_LAND_rlon246-280_rlat386-420_temporal_combined:\n",
      "    Records: 5014152\n",
      "    Variables: CaSR_v3.1_P_SWE_LAND\n",
      "    Time range: 1979-12-31T13:00:00 to 2023-12-31T12:00:00\n",
      "  temporal_CaSR_v3.1_P_SWE_LAND_rlon246-280_rlat421-455_temporal_combined:\n",
      "    Records: 5014152\n",
      "    Variables: CaSR_v3.1_P_SWE_LAND\n",
      "    Time range: 1979-12-31T13:00:00 to 2023-12-31T12:00:00\n",
      "  full_CaSR_v3.1_P_SWE_LAND_combined_full:\n",
      "    Records: 5014152\n",
      "    Variables: CaSR_v3.1_P_SWE_LAND\n",
      "    Time range: 1979-12-31T13:00:00 to 2023-12-31T12:00:00\n",
      "============================================================\n"
     ]
    }
   ],
   "source": [
    "# Save results in multiple formats\n",
    "output_format = 'both'  # Options: 'csv', 'parquet', 'both'\n",
    "\n",
    "print(f\"Saving extracted data in {output_format} format...\")\n",
    "elevation_extractor.save_results(extraction_results, format=output_format)\n",
    "\n",
    "# Generate summary report\n",
    "elevation_extractor.generate_summary_report(extraction_results)"
   ]
  },
  {
   "cell_type": "markdown",
   "metadata": {},
   "source": [
    "### Visualize Extracted Data\n",
    "\n",
    "Let's create some visualizations to understand the extracted elevation data."
   ]
  },
  {
   "cell_type": "code",
   "execution_count": 17,
   "metadata": {},
   "outputs": [
    {
     "name": "stdout",
     "output_type": "stream",
     "text": [
      "Visualizing data from: temporal_CaSR_v3.1_P_SWE_LAND_rlon211-245_rlat386-420_temporal_combined\n",
      "Data shape: (5014152, 7)\n",
      "Columns: ['point_id', 'original_lon', 'original_lat', 'grid_lon', 'grid_lat', 'time', 'CaSR_v3.1_P_SWE_LAND']\n"
     ]
    },
    {
     "data": {
      "image/png": "[encoded data removed]",
      "text/plain": [
       "<Figure size 1200x400 with 1 Axes>"
      ]
     },
     "metadata": {},
     "output_type": "display_data"
    }
   ],
   "source": [
    "# Select a sample result for visualization\n",
    "if extraction_results:\n",
    "    # Get the first available result\n",
    "    sample_key = list(extraction_results.keys())[0]\n",
    "    sample_df = extraction_results[sample_key]\n",
    "    \n",
    "    print(f\"Visualizing data from: {sample_key}\")\n",
    "    print(f\"Data shape: {sample_df.shape}\")\n",
    "    print(f\"Columns: {list(sample_df.columns)}\")\n",
    "    \n",
    "    # Check if we have time series data\n",
    "    if 'time' in sample_df.columns and len(sample_df) > 0:\n",
    "        # Get data variables (exclude metadata columns)\n",
    "        data_vars = [col for col in sample_df.columns \n",
    "                    if col not in ['point_id', 'original_lon', 'original_lat', \n",
    "                                  'grid_lon', 'grid_lat', 'time'] \n",
    "                    and not col.startswith('elevation_')]\n",
    "        \n",
    "        if data_vars:\n",
    "            # Plot time series for a few points\n",
    "            fig, axes = plt.subplots(len(data_vars), 1, figsize=(12, 4*len(data_vars)), squeeze=False)\n",
    "            \n",
    "            # Select a few points to plot\n",
    "            unique_points = sample_df['point_id'].unique()[:5]  # Plot up to 5 points\n",
    "            \n",
    "            for i, var in enumerate(data_vars):\n",
    "                ax = axes[i, 0]\n",
    "                \n",
    "                for point_id in unique_points:\n",
    "                    point_data = sample_df[sample_df['point_id'] == point_id]\n",
    "                    if len(point_data) > 0:\n",
    "                        # Get elevation info if available\n",
    "                        elev_info = \"\"\n",
    "                        elev_cols = [col for col in point_data.columns if col.startswith('elevation_')]\n",
    "                        if elev_cols:\n",
    "                            elev_val = point_data[elev_cols[0]].iloc[0]\n",
    "                            if pd.notna(elev_val):\n",
    "                                elev_info = f\" (elev: {elev_val:.0f}m)\"\n",
    "                        \n",
    "                        ax.plot(point_data['time'], point_data[var], \n",
    "                               label=f'Point {point_id}{elev_info}', alpha=0.7)\n",
    "                \n",
    "                ax.set_xlabel('Time')\n",
    "                ax.set_ylabel(var)\n",
    "                ax.set_title(f'{var} Time Series at Different Elevation Points')\n",
    "                ax.legend()\n",
    "                ax.grid(True, alpha=0.3)\n",
    "            \n",
    "            plt.tight_layout()\n",
    "            plt.show()\n",
    "    else:\n",
    "        print(\"No time series data available for visualization\")\n",
    "else:\n",
    "    print(\"No extraction results available for visualization\")"
   ]
  },
  {
   "cell_type": "markdown",
   "metadata": {},
   "source": [
    "### Analyze Elevation-Based Patterns\n",
    "\n",
    "Let's analyze how SWE and precipitation vary with elevation."
   ]
  },
  {
   "cell_type": "code",
   "execution_count": 18,
   "metadata": {},
   "outputs": [
    {
     "name": "stdout",
     "output_type": "stream",
     "text": [
      "No elevation or time data available for pattern analysis\n"
     ]
    }
   ],
   "source": [
    "# Analyze elevation-based patterns\n",
    "if extraction_results:\n",
    "    # Combine all results for analysis\n",
    "    all_data = []\n",
    "    \n",
    "    for key, df in extraction_results.items():\n",
    "        if df is not None and not df.empty:\n",
    "            df['source_file'] = key\n",
    "            all_data.append(df)\n",
    "    \n",
    "    if all_data:\n",
    "        combined_df = pd.concat(all_data, ignore_index=True)\n",
    "        \n",
    "        # Find elevation columns\n",
    "        elev_cols = [col for col in combined_df.columns if col.startswith('elevation_')]\n",
    "        \n",
    "        if elev_cols and 'time' in combined_df.columns:\n",
    "            # Use the first elevation column\n",
    "            elev_col = elev_cols[0]\n",
    "            \n",
    "            # Calculate mean values by elevation bins\n",
    "            combined_df['elevation_bin'] = pd.cut(combined_df[elev_col], bins=10)\n",
    "            \n",
    "            # Get data variables\n",
    "            data_vars = [col for col in combined_df.columns \n",
    "                        if col not in ['point_id', 'original_lon', 'original_lat', \n",
    "                                      'grid_lon', 'grid_lat', 'time', 'source_file', \n",
    "                                      'elevation_bin'] \n",
    "                        and not col.startswith('elevation_')]\n",
    "            \n",
    "            if data_vars:\n",
    "                # Calculate mean values by elevation bin\n",
    "                elevation_means = combined_df.groupby('elevation_bin')[data_vars].mean()\n",
    "                \n",
    "                # Plot elevation patterns\n",
    "                fig, axes = plt.subplots(1, len(data_vars), figsize=(6*len(data_vars), 5), squeeze=False)\n",
    "                \n",
    "                for i, var in enumerate(data_vars):\n",
    "                    ax = axes[0, i]\n",
    "                    \n",
    "                    # Get elevation bin centers for x-axis\n",
    "                    bin_centers = elevation_means.index.map(lambda x: x.mid)\n",
    "                    \n",
    "                    ax.plot(bin_centers, elevation_means[var], 'o-', markersize=8)\n",
    "                    ax.set_xlabel(f'Elevation ({elev_col.replace(\"elevation_\", \"\")})')\n",
    "                    ax.set_ylabel(f'Mean {var}')\n",
    "                    ax.set_title(f'{var} vs Elevation')\n",
    "                    ax.grid(True, alpha=0.3)\n",
    "                \n",
    "                plt.tight_layout()\n",
    "                plt.show()\n",
    "                \n",
    "                # Print summary statistics\n",
    "                print(\"\\nElevation-based summary statistics:\")\n",
    "                print(elevation_means)\n",
    "        else:\n",
    "            print(\"No elevation or time data available for pattern analysis\")\n",
    "    else:\n",
    "        print(\"No data available for analysis\")\n",
    "else:\n",
    "    print(\"No extraction results available for analysis\")"
   ]
  },
  {
   "cell_type": "markdown",
   "metadata": {},
   "source": [
    "## Summary\n",
    "\n",
    "This workflow demonstrates:\n",
    "\n",
    "1. **CaSR SWE File Combination**: How to combine NetCDF files from the CaSR dataset across temporal and spatial dimensions\n",
    "2. **Elevation Data Extraction**: How to extract SWE and precipitation data at specific elevation points\n",
    "3. **Data Tracking**: How to track and analyze the variation of snow and precipitation data with elevation\n",
    "\n",
    "The extracted elevation data can be used for:\n",
    "- Analyzing elevation gradients in SWE and precipitation\n",
    "- Understanding snow accumulation patterns at different elevations\n",
    "- Validating model outputs against elevation-specific observations\n",
    "- Supporting drought analysis at various elevation zones\n",
    "\n",
    "The output files are saved in both CSV and Parquet formats for easy integration with other analysis tools."
   ]
  }
 ],
 "metadata": {
  "kernelspec": {
   "display_name": "base",
   "language": "python",
   "name": "python3"
  },
  "language_info": {
   "codemirror_mode": {
    "name": "ipython",
    "version": 3
   },
   "file_extension": ".py",
   "mimetype": "text/x-python",
   "name": "python",
   "nbconvert_exporter": "python",
   "pygments_lexer": "ipython3",
   "version": "3.11.4"
  }
 },
 "nbformat": 4,
 "nbformat_minor": 4
}
