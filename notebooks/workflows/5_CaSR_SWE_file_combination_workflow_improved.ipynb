{
 "cells": [
  {
   "cell_type": "markdown",
   "metadata": {},
   "source": [
    "# CaSR SWE File Combination Workflow\n",
    "\n",
    "This notebook demonstrates how to combine NetCDF files from the CaSR SWE dataset using the `combine_casr_swe_files.py` script. The CaSR dataset contains files organized by variable types, spatial regions, and time periods that can be combined in different ways:\n",
    "\n",
    "1. **Temporal combination**: Combine files across time periods\n",
    "2. **Spatial combination**: Combine files across spatial regions  \n",
    "3. **Full combination**: Combine both temporal and spatial dimensions\n",
    "\n",
    "The CaSR SWE dataset includes:\n",
    "- **Variable types**: A_PR24_SFC (precipitation) and P_SWE_LAND (snow water equivalent)\n",
    "- **Spatial regions**: Different rlon/rlat coordinate ranges\n",
    "- **Time periods**: 4-year chunks from 1980-2023"
   ]
  },
  {
   "cell_type": "markdown",
   "metadata": {},
   "source": [
    "## Setup and Imports\n",
    "\n",
    "**Note**: If you encounter NumPy compatibility errors, please run one of the following commands in your terminal before running this notebook:\n",
    "\n",
    "**Option 1 (Recommended)**: Install from requirements file\n",
    "```bash\n",
    "pip install -r requirements_notebook.txt\n",
    "```\n",
    "\n",
    "**Option 2**: Manual installation with compatible versions\n",
    "```bash\n",
    "pip install \"numpy<2\" xarray pandas matplotlib netcdf4\n",
    "```\n",
    "\n",
    "**Option 3**: Using conda\n",
    "```bash\n",
    "conda install numpy=1.26 xarray pandas matplotlib netcdf4\n",
    "```\n",
    "\n",
    "**Option 4**: Create a new environment with compatible versions\n",
    "```bash\n",
    "conda create -n snowdrought python=3.9 numpy=1.26 xarray pandas matplotlib netcdf4 jupyter\n",
    "conda activate snowdrought\n",
    "```"
   ]
  },
  {
   "cell_type": "code",
   "execution_count": 1,
   "metadata": {},
   "outputs": [
    {
     "name": "stdout",
     "output_type": "stream",
     "text": [
      "NumPy version: 1.26.0\n",
      "xarray version: 2025.6.1\n",
      "pandas version: 2.1.1\n",
      "matplotlib version: 3.8.0\n",
      "Successfully imported CaSRFileCombiner\n",
      "Successfully imported ElevationDataFilter\n",
      "Successfully imported OptimizedElevationDataExtractor\n"
     ]
    }
   ],
   "source": [
    "# Check for NumPy compatibility issues\n",
    "import warnings\n",
    "warnings.filterwarnings('ignore', category=UserWarning, module='numpy')\n",
    "\n",
    "# Import required packages\n",
    "import sys\n",
    "import os\n",
    "from pathlib import Path\n",
    "\n",
    "# Handle NumPy compatibility\n",
    "try:\n",
    "    import numpy as np\n",
    "    print(f\"NumPy version: {np.__version__}\")\n",
    "except ImportError as e:\n",
    "    print(f\"NumPy import error: {e}\")\n",
    "    print(\"Please install NumPy: pip install numpy\")\n",
    "\n",
    "# Import data science packages with error handling\n",
    "try:\n",
    "    import xarray as xr\n",
    "    print(f\"xarray version: {xr.__version__}\")\n",
    "except ImportError as e:\n",
    "    print(f\"xarray import error: {e}\")\n",
    "    print(\"If you encounter NumPy compatibility issues, try:\")\n",
    "    print(\"  pip install 'numpy<2' xarray pandas matplotlib\")\n",
    "    print(\"  or\")\n",
    "    print(\"  conda install numpy=1.26 xarray pandas matplotlib\")\n",
    "    raise\n",
    "\n",
    "try:\n",
    "    import pandas as pd\n",
    "    print(f\"pandas version: {pd.__version__}\")\n",
    "except ImportError as e:\n",
    "    print(f\"pandas import error: {e}\")\n",
    "    raise\n",
    "\n",
    "try:\n",
    "    import matplotlib.pyplot as plt\n",
    "    print(f\"matplotlib version: {plt.matplotlib.__version__}\")\n",
    "except ImportError as e:\n",
    "    print(f\"matplotlib import error: {e}\")\n",
    "    raise\n",
    "\n",
    "# Add the project root to Python path to import the combine script\n",
    "project_root = Path().cwd().parent.parent\n",
    "sys.path.append(str(project_root))\n",
    "\n",
    "# Import the CaSR file combiner\n",
    "try:\n",
    "    from combine_casr_swe_files import CaSRFileCombiner\n",
    "    print(\"Successfully imported CaSRFileCombiner\")\n",
    "except ImportError as e:\n",
    "    print(f\"Error importing CaSRFileCombiner: {e}\")\n",
    "    print(\"Make sure combine_casr_swe_files.py is in the project root directory\")\n",
    "    raise\n",
    "\n",
    "# Import the elevation data filter (REUSING EXISTING CODE)\n",
    "try:\n",
    "    # Force reload to get latest version\n",
    "    import importlib\n",
    "    if 'filter_merge_elevation_data' in sys.modules:\n",
    "        importlib.reload(sys.modules['filter_merge_elevation_data'])\n",
    "    from filter_merge_elevation_data import ElevationDataFilter\n",
    "    print(\"Successfully imported ElevationDataFilter\")\n",
    "except ImportError as e:\n",
    "    print(f\"Error importing ElevationDataFilter: {e}\")\n",
    "    print(\"Make sure filter_merge_elevation_data.py is in the project root directory\")\n",
    "    raise\n",
    "\n",
    "# Import the optimized elevation data extractor\n",
    "try:\n",
    "    from extract_elevation_data_optimized import OptimizedElevationDataExtractor\n",
    "    print(\"Successfully imported OptimizedElevationDataExtractor\")\n",
    "except ImportError as e:\n",
    "    print(f\"Error importing OptimizedElevationDataExtractor: {e}\")\n",
    "    print(\"Make sure extract_elevation_data_optimized.py is in the project root directory\")\n",
    "    raise"
   ]
  },
  {
   "cell_type": "markdown",
   "metadata": {},
   "source": [
    "## Configuration\n",
    "\n",
    "Set up the input and output directories for your CaSR SWE data files."
   ]
  },
  {
   "cell_type": "code",
   "execution_count": 2,
   "metadata": {},
   "outputs": [
    {
     "name": "stdout",
     "output_type": "stream",
     "text": [
      "Input directory: c:\\Users\\walimunige.rupasingh\\OneDrive - University of Calgary\\Documents\\GitHub\\snowdroughtindex-main\\data\\input_data\\CaSR_SWE\n",
      "Output directory: c:\\Users\\walimunige.rupasingh\\OneDrive - University of Calgary\\Documents\\GitHub\\snowdroughtindex-main\\data\\output_data\\combined_casr\n",
      "Elevation directory: c:\\Users\\walimunige.rupasingh\\OneDrive - University of Calgary\\Documents\\GitHub\\snowdroughtindex-main\\data\\input_data\\Elevation\n",
      "Filtered output directory: c:\\Users\\walimunige.rupasingh\\OneDrive - University of Calgary\\Documents\\GitHub\\snowdroughtindex-main\\data\\output_data\\filtered_elevation\n",
      "Input directory exists: True\n",
      "Elevation directory exists: True\n"
     ]
    }
   ],
   "source": [
    "# Define data paths - modify these paths according to your data location\n",
    "input_dir = r\"data/input_data/CaSR_SWE\"  # Directory containing CaSR NetCDF files\n",
    "output_dir = r\"data/output_data/combined_casr\"  # Directory for combined output files\n",
    "elevation_dir = r\"data/input_data/Elevation\"  # Directory containing elevation shapefiles\n",
    "filtered_output_dir = r\"data/output_data/filtered_elevation\"  # Directory for filtered elevation data\n",
    "\n",
    "# Create absolute paths\n",
    "input_path = project_root / input_dir\n",
    "output_path = project_root / output_dir\n",
    "elevation_path = project_root / elevation_dir\n",
    "filtered_output_path = project_root / filtered_output_dir\n",
    "\n",
    "print(f\"Input directory: {input_path}\")\n",
    "print(f\"Output directory: {output_path}\")\n",
    "print(f\"Elevation directory: {elevation_path}\")\n",
    "print(f\"Filtered output directory: {filtered_output_path}\")\n",
    "print(f\"Input directory exists: {input_path.exists()}\")\n",
    "print(f\"Elevation directory exists: {elevation_path.exists()}\")"
   ]
  },
  {
   "cell_type": "markdown",
   "metadata": {},
   "source": [
    "## Initialize the CaSR File Combiner\n",
    "\n",
    "Create an instance of the `CaSRFileCombiner` class with your input and output directories."
   ]
  },
  {
   "cell_type": "code",
   "execution_count": 3,
   "metadata": {},
   "outputs": [
    {
     "name": "stderr",
     "output_type": "stream",
     "text": [
      "2025-06-25 21:15:56,521 - INFO - Input directory: c:\\Users\\walimunige.rupasingh\\OneDrive - University of Calgary\\Documents\\GitHub\\snowdroughtindex-main\\data\\input_data\\CaSR_SWE\n",
      "2025-06-25 21:15:56,523 - INFO - Output directory: c:\\Users\\walimunige.rupasingh\\OneDrive - University of Calgary\\Documents\\GitHub\\snowdroughtindex-main\\data\\output_data\\combined_casr\n"
     ]
    }
   ],
   "source": [
    "# Initialize the file combiner\n",
    "combiner = CaSRFileCombiner(input_dir=str(input_path), output_dir=str(output_path))"
   ]
  },
  {
   "cell_type": "markdown",
   "metadata": {},
   "source": [
    "## Explore Dataset Information\n",
    "\n",
    "Before combining files, let's examine what data is available in the input directory."
   ]
  },
  {
   "cell_type": "code",
   "execution_count": 4,
   "metadata": {},
   "outputs": [
    {
     "name": "stderr",
     "output_type": "stream",
     "text": [
      "2025-06-25 21:16:00,955 - INFO - Found 1 file groups:\n",
      "2025-06-25 21:16:00,958 - INFO -   P_SWE_LAND: 44 files\n"
     ]
    },
    {
     "name": "stdout",
     "output_type": "stream",
     "text": [
      "\n",
      "============================================================\n",
      "CASR SWE DATASET INFORMATION\n",
      "============================================================\n",
      "\n",
      "Group: P_SWE_LAND\n",
      "Number of files: 44\n",
      "Time coverage: 1980-2023\n",
      "Spatial regions: 4\n",
      "  rlon 211-245, rlat 386-420\n",
      "  rlon 211-245, rlat 421-455\n",
      "  rlon 246-280, rlat 386-420\n",
      "  rlon 246-280, rlat 421-455\n",
      "Variables: ['rotated_pole', 'CaSR_v3.1_P_SWE_LAND']\n",
      "Dimensions: {'time': 35064, 'rlat': 35, 'rlon': 35}\n"
     ]
    }
   ],
   "source": [
    "# Get information about the available datasets\n",
    "combiner.get_dataset_info()"
   ]
  },
  {
   "cell_type": "markdown",
   "metadata": {},
   "source": [
    "## Examine File Groups\n",
    "\n",
    "Let's look at how the files are grouped by variable type."
   ]
  },
  {
   "cell_type": "code",
   "execution_count": null,
   "metadata": {},
   "outputs": [],
   "source": [
    "# Get file groups\n",
    "file_groups = combiner.get_file_groups()\n",
    "\n",
    "print(\"Available file groups:\")\n",
    "for group_name, files in file_groups.items():\n",
    "    print(f\"\\n{group_name}: {len(files)} files\")\n",
    "    \n",
    "    # Show first few filenames as examples\n",
    "    for i, file_path in enumerate(files[:3]):\n",
    "        filename = Path(file_path).name\n",
    "        print(f\"  {i+1}. {filename}\")\n",
    "    \n",
    "    if len(files) > 3:\n",
    "        print(f\"  ... and {len(files) - 3} more files\")"
   ]
  },
  {
   "cell_type": "markdown",
   "metadata": {},
   "source": [
    "## Example: Parse Individual Filenames\n",
    "\n",
    "Let's examine how the filename parsing works for understanding the file structure."
   ]
  },
  {
   "cell_type": "code",
   "execution_count": null,
   "metadata": {},
   "outputs": [],
   "source": [
    "# Get a sample file and parse its filename\n",
    "if file_groups:\n",
    "    # Get the first file from the first group\n",
    "    first_group = list(file_groups.keys())[0]\n",
    "    sample_file = file_groups[first_group][0]\n",
    "    sample_filename = Path(sample_file).name\n",
    "    \n",
    "    print(f\"Sample filename: {sample_filename}\")\n",
    "    \n",
    "    # Parse the filename\n",
    "    parsed_info = combiner.parse_filename(sample_filename)\n",
    "    \n",
    "    print(\"\\nParsed information:\")\n",
    "    for key, value in parsed_info.items():\n",
    "        print(f\"  {key}: {value}\")\n",
    "else:\n",
    "    print(\"No files found in the input directory. Please check your input path.\")"
   ]
  },
  {
   "cell_type": "markdown",
   "metadata": {},
   "source": [
    "## Combination Options\n",
    "\n",
    "Now let's demonstrate the different ways to combine the CaSR files."
   ]
  },
  {
   "cell_type": "markdown",
   "metadata": {},
   "source": [
    "### Option 1: Temporal Combination Only\n",
    "\n",
    "Combine files across time periods while keeping spatial regions separate."
   ]
  },
  {
   "cell_type": "code",
   "execution_count": null,
   "metadata": {},
   "outputs": [],
   "source": [
    "# Temporal combination only\n",
    "print(\"Performing temporal combination (keeping spatial regions separate)...\")\n",
    "combiner.combine_by_variable(combine_spatial=False, combine_temporal=True)\n",
    "print(\"Temporal combination completed!\")"
   ]
  },
  {
   "cell_type": "markdown",
   "metadata": {},
   "source": [
    "### Option 2: Spatial Combination Only\n",
    "\n",
    "Combine files across spatial regions while keeping time periods separate."
   ]
  },
  {
   "cell_type": "code",
   "execution_count": null,
   "metadata": {},
   "outputs": [],
   "source": [
    "# Spatial combination only\n",
    "print(\"Performing spatial combination (keeping time periods separate)...\")\n",
    "combiner.combine_by_variable(combine_spatial=True, combine_temporal=False)\n",
    "print(\"Spatial combination completed!\")"
   ]
  },
  {
   "cell_type": "markdown",
   "metadata": {},
   "source": [
    "### Option 3: Full Combination\n",
    "\n",
    "Combine files across both spatial and temporal dimensions to create complete datasets."
   ]
  },
  {
   "cell_type": "code",
   "execution_count": 6,
   "metadata": {},
   "outputs": [
    {
     "name": "stderr",
     "output_type": "stream",
     "text": [
      "2025-06-25 21:20:39,655 - INFO - Found 2 file groups:\n",
      "2025-06-25 21:20:39,657 - INFO -   A_PR24_SFC: 44 files\n",
      "2025-06-25 21:20:39,659 - INFO -   P_SWE_LAND: 44 files\n",
      "2025-06-25 21:20:39,661 - INFO - \n",
      "Processing group: A_PR24_SFC\n",
      "2025-06-25 21:20:39,663 - INFO - Combining 44 files spatially...\n",
      "2025-06-25 21:20:39,670 - INFO -   Processing time period: 1980-1983\n",
      "2025-06-25 21:20:39,671 - INFO -     Loading: CaSR_v3.1_A_PR24_SFC_rlon211-245_rlat386-420_1980-1983.nc\n",
      "2025-06-25 21:20:39,739 - INFO -     Loading: CaSR_v3.1_A_PR24_SFC_rlon211-245_rlat421-455_1980-1983.nc\n",
      "2025-06-25 21:20:39,755 - INFO -     Loading: CaSR_v3.1_A_PR24_SFC_rlon246-280_rlat386-420_1980-1983.nc\n",
      "2025-06-25 21:20:39,771 - INFO -     Loading: CaSR_v3.1_A_PR24_SFC_rlon246-280_rlat421-455_1980-1983.nc\n",
      "2025-06-25 21:20:39,788 - INFO -     Combining 4 spatial regions...\n"
     ]
    },
    {
     "name": "stdout",
     "output_type": "stream",
     "text": [
      "Performing full combination (both spatial and temporal)...\n"
     ]
    },
    {
     "name": "stderr",
     "output_type": "stream",
     "text": [
      "2025-06-25 21:20:42,975 - INFO -   Processing time period: 1984-1987\n",
      "2025-06-25 21:20:42,977 - INFO -     Loading: CaSR_v3.1_A_PR24_SFC_rlon211-245_rlat386-420_1984-1987.nc\n",
      "2025-06-25 21:20:42,990 - INFO -     Loading: CaSR_v3.1_A_PR24_SFC_rlon211-245_rlat421-455_1984-1987.nc\n",
      "2025-06-25 21:20:43,004 - INFO -     Loading: CaSR_v3.1_A_PR24_SFC_rlon246-280_rlat386-420_1984-1987.nc\n",
      "2025-06-25 21:20:43,018 - INFO -     Loading: CaSR_v3.1_A_PR24_SFC_rlon246-280_rlat421-455_1984-1987.nc\n",
      "2025-06-25 21:20:43,031 - INFO -     Combining 4 spatial regions...\n",
      "2025-06-25 21:20:45,942 - INFO -   Processing time period: 1988-1991\n",
      "2025-06-25 21:20:45,944 - INFO -     Loading: CaSR_v3.1_A_PR24_SFC_rlon211-245_rlat386-420_1988-1991.nc\n",
      "2025-06-25 21:20:45,959 - INFO -     Loading: CaSR_v3.1_A_PR24_SFC_rlon211-245_rlat421-455_1988-1991.nc\n",
      "2025-06-25 21:20:45,973 - INFO -     Loading: CaSR_v3.1_A_PR24_SFC_rlon246-280_rlat386-420_1988-1991.nc\n",
      "2025-06-25 21:20:45,984 - INFO -     Loading: CaSR_v3.1_A_PR24_SFC_rlon246-280_rlat421-455_1988-1991.nc\n",
      "2025-06-25 21:20:45,998 - INFO -     Combining 4 spatial regions...\n",
      "2025-06-25 21:20:48,787 - INFO -   Processing time period: 1992-1995\n",
      "2025-06-25 21:20:48,789 - INFO -     Loading: CaSR_v3.1_A_PR24_SFC_rlon211-245_rlat386-420_1992-1995.nc\n",
      "2025-06-25 21:20:48,804 - INFO -     Loading: CaSR_v3.1_A_PR24_SFC_rlon211-245_rlat421-455_1992-1995.nc\n",
      "2025-06-25 21:20:48,819 - INFO -     Loading: CaSR_v3.1_A_PR24_SFC_rlon246-280_rlat386-420_1992-1995.nc\n",
      "2025-06-25 21:20:48,831 - INFO -     Loading: CaSR_v3.1_A_PR24_SFC_rlon246-280_rlat421-455_1992-1995.nc\n",
      "2025-06-25 21:20:48,847 - INFO -     Combining 4 spatial regions...\n",
      "2025-06-25 21:20:51,929 - INFO -   Processing time period: 1996-1999\n",
      "2025-06-25 21:20:51,930 - INFO -     Loading: CaSR_v3.1_A_PR24_SFC_rlon211-245_rlat386-420_1996-1999.nc\n",
      "2025-06-25 21:20:51,944 - INFO -     Loading: CaSR_v3.1_A_PR24_SFC_rlon211-245_rlat421-455_1996-1999.nc\n",
      "2025-06-25 21:20:51,956 - INFO -     Loading: CaSR_v3.1_A_PR24_SFC_rlon246-280_rlat386-420_1996-1999.nc\n",
      "2025-06-25 21:20:51,969 - INFO -     Loading: CaSR_v3.1_A_PR24_SFC_rlon246-280_rlat421-455_1996-1999.nc\n",
      "2025-06-25 21:20:51,981 - INFO -     Combining 4 spatial regions...\n",
      "2025-06-25 21:20:55,031 - INFO -   Processing time period: 2000-2003\n",
      "2025-06-25 21:20:55,033 - INFO -     Loading: CaSR_v3.1_A_PR24_SFC_rlon211-245_rlat386-420_2000-2003.nc\n",
      "2025-06-25 21:20:55,048 - INFO -     Loading: CaSR_v3.1_A_PR24_SFC_rlon211-245_rlat421-455_2000-2003.nc\n",
      "2025-06-25 21:20:55,063 - INFO -     Loading: CaSR_v3.1_A_PR24_SFC_rlon246-280_rlat386-420_2000-2003.nc\n",
      "2025-06-25 21:20:55,078 - INFO -     Loading: CaSR_v3.1_A_PR24_SFC_rlon246-280_rlat421-455_2000-2003.nc\n",
      "2025-06-25 21:20:55,092 - INFO -     Combining 4 spatial regions...\n",
      "2025-06-25 21:20:58,332 - INFO -   Processing time period: 2004-2007\n",
      "2025-06-25 21:20:58,334 - INFO -     Loading: CaSR_v3.1_A_PR24_SFC_rlon211-245_rlat386-420_2004-2007.nc\n",
      "2025-06-25 21:20:58,348 - INFO -     Loading: CaSR_v3.1_A_PR24_SFC_rlon211-245_rlat421-455_2004-2007.nc\n",
      "2025-06-25 21:20:58,363 - INFO -     Loading: CaSR_v3.1_A_PR24_SFC_rlon246-280_rlat386-420_2004-2007.nc\n",
      "2025-06-25 21:20:58,378 - INFO -     Loading: CaSR_v3.1_A_PR24_SFC_rlon246-280_rlat421-455_2004-2007.nc\n",
      "2025-06-25 21:20:58,391 - INFO -     Combining 4 spatial regions...\n",
      "2025-06-25 21:21:01,590 - INFO -   Processing time period: 2008-2011\n",
      "2025-06-25 21:21:01,593 - INFO -     Loading: CaSR_v3.1_A_PR24_SFC_rlon211-245_rlat386-420_2008-2011.nc\n",
      "2025-06-25 21:21:01,606 - INFO -     Loading: CaSR_v3.1_A_PR24_SFC_rlon211-245_rlat421-455_2008-2011.nc\n",
      "2025-06-25 21:21:01,623 - INFO -     Loading: CaSR_v3.1_A_PR24_SFC_rlon246-280_rlat386-420_2008-2011.nc\n",
      "2025-06-25 21:21:01,636 - INFO -     Loading: CaSR_v3.1_A_PR24_SFC_rlon246-280_rlat421-455_2008-2011.nc\n",
      "2025-06-25 21:21:01,651 - INFO -     Combining 4 spatial regions...\n",
      "2025-06-25 21:21:04,953 - INFO -   Processing time period: 2012-2015\n",
      "2025-06-25 21:21:04,955 - INFO -     Loading: CaSR_v3.1_A_PR24_SFC_rlon211-245_rlat386-420_2012-2015.nc\n",
      "2025-06-25 21:21:04,969 - INFO -     Loading: CaSR_v3.1_A_PR24_SFC_rlon211-245_rlat421-455_2012-2015.nc\n",
      "2025-06-25 21:21:04,982 - INFO -     Loading: CaSR_v3.1_A_PR24_SFC_rlon246-280_rlat386-420_2012-2015.nc\n",
      "2025-06-25 21:21:04,995 - INFO -     Loading: CaSR_v3.1_A_PR24_SFC_rlon246-280_rlat421-455_2012-2015.nc\n",
      "2025-06-25 21:21:05,008 - INFO -     Combining 4 spatial regions...\n",
      "2025-06-25 21:21:08,356 - INFO -   Processing time period: 2016-2019\n",
      "2025-06-25 21:21:08,358 - INFO -     Loading: CaSR_v3.1_A_PR24_SFC_rlon211-245_rlat386-420_2016-2019.nc\n",
      "2025-06-25 21:21:08,374 - INFO -     Loading: CaSR_v3.1_A_PR24_SFC_rlon211-245_rlat421-455_2016-2019.nc\n",
      "2025-06-25 21:21:08,389 - INFO -     Loading: CaSR_v3.1_A_PR24_SFC_rlon246-280_rlat386-420_2016-2019.nc\n",
      "2025-06-25 21:21:08,405 - INFO -     Loading: CaSR_v3.1_A_PR24_SFC_rlon246-280_rlat421-455_2016-2019.nc\n",
      "2025-06-25 21:21:08,419 - INFO -     Combining 4 spatial regions...\n",
      "2025-06-25 21:21:11,732 - INFO -   Processing time period: 2020-2023\n",
      "2025-06-25 21:21:11,734 - INFO -     Loading: CaSR_v3.1_A_PR24_SFC_rlon211-245_rlat386-420_2020-2023.nc\n",
      "2025-06-25 21:21:11,750 - INFO -     Loading: CaSR_v3.1_A_PR24_SFC_rlon211-245_rlat421-455_2020-2023.nc\n",
      "2025-06-25 21:21:11,763 - INFO -     Loading: CaSR_v3.1_A_PR24_SFC_rlon246-280_rlat386-420_2020-2023.nc\n",
      "2025-06-25 21:21:11,779 - INFO -     Loading: CaSR_v3.1_A_PR24_SFC_rlon246-280_rlat421-455_2020-2023.nc\n",
      "2025-06-25 21:21:11,796 - INFO -     Combining 4 spatial regions...\n",
      "2025-06-25 21:21:15,114 - INFO -   Combining all time periods...\n",
      "2025-06-25 21:22:29,224 - INFO -   Saving to: c:\\Users\\walimunige.rupasingh\\OneDrive - University of Calgary\\Documents\\GitHub\\snowdroughtindex-main\\data\\output_data\\combined_casr\\CaSR_v3.1_A_PR24_SFC_combined_full.nc\n",
      "2025-06-25 21:23:25,206 - INFO -   Successfully saved spatially combined file: c:\\Users\\walimunige.rupasingh\\OneDrive - University of Calgary\\Documents\\GitHub\\snowdroughtindex-main\\data\\output_data\\combined_casr\\CaSR_v3.1_A_PR24_SFC_combined_full.nc\n",
      "2025-06-25 21:23:26,971 - INFO - \n",
      "Processing group: P_SWE_LAND\n",
      "2025-06-25 21:23:26,974 - INFO - Combining 44 files spatially...\n",
      "2025-06-25 21:23:26,995 - INFO -   Processing time period: 1980-1983\n",
      "2025-06-25 21:23:26,998 - INFO -     Loading: CaSR_v3.1_P_SWE_LAND_rlon211-245_rlat386-420_1980-1983.nc\n",
      "2025-06-25 21:23:27,078 - INFO -     Loading: CaSR_v3.1_P_SWE_LAND_rlon211-245_rlat421-455_1980-1983.nc\n",
      "2025-06-25 21:23:27,101 - INFO -     Loading: CaSR_v3.1_P_SWE_LAND_rlon246-280_rlat386-420_1980-1983.nc\n",
      "2025-06-25 21:23:27,120 - INFO -     Loading: CaSR_v3.1_P_SWE_LAND_rlon246-280_rlat421-455_1980-1983.nc\n",
      "2025-06-25 21:23:27,140 - INFO -     Combining 4 spatial regions...\n",
      "2025-06-25 21:23:30,333 - INFO -   Processing time period: 1984-1987\n",
      "2025-06-25 21:23:30,336 - INFO -     Loading: CaSR_v3.1_P_SWE_LAND_rlon211-245_rlat386-420_1984-1987.nc\n",
      "2025-06-25 21:23:30,353 - INFO -     Loading: CaSR_v3.1_P_SWE_LAND_rlon211-245_rlat421-455_1984-1987.nc\n",
      "2025-06-25 21:23:30,366 - INFO -     Loading: CaSR_v3.1_P_SWE_LAND_rlon246-280_rlat386-420_1984-1987.nc\n",
      "2025-06-25 21:23:30,381 - INFO -     Loading: CaSR_v3.1_P_SWE_LAND_rlon246-280_rlat421-455_1984-1987.nc\n",
      "2025-06-25 21:23:30,395 - INFO -     Combining 4 spatial regions...\n",
      "2025-06-25 21:23:33,461 - INFO -   Processing time period: 1988-1991\n",
      "2025-06-25 21:23:33,463 - INFO -     Loading: CaSR_v3.1_P_SWE_LAND_rlon211-245_rlat386-420_1988-1991.nc\n",
      "2025-06-25 21:23:33,479 - INFO -     Loading: CaSR_v3.1_P_SWE_LAND_rlon211-245_rlat421-455_1988-1991.nc\n",
      "2025-06-25 21:23:33,493 - INFO -     Loading: CaSR_v3.1_P_SWE_LAND_rlon246-280_rlat386-420_1988-1991.nc\n",
      "2025-06-25 21:23:33,510 - INFO -     Loading: CaSR_v3.1_P_SWE_LAND_rlon246-280_rlat421-455_1988-1991.nc\n",
      "2025-06-25 21:23:33,525 - INFO -     Combining 4 spatial regions...\n",
      "2025-06-25 21:23:36,899 - INFO -   Processing time period: 1992-1995\n",
      "2025-06-25 21:23:36,901 - INFO -     Loading: CaSR_v3.1_P_SWE_LAND_rlon211-245_rlat386-420_1992-1995.nc\n",
      "2025-06-25 21:23:36,918 - INFO -     Loading: CaSR_v3.1_P_SWE_LAND_rlon211-245_rlat421-455_1992-1995.nc\n",
      "2025-06-25 21:23:36,935 - INFO -     Loading: CaSR_v3.1_P_SWE_LAND_rlon246-280_rlat386-420_1992-1995.nc\n",
      "2025-06-25 21:23:36,952 - INFO -     Loading: CaSR_v3.1_P_SWE_LAND_rlon246-280_rlat421-455_1992-1995.nc\n",
      "2025-06-25 21:23:36,970 - INFO -     Combining 4 spatial regions...\n",
      "2025-06-25 21:23:40,155 - INFO -   Processing time period: 1996-1999\n",
      "2025-06-25 21:23:40,158 - INFO -     Loading: CaSR_v3.1_P_SWE_LAND_rlon211-245_rlat386-420_1996-1999.nc\n",
      "2025-06-25 21:23:40,173 - INFO -     Loading: CaSR_v3.1_P_SWE_LAND_rlon211-245_rlat421-455_1996-1999.nc\n",
      "2025-06-25 21:23:40,188 - INFO -     Loading: CaSR_v3.1_P_SWE_LAND_rlon246-280_rlat386-420_1996-1999.nc\n",
      "2025-06-25 21:23:40,203 - INFO -     Loading: CaSR_v3.1_P_SWE_LAND_rlon246-280_rlat421-455_1996-1999.nc\n",
      "2025-06-25 21:23:40,219 - INFO -     Combining 4 spatial regions...\n",
      "2025-06-25 21:23:43,258 - INFO -   Processing time period: 2000-2003\n",
      "2025-06-25 21:23:43,261 - INFO -     Loading: CaSR_v3.1_P_SWE_LAND_rlon211-245_rlat386-420_2000-2003.nc\n",
      "2025-06-25 21:23:43,279 - INFO -     Loading: CaSR_v3.1_P_SWE_LAND_rlon211-245_rlat421-455_2000-2003.nc\n",
      "2025-06-25 21:23:43,294 - INFO -     Loading: CaSR_v3.1_P_SWE_LAND_rlon246-280_rlat386-420_2000-2003.nc\n",
      "2025-06-25 21:23:43,309 - INFO -     Loading: CaSR_v3.1_P_SWE_LAND_rlon246-280_rlat421-455_2000-2003.nc\n",
      "2025-06-25 21:23:43,323 - INFO -     Combining 4 spatial regions...\n",
      "2025-06-25 21:23:46,417 - INFO -   Processing time period: 2004-2007\n",
      "2025-06-25 21:23:46,420 - INFO -     Loading: CaSR_v3.1_P_SWE_LAND_rlon211-245_rlat386-420_2004-2007.nc\n",
      "2025-06-25 21:23:46,434 - INFO -     Loading: CaSR_v3.1_P_SWE_LAND_rlon211-245_rlat421-455_2004-2007.nc\n",
      "2025-06-25 21:23:46,451 - INFO -     Loading: CaSR_v3.1_P_SWE_LAND_rlon246-280_rlat386-420_2004-2007.nc\n",
      "2025-06-25 21:23:46,467 - INFO -     Loading: CaSR_v3.1_P_SWE_LAND_rlon246-280_rlat421-455_2004-2007.nc\n",
      "2025-06-25 21:23:46,482 - INFO -     Combining 4 spatial regions...\n",
      "2025-06-25 21:23:49,770 - INFO -   Processing time period: 2008-2011\n",
      "2025-06-25 21:23:49,773 - INFO -     Loading: CaSR_v3.1_P_SWE_LAND_rlon211-245_rlat386-420_2008-2011.nc\n",
      "2025-06-25 21:23:49,790 - INFO -     Loading: CaSR_v3.1_P_SWE_LAND_rlon211-245_rlat421-455_2008-2011.nc\n",
      "2025-06-25 21:23:49,804 - INFO -     Loading: CaSR_v3.1_P_SWE_LAND_rlon246-280_rlat386-420_2008-2011.nc\n",
      "2025-06-25 21:23:49,820 - INFO -     Loading: CaSR_v3.1_P_SWE_LAND_rlon246-280_rlat421-455_2008-2011.nc\n",
      "2025-06-25 21:23:49,836 - INFO -     Combining 4 spatial regions...\n",
      "2025-06-25 21:23:53,146 - INFO -   Processing time period: 2012-2015\n",
      "2025-06-25 21:23:53,148 - INFO -     Loading: CaSR_v3.1_P_SWE_LAND_rlon211-245_rlat386-420_2012-2015.nc\n",
      "2025-06-25 21:23:53,165 - INFO -     Loading: CaSR_v3.1_P_SWE_LAND_rlon211-245_rlat421-455_2012-2015.nc\n",
      "2025-06-25 21:23:53,181 - INFO -     Loading: CaSR_v3.1_P_SWE_LAND_rlon246-280_rlat386-420_2012-2015.nc\n",
      "2025-06-25 21:23:53,199 - INFO -     Loading: CaSR_v3.1_P_SWE_LAND_rlon246-280_rlat421-455_2012-2015.nc\n",
      "2025-06-25 21:23:53,218 - INFO -     Combining 4 spatial regions...\n",
      "2025-06-25 21:23:56,624 - INFO -   Processing time period: 2016-2019\n",
      "2025-06-25 21:23:56,629 - INFO -     Loading: CaSR_v3.1_P_SWE_LAND_rlon211-245_rlat386-420_2016-2019.nc\n",
      "2025-06-25 21:23:56,645 - INFO -     Loading: CaSR_v3.1_P_SWE_LAND_rlon211-245_rlat421-455_2016-2019.nc\n",
      "2025-06-25 21:23:56,665 - INFO -     Loading: CaSR_v3.1_P_SWE_LAND_rlon246-280_rlat386-420_2016-2019.nc\n",
      "2025-06-25 21:23:56,683 - INFO -     Loading: CaSR_v3.1_P_SWE_LAND_rlon246-280_rlat421-455_2016-2019.nc\n",
      "2025-06-25 21:23:56,701 - INFO -     Combining 4 spatial regions...\n",
      "2025-06-25 21:24:00,151 - INFO -   Processing time period: 2020-2023\n",
      "2025-06-25 21:24:00,154 - INFO -     Loading: CaSR_v3.1_P_SWE_LAND_rlon211-245_rlat386-420_2020-2023.nc\n",
      "2025-06-25 21:24:00,173 - INFO -     Loading: CaSR_v3.1_P_SWE_LAND_rlon211-245_rlat421-455_2020-2023.nc\n",
      "2025-06-25 21:24:00,193 - INFO -     Loading: CaSR_v3.1_P_SWE_LAND_rlon246-280_rlat386-420_2020-2023.nc\n",
      "2025-06-25 21:24:00,212 - INFO -     Loading: CaSR_v3.1_P_SWE_LAND_rlon246-280_rlat421-455_2020-2023.nc\n",
      "2025-06-25 21:24:00,229 - INFO -     Combining 4 spatial regions...\n",
      "2025-06-25 21:24:03,146 - INFO -   Combining all time periods...\n",
      "2025-06-25 21:25:01,594 - INFO -   Saving to: c:\\Users\\walimunige.rupasingh\\OneDrive - University of Calgary\\Documents\\GitHub\\snowdroughtindex-main\\data\\output_data\\combined_casr\\CaSR_v3.1_P_SWE_LAND_combined_full.nc\n",
      "2025-06-25 21:25:55,988 - INFO -   Successfully saved spatially combined file: c:\\Users\\walimunige.rupasingh\\OneDrive - University of Calgary\\Documents\\GitHub\\snowdroughtindex-main\\data\\output_data\\combined_casr\\CaSR_v3.1_P_SWE_LAND_combined_full.nc\n"
     ]
    },
    {
     "name": "stdout",
     "output_type": "stream",
     "text": [
      "Full combination completed!\n"
     ]
    }
   ],
   "source": [
    "# Full combination (both spatial and temporal)\n",
    "print(\"Performing full combination (both spatial and temporal)...\")\n",
    "combiner.combine_by_variable(combine_spatial=True, combine_temporal=True)\n",
    "print(\"Full combination completed!\")"
   ]
  },
  {
   "cell_type": "markdown",
   "metadata": {},
   "source": [
    "## Examine Combined Output Files\n",
    "\n",
    "Let's check what files were created in the output directory."
   ]
  },
  {
   "cell_type": "code",
   "execution_count": 7,
   "metadata": {},
   "outputs": [
    {
     "name": "stdout",
     "output_type": "stream",
     "text": [
      "Combined files created in c:\\Users\\walimunige.rupasingh\\OneDrive - University of Calgary\\Documents\\GitHub\\snowdroughtindex-main\\data\\output_data\\combined_casr:\n",
      "Total files: 2\n",
      "\n",
      "1. CaSR_v3.1_A_PR24_SFC_combined_full.nc (7494.4 MB)\n",
      "2. CaSR_v3.1_P_SWE_LAND_combined_full.nc (7352.7 MB)\n"
     ]
    }
   ],
   "source": [
    "# List output files\n",
    "output_files = list(output_path.glob('*.nc'))\n",
    "\n",
    "print(f\"Combined files created in {output_path}:\")\n",
    "print(f\"Total files: {len(output_files)}\\n\")\n",
    "\n",
    "for i, file_path in enumerate(output_files, 1):\n",
    "    file_size = file_path.stat().st_size / (1024**2)  # Size in MB\n",
    "    print(f\"{i}. {file_path.name} ({file_size:.1f} MB)\")"
   ]
  },
  {
   "cell_type": "markdown",
   "metadata": {},
   "source": [
    "## Extract Elevation Data from Combined Files\n",
    "\n",
    "Now that we have combined the CaSR SWE files, let's extract data at specific elevation points using the optimized elevation data extractor. This allows us to track SWE and precipitation data at different elevation levels."
   ]
  },
  {
   "cell_type": "markdown",
   "metadata": {},
   "source": [
    "### Configure Elevation Data Extraction\n",
    "\n",
    "Set up the paths for elevation data and configure extraction parameters."
   ]
  },
  {
   "cell_type": "code",
   "execution_count": 8,
   "metadata": {},
   "outputs": [
    {
     "name": "stdout",
     "output_type": "stream",
     "text": [
      "Elevation output directory: c:\\Users\\walimunige.rupasingh\\OneDrive - University of Calgary\\Documents\\GitHub\\snowdroughtindex-main\\data\\output_data\\elevation\n"
     ]
    }
   ],
   "source": [
    "# Define elevation data paths\n",
    "elevation_output_dir = r\"data/output_data/elevation\"  # Directory for elevation extraction output\n",
    "\n",
    "# Create absolute paths\n",
    "elevation_output_path = project_root / elevation_output_dir\n",
    "\n",
    "print(f\"Elevation output directory: {elevation_output_path}\")\n",
    "\n",
    "# Initialize the elevation data extractor\n",
    "elevation_extractor = OptimizedElevationDataExtractor(\n",
    "    elevation_dir=str(elevation_path),\n",
    "    combined_casr_dir=str(output_path),  # Use the output from CaSR combination\n",
    "    output_dir=str(elevation_output_path)\n",
    ")"
   ]
  },
  {
   "cell_type": "markdown",
   "metadata": {},
   "source": [
    "### Load and Explore Elevation Data\n",
    "\n",
    "Load the elevation shapefile to see what elevation points are available for data extraction."
   ]
  },
  {
   "cell_type": "code",
   "execution_count": 9,
   "metadata": {},
   "outputs": [
    {
     "name": "stderr",
     "output_type": "stream",
     "text": [
      "2025-06-25 21:26:34,156 - INFO - Loading elevation data...\n",
      "2025-06-25 21:26:34,169 - INFO - Loading shapefile: c:\\Users\\walimunige.rupasingh\\OneDrive - University of Calgary\\Documents\\GitHub\\snowdroughtindex-main\\data\\input_data\\Elevation\\Bow_elevation_combined.shp\n",
      "2025-06-25 21:26:36,108 - INFO - Loaded 13 elevation points\n",
      "2025-06-25 21:26:36,112 - INFO - Elevation data columns: ['PROVCD_1', 'VALDATE', 'EDITION', 'DATASETNAM', 'VERSION', 'COMPLEVEL', 'WSCMDA', 'WSCSDA', 'WSCSSDA', 'FDA', 'OCEAN', 'WSCMDANAME', 'WSCSDANAME', 'WSCSSDANAM', 'min', 'max', 'mean', 'count', 'std', 'median', 'PROVCD_2', 'elev_class', 'geometry']\n",
      "2025-06-25 21:26:36,114 - INFO - CRS: None\n",
      "2025-06-25 21:26:36,115 - INFO - Elevation-related columns: ['min', 'max', 'mean', 'median', 'elev_class']\n",
      "2025-06-25 21:26:36,119 - INFO - min range: 0.0 - 1440.0\n",
      "2025-06-25 21:26:36,120 - INFO - max range: 998.0 - 3490.0\n",
      "2025-06-25 21:26:36,121 - INFO - mean range: 772.4 - 2163.8\n",
      "2025-06-25 21:26:36,122 - INFO - median range: 764.0 - 2182.0\n"
     ]
    },
    {
     "name": "stdout",
     "output_type": "stream",
     "text": [
      "\n",
      "Total elevation points: 13\n",
      "\n",
      "First 5 elevation points:\n",
      "  PROVCD_1   VALDATE EDITION DATASETNAM VERSION COMPLEVEL WSCMDA WSCSDA  \\\n",
      "0       AB  20070208       1    05BM000       0   NHN-CL1     05    05B   \n",
      "1       AB  20070130       1    05BN000       0   NHN-CL1     05    05B   \n",
      "2       AB  20070226       1    05BH000       0   NHN-CL1     05    05B   \n",
      "3       AB  20070228       1    05BK000       0   NHN-CL1     05    05B   \n",
      "4       AB  20070302       1    05BE000       0   NHN-CL1     05    05B   \n",
      "\n",
      "  WSCSSDA   FDA  ...                 WSCSSDANAM     min     max         mean  \\\n",
      "0    05BM  05BM  ...       Lower Bow - Crowfoot   776.0  1177.0   953.688214   \n",
      "1    05BN  05BN  ...          Lower Bow - Mouth   700.0   998.0   772.376015   \n",
      "2    05BH  05BH  ...  Central Bow - Jumpingpond  1038.0  2479.0  1259.913722   \n",
      "3    05BK  05BK  ...               Fish (Alta.)   981.0  1777.0  1226.170423   \n",
      "4    05BE  05BE  ...      Upper Bow - Policeman  1146.0  3054.0  1601.837836   \n",
      "\n",
      "     count         std  median  PROVCD_2  elev_class  \\\n",
      "0  9897452   71.132927   944.0       NaN   500_1000m   \n",
      "1  9312616   32.852467   764.0       NaN   500_1000m   \n",
      "2  4121228  176.434021  1227.0       NaN  1000_1500m   \n",
      "3  1151005  126.086335  1194.0       NaN  1000_1500m   \n",
      "4  1655101  376.052387  1437.0       NaN  1500_2000m   \n",
      "\n",
      "                                            geometry  \n",
      "0  POLYGON ((-112.58577 51.23024, -112.58519 51.2...  \n",
      "1  POLYGON ((-112.49620 50.71881, -112.49566 50.7...  \n",
      "2  POLYGON ((-113.93263 51.12563, -113.93288 51.1...  \n",
      "3  POLYGON ((-114.10188 50.95504, -114.09750 50.9...  \n",
      "4  POLYGON ((-114.72215 51.33033, -114.72235 51.3...  \n",
      "\n",
      "[5 rows x 23 columns]\n",
      "\n",
      "Elevation statistics:\n",
      "  min:\n",
      "    Min: 0.0\n",
      "    Max: 1440.0\n",
      "    Mean: 1024.1\n",
      "  max:\n",
      "    Min: 998.0\n",
      "    Max: 3490.0\n",
      "    Mean: 2746.8\n",
      "  mean:\n",
      "    Min: 772.4\n",
      "    Max: 2163.8\n",
      "    Mean: 1639.1\n",
      "  median:\n",
      "    Min: 764.0\n",
      "    Max: 2182.0\n",
      "    Mean: 1601.1\n"
     ]
    }
   ],
   "source": [
    "# Load elevation data\n",
    "elevation_extractor.load_elevation_data()\n",
    "\n",
    "# Display basic information about elevation points\n",
    "if elevation_extractor.elevation_gdf is not None:\n",
    "    print(f\"\\nTotal elevation points: {len(elevation_extractor.elevation_gdf)}\")\n",
    "    print(f\"\\nFirst 5 elevation points:\")\n",
    "    print(elevation_extractor.elevation_gdf.head())\n",
    "    \n",
    "    # Show elevation statistics if available\n",
    "    elev_cols = [col for col in elevation_extractor.elevation_gdf.columns \n",
    "                 if 'elev' in col.lower() or col in ['min', 'max', 'mean', 'median']]\n",
    "    if elev_cols:\n",
    "        print(f\"\\nElevation statistics:\")\n",
    "        for col in elev_cols:\n",
    "            if pd.api.types.is_numeric_dtype(elevation_extractor.elevation_gdf[col]):\n",
    "                print(f\"  {col}:\")\n",
    "                print(f\"    Min: {elevation_extractor.elevation_gdf[col].min():.1f}\")\n",
    "                print(f\"    Max: {elevation_extractor.elevation_gdf[col].max():.1f}\")\n",
    "                print(f\"    Mean: {elevation_extractor.elevation_gdf[col].mean():.1f}\")"
   ]
  },
  {
   "cell_type": "markdown",
   "metadata": {},
   "source": [
    "### Check Available Combined CaSR Files\n",
    "\n",
    "Let's see what combined CaSR files are available for elevation data extraction."
   ]
  },
  {
   "cell_type": "code",
   "execution_count": 10,
   "metadata": {},
   "outputs": [
    {
     "name": "stderr",
     "output_type": "stream",
     "text": [
      "2025-06-25 21:26:48,268 - INFO - Found 0 temporal combined files\n",
      "2025-06-25 21:26:48,270 - INFO - Found 2 full combined files\n"
     ]
    },
    {
     "name": "stdout",
     "output_type": "stream",
     "text": [
      "Available files for elevation extraction:\n",
      "\n",
      "Temporal combined files (0):\n",
      "\n",
      "Full combined files (2):\n",
      "  1. CaSR_v3.1_A_PR24_SFC_combined_full.nc\n",
      "  2. CaSR_v3.1_P_SWE_LAND_combined_full.nc\n"
     ]
    }
   ],
   "source": [
    "# Get available combined CaSR files\n",
    "temporal_files, full_files = elevation_extractor.get_combined_casr_files()\n",
    "\n",
    "print(\"Available files for elevation extraction:\")\n",
    "print(f\"\\nTemporal combined files ({len(temporal_files)}):\")\n",
    "for i, file in enumerate(temporal_files[:3], 1):\n",
    "    print(f\"  {i}. {file.name}\")\n",
    "if len(temporal_files) > 3:\n",
    "    print(f\"  ... and {len(temporal_files) - 3} more files\")\n",
    "\n",
    "print(f\"\\nFull combined files ({len(full_files)}):\")\n",
    "for i, file in enumerate(full_files[:3], 1):\n",
    "    print(f\"  {i}. {file.name}\")\n",
    "if len(full_files) > 3:\n",
    "    print(f\"  ... and {len(full_files) - 3} more files\")"
   ]
  },
  {
   "cell_type": "markdown",
   "metadata": {},
   "source": [
    "### Extract Elevation Data with Optimization\n",
    "\n",
    "Extract data at elevation points from the combined CaSR files. We'll use time sampling to handle large datasets efficiently."
   ]
  },
  {
   "cell_type": "code",
   "execution_count": 11,
   "metadata": {},
   "outputs": [
    {
     "name": "stderr",
     "output_type": "stream",
     "text": [
      "2025-06-25 21:26:59,854 - INFO - Found 0 temporal combined files\n",
      "2025-06-25 21:26:59,856 - INFO - Found 2 full combined files\n",
      "2025-06-25 21:26:59,858 - INFO - Processing temporal combined files...\n",
      "2025-06-25 21:26:59,859 - INFO - Processing full combined files...\n",
      "2025-06-25 21:26:59,861 - INFO - Processing CaSR_v3.1_A_PR24_SFC_combined_full.nc...\n",
      "2025-06-25 21:26:59,896 - INFO - Dataset variables: ['rotated_pole', 'CaSR_v3.1_A_PR24_SFC']\n",
      "2025-06-25 21:26:59,897 - INFO - Dataset dimensions: {'time': 385704, 'rlon': 70, 'rlat': 70}\n",
      "2025-06-25 21:26:59,902 - INFO - Time dimension size: 385704\n"
     ]
    },
    {
     "name": "stdout",
     "output_type": "stream",
     "text": [
      "Extraction configuration:\n",
      "  Time sampling: all\n",
      "  Max records per point: 10000\n",
      "  File types to process: ['temporal', 'full']\n",
      "\n",
      "Starting elevation data extraction...\n"
     ]
    },
    {
     "name": "stderr",
     "output_type": "stream",
     "text": [
      "2025-06-25 21:28:36,510 - INFO - Extracted data for 5014152 records from 13 points\n",
      "2025-06-25 21:28:37,160 - INFO - Processing CaSR_v3.1_P_SWE_LAND_combined_full.nc...\n",
      "2025-06-25 21:28:37,180 - INFO - Dataset variables: ['rotated_pole', 'CaSR_v3.1_P_SWE_LAND']\n",
      "2025-06-25 21:28:37,181 - INFO - Dataset dimensions: {'time': 385704, 'rlon': 70, 'rlat': 70}\n",
      "2025-06-25 21:28:37,186 - INFO - Time dimension size: 385704\n",
      "2025-06-25 21:30:15,613 - INFO - Extracted data for 5014152 records from 13 points\n"
     ]
    },
    {
     "name": "stdout",
     "output_type": "stream",
     "text": [
      "\n",
      "Extraction completed!\n",
      "Processed 2 file groups\n"
     ]
    }
   ],
   "source": [
    "# Configure extraction parameters\n",
    "time_sampling = 'all'  # Options: 'all', 'monthly', 'yearly', 'sample'\n",
    "max_records = 10000  # Maximum records per point to avoid memory issues\n",
    "file_types = ['temporal', 'full']  # Which file types to process\n",
    "\n",
    "print(f\"Extraction configuration:\")\n",
    "print(f\"  Time sampling: {time_sampling}\")\n",
    "print(f\"  Max records per point: {max_records}\")\n",
    "print(f\"  File types to process: {file_types}\")\n",
    "print(f\"\\nStarting elevation data extraction...\")\n",
    "\n",
    "# Process all files and extract elevation data\n",
    "extraction_results = elevation_extractor.process_all_files(\n",
    "    file_types=file_types,\n",
    "    time_sampling=time_sampling,\n",
    "    max_records=max_records\n",
    ")\n",
    "\n",
    "print(f\"\\nExtraction completed!\")\n",
    "print(f\"Processed {len(extraction_results)} file groups\")"
   ]
  },
  {
   "cell_type": "markdown",
   "metadata": {},
   "source": [
    "### Save Extracted Data\n",
    "\n",
    "Save the extracted elevation data to files for further analysis."
   ]
  },
  {
   "cell_type": "code",
   "execution_count": 12,
   "metadata": {},
   "outputs": [
    {
     "name": "stderr",
     "output_type": "stream",
     "text": [
      "2025-06-25 21:30:46,660 - INFO - Saving results to c:\\Users\\walimunige.rupasingh\\OneDrive - University of Calgary\\Documents\\GitHub\\snowdroughtindex-main\\data\\output_data\\elevation\n"
     ]
    },
    {
     "name": "stdout",
     "output_type": "stream",
     "text": [
      "Saving extracted data in csv format...\n"
     ]
    },
    {
     "name": "stderr",
     "output_type": "stream",
     "text": [
      "2025-06-25 21:31:13,813 - INFO - Saved CSV: c:\\Users\\walimunige.rupasingh\\OneDrive - University of Calgary\\Documents\\GitHub\\snowdroughtindex-main\\data\\output_data\\elevation\\elevation_extracted_full_CaSR_v3.1_A_PR24_SFC_combined_full.csv\n",
      "2025-06-25 21:31:40,919 - INFO - Saved CSV: c:\\Users\\walimunige.rupasingh\\OneDrive - University of Calgary\\Documents\\GitHub\\snowdroughtindex-main\\data\\output_data\\elevation\\elevation_extracted_full_CaSR_v3.1_P_SWE_LAND_combined_full.csv\n",
      "2025-06-25 21:31:40,921 - INFO - Generating summary report...\n",
      "2025-06-25 21:31:40,996 - INFO - Summary saved to: c:\\Users\\walimunige.rupasingh\\OneDrive - University of Calgary\\Documents\\GitHub\\snowdroughtindex-main\\data\\output_data\\elevation\\extraction_summary_optimized.json\n"
     ]
    },
    {
     "name": "stdout",
     "output_type": "stream",
     "text": [
      "\n",
      "============================================================\n",
      "OPTIMIZED EXTRACTION SUMMARY\n",
      "============================================================\n",
      "Elevation points processed: 13\n",
      "Files processed: 2\n",
      "Total records extracted: 10028304\n",
      "\n",
      "File details:\n",
      "  full_CaSR_v3.1_A_PR24_SFC_combined_full:\n",
      "    Records: 5014152\n",
      "    Variables: elevation_min, elevation_max, elevation_mean, elevation_median, CaSR_v3.1_A_PR24_SFC\n",
      "    Time range: 1979-12-31T13:00:00 to 2023-12-31T12:00:00\n",
      "  full_CaSR_v3.1_P_SWE_LAND_combined_full:\n",
      "    Records: 5014152\n",
      "    Variables: elevation_min, elevation_max, elevation_mean, elevation_median, CaSR_v3.1_P_SWE_LAND\n",
      "    Time range: 1979-12-31T13:00:00 to 2023-12-31T12:00:00\n",
      "============================================================\n"
     ]
    }
   ],
   "source": [
    "# Save results in multiple formats\n",
    "output_format = 'csv'  # Options: 'csv', 'parquet', 'both'\n",
    "\n",
    "print(f\"Saving extracted data in {output_format} format...\")\n",
    "elevation_extractor.save_results(extraction_results, format=output_format)\n",
    "\n",
    "# Generate summary report\n",
    "elevation_extractor.generate_summary_report(extraction_results)"
   ]
  },
  {
   "cell_type": "markdown",
   "metadata": {},
   "source": [
    "## Filter and Merge Elevation Data\n",
    "\n",
    "Now we'll use the existing `ElevationDataFilter` class from `filter_merge_elevation_data.py` to filter and merge the elevation data with non-null precipitation and SWE values."
   ]
  },
  {
   "cell_type": "code",
   "execution_count": 16,
   "metadata": {},
   "outputs": [
    {
     "name": "stdout",
     "output_type": "stream",
     "text": [
      "Legacy constructor detected. Using flattened CSV files from c:\\Users\\walimunige.rupasingh\\OneDrive - University of Calgary\\Documents\\GitHub\\snowdroughtindex-main\\data\\output_data\\elevation\n",
      "Directory exists: True\n",
      "CSV files found: ['elevation_extracted_full_CaSR_v3.1_A_PR24_SFC_combined_full.csv', 'elevation_extracted_full_CaSR_v3.1_P_SWE_LAND_combined_full.csv']\n",
      "ElevationDataFilter initialized successfully\n"
     ]
    }
   ],
   "source": [
    "# Initialize the elevation data filter using the existing class\n",
    "elevation_filter = ElevationDataFilter(\n",
    "    elevation_dir=str(elevation_path),\n",
    "    casr_dir=str(output_path),  # Use combined CaSR files\n",
    "    output_dir=str(filtered_output_path)\n",
    ")\n",
    "\n",
    "print(\"ElevationDataFilter initialized successfully\")"
   ]
  },
  {
   "cell_type": "markdown",
   "metadata": {},
   "source": [
    "### Process Elevation Data with Filtering\n",
    "\n",
    "Use the main processing function to filter and merge elevation data."
   ]
  },
  {
   "cell_type": "code",
   "execution_count": 17,
   "metadata": {},
   "outputs": [
    {
     "name": "stderr",
     "output_type": "stream",
     "text": [
      "2025-06-25 21:35:49,787 - INFO - Legacy parameters detected. Using flattened CSV approach.\n",
      "2025-06-25 21:35:49,788 - INFO - Found precipitation file: elevation_extracted_full_CaSR_v3.1_A_PR24_SFC_combined_full.csv\n",
      "2025-06-25 21:35:49,790 - INFO - Found SWE file: elevation_extracted_full_CaSR_v3.1_P_SWE_LAND_combined_full.csv\n",
      "2025-06-25 21:35:49,791 - INFO - Loading precipitation data from elevation_extracted_full_CaSR_v3.1_A_PR24_SFC_combined_full.csv...\n"
     ]
    },
    {
     "name": "stdout",
     "output_type": "stream",
     "text": [
      "Processing configuration:\n",
      "  Sample points: 0\n",
      "  Sample time steps: 0\n",
      "\n",
      "Starting elevation data filtering and merging process...\n"
     ]
    },
    {
     "name": "stderr",
     "output_type": "stream",
     "text": [
      "2025-06-25 21:35:56,402 - INFO - Loaded 5,014,152 records for precipitation\n",
      "2025-06-25 21:35:56,403 - INFO - Data columns: ['point_id', 'original_lon', 'original_lat', 'grid_lon', 'grid_lat', 'elevation_min', 'elevation_max', 'elevation_mean', 'elevation_median', 'time', 'CaSR_v3.1_A_PR24_SFC']\n",
      "2025-06-25 21:35:56,404 - INFO - Data variable: CaSR_v3.1_A_PR24_SFC\n",
      "2025-06-25 21:35:56,412 - INFO - Null values in CaSR_v3.1_A_PR24_SFC: 4,805,229 (95.8%)\n",
      "2025-06-25 21:35:56,430 - INFO - CaSR_v3.1_A_PR24_SFC range: 0.000 - 0.135\n",
      "2025-06-25 21:35:56,447 - INFO - Time range: 1979-12-31 13:00:00 to 2023-12-31 12:00:00\n",
      "2025-06-25 21:35:56,448 - INFO - Elevation columns: ['elevation_min', 'elevation_max', 'elevation_mean', 'elevation_median']\n",
      "2025-06-25 21:35:56,459 - INFO - elevation_min range: 0.0 - 1440.0\n",
      "2025-06-25 21:35:56,468 - INFO - elevation_max range: 998.0 - 3490.0\n",
      "2025-06-25 21:35:56,477 - INFO - elevation_mean range: 772.4 - 2163.8\n",
      "2025-06-25 21:35:56,488 - INFO - elevation_median range: 764.0 - 2182.0\n",
      "2025-06-25 21:35:56,489 - INFO - Loading swe data from elevation_extracted_full_CaSR_v3.1_P_SWE_LAND_combined_full.csv...\n",
      "2025-06-25 21:36:03,105 - INFO - Loaded 5,014,152 records for swe\n",
      "2025-06-25 21:36:03,107 - INFO - Data columns: ['point_id', 'original_lon', 'original_lat', 'grid_lon', 'grid_lat', 'elevation_min', 'elevation_max', 'elevation_mean', 'elevation_median', 'time', 'CaSR_v3.1_P_SWE_LAND']\n",
      "2025-06-25 21:36:03,110 - INFO - Data variable: CaSR_v3.1_P_SWE_LAND\n",
      "2025-06-25 21:36:03,120 - INFO - Null values in CaSR_v3.1_P_SWE_LAND: 4,805,229 (95.8%)\n",
      "2025-06-25 21:36:03,140 - INFO - CaSR_v3.1_P_SWE_LAND range: 0.000 - 423.250\n",
      "2025-06-25 21:36:03,161 - INFO - Time range: 1979-12-31 13:00:00 to 2023-12-31 12:00:00\n",
      "2025-06-25 21:36:03,162 - INFO - Elevation columns: ['elevation_min', 'elevation_max', 'elevation_mean', 'elevation_median']\n",
      "2025-06-25 21:36:03,174 - INFO - elevation_min range: 0.0 - 1440.0\n",
      "2025-06-25 21:36:03,184 - INFO - elevation_max range: 998.0 - 3490.0\n",
      "2025-06-25 21:36:03,194 - INFO - elevation_mean range: 772.4 - 2163.8\n",
      "2025-06-25 21:36:03,205 - INFO - elevation_median range: 764.0 - 2182.0\n",
      "2025-06-25 21:36:03,207 - INFO - Filtering and merging data...\n",
      "2025-06-25 21:36:03,208 - INFO - Precipitation column: CaSR_v3.1_A_PR24_SFC\n",
      "2025-06-25 21:36:03,210 - INFO - SWE column: CaSR_v3.1_P_SWE_LAND\n",
      "2025-06-25 21:36:03,211 - INFO - Merging on keys: ['point_id', 'original_lon', 'original_lat', 'grid_lon', 'grid_lat', 'time']\n",
      "2025-06-25 21:36:03,212 - INFO - Performing merge operation...\n",
      "2025-06-25 21:36:04,973 - INFO - Merged dataset size: 5,014,152 records\n",
      "2025-06-25 21:36:05,178 - INFO - Cleaned up duplicate elevation columns: ['elevation_min_swe', 'elevation_min_precip', 'elevation_max_swe', 'elevation_max_precip', 'elevation_mean_swe', 'elevation_mean_precip', 'elevation_median_swe', 'elevation_median_precip']\n",
      "2025-06-25 21:36:05,179 - INFO - Final precipitation column: CaSR_v3.1_A_PR24_SFC\n",
      "2025-06-25 21:36:05,181 - INFO - Final SWE column: CaSR_v3.1_P_SWE_LAND\n",
      "2025-06-25 21:36:05,183 - INFO - Total merged records: 5,014,152\n",
      "2025-06-25 21:36:05,190 - INFO - Records with null precipitation: 4,805,229\n",
      "2025-06-25 21:36:05,198 - INFO - Records with null SWE: 4,805,229\n",
      "2025-06-25 21:36:05,249 - INFO - Records with non-null values in both variables: 208,923\n",
      "2025-06-25 21:36:05,251 - INFO - Applying additional data quality filters...\n",
      "2025-06-25 21:36:05,253 - INFO - Final filtered dataset size: 208,923 records\n",
      "2025-06-25 21:36:05,290 - INFO - Analyzing elevation patterns...\n",
      "2025-06-25 21:36:05,292 - INFO - Using elevation column: elevation_mean\n",
      "2025-06-25 21:36:05,360 - INFO - Correlation between precipitation and SWE: -0.012\n",
      "2025-06-25 21:36:05,371 - INFO - Overall Statistics:\n",
      "2025-06-25 21:36:05,372 - INFO -   total_records: 208923\n",
      "2025-06-25 21:36:05,373 - INFO -   unique_points: 13\n",
      "2025-06-25 21:36:05,373 - INFO -   time_span_days: 16070\n",
      "2025-06-25 21:36:05,374 - INFO -   elevation_range: 772.4 - 2163.8\n",
      "2025-06-25 21:36:05,375 - INFO -   precip_correlation_with_elevation: 0.05825719363526828\n",
      "2025-06-25 21:36:05,376 - INFO -   swe_correlation_with_elevation: 0.36786356931775616\n",
      "2025-06-25 21:36:05,378 - INFO - Saving results to c:\\Users\\walimunige.rupasingh\\OneDrive - University of Calgary\\Documents\\GitHub\\snowdroughtindex-main\\data\\output_data\\filtered_elevation\n",
      "2025-06-25 21:36:06,675 - INFO - Saved filtered data to: c:\\Users\\walimunige.rupasingh\\OneDrive - University of Calgary\\Documents\\GitHub\\snowdroughtindex-main\\data\\output_data\\filtered_elevation\\filtered_elevation_data.csv\n",
      "2025-06-25 21:36:06,682 - INFO - Saved statistics to: c:\\Users\\walimunige.rupasingh\\OneDrive - University of Calgary\\Documents\\GitHub\\snowdroughtindex-main\\data\\output_data\\filtered_elevation\\elevation_statistics.csv\n",
      "2025-06-25 21:36:06,997 - INFO - Saved filtered data to: c:\\Users\\walimunige.rupasingh\\OneDrive - University of Calgary\\Documents\\GitHub\\snowdroughtindex-main\\data\\output_data\\filtered_elevation\\filtered_elevation_data.parquet\n",
      "2025-06-25 21:36:07,009 - INFO - Saved statistics to: c:\\Users\\walimunige.rupasingh\\OneDrive - University of Calgary\\Documents\\GitHub\\snowdroughtindex-main\\data\\output_data\\filtered_elevation\\elevation_statistics.parquet\n",
      "2025-06-25 21:36:07,017 - INFO - Summary saved to: c:\\Users\\walimunige.rupasingh\\OneDrive - University of Calgary\\Documents\\GitHub\\snowdroughtindex-main\\data\\output_data\\filtered_elevation\\filtering_summary.json\n"
     ]
    },
    {
     "name": "stdout",
     "output_type": "stream",
     "text": [
      "\n",
      "======================================================================\n",
      "ELEVATION DATA FILTERING SUMMARY\n",
      "======================================================================\n",
      "Processing date: 2025-06-25T21:36:07.011599\n",
      "Source files:\n",
      "  Precipitation: elevation_extracted_full_CaSR_v3.1_A_PR24_SFC_combined_full.csv\n",
      "  SWE: elevation_extracted_full_CaSR_v3.1_P_SWE_LAND_combined_full.csv\n",
      "Filtered records (non-null precip & SWE): 208,923\n",
      "Unique points with valid data: 13\n",
      "Time range: 1980-01-01T12:00:00 to 2023-12-31T12:00:00\n",
      "\n",
      "Overall Statistics:\n",
      "  Time span: 16,070 days\n",
      "  Elevation range: 772.4 - 2163.8\n",
      "  Precip-Elevation correlation: 0.058\n",
      "  SWE-Elevation correlation: 0.368\n",
      "\n",
      "Elevation Bin Statistics:\n",
      "                  precip_mean  precip_std  precip_count  precip_min  precip_max  swe_mean  swe_std  swe_count  swe_min  swe_max  unique_points\n",
      "elevation_bin                                                                                                                                 \n",
      "(771.0, 912.0]          0.001       0.003         16071         0.0       0.072     4.562    9.682      16071      0.0   89.750              1\n",
      "(912.0, 1051.0]         0.001       0.003         16071         0.0       0.078     9.585   21.387      16071      0.0  187.625              1\n",
      "(1190.0, 1329.0]        0.001       0.004         32142         0.0       0.108     5.644   11.087      32142      0.0  109.875              2\n",
      "(1468.0, 1607.0]        0.001       0.004         32142         0.0       0.107     8.305   13.447      32142      0.0   98.000              2\n",
      "(1607.0, 1746.0]        0.002       0.005         16071         0.0       0.135     7.736   12.491      16071      0.0  113.000              1\n",
      "(1746.0, 1886.0]        0.002       0.005         16071         0.0       0.113    12.000   15.858      16071      0.0   96.500              1\n",
      "(2025.0, 2164.0]        0.002       0.003         80355         0.0       0.107    47.267   65.301      80355      0.0  423.250              5\n",
      "======================================================================\n",
      "\n",
      "Elevation data filtering and merging completed successfully!\n"
     ]
    }
   ],
   "source": [
    "# Configure processing parameters\n",
    "sample_points = 0  # Number of elevation points to sample for testing\n",
    "sample_time = 0     # Number of time steps to sample for testing\n",
    "\n",
    "print(f\"Processing configuration:\")\n",
    "print(f\"  Sample points: {sample_points}\")\n",
    "print(f\"  Sample time steps: {sample_time}\")\n",
    "print(f\"\\nStarting elevation data filtering and merging process...\")\n",
    "\n",
    "# Process the data using the existing functionality\n",
    "try:\n",
    "    elevation_filter.process(\n",
    "        sample_points=sample_points,\n",
    "        sample_time=sample_time\n",
    "    )\n",
    "    print(\"\\nElevation data filtering and merging completed successfully!\")\n",
    "except Exception as e:\n",
    "    print(f\"Error during processing: {e}\")\n",
    "    raise"
   ]
  },
  {
   "cell_type": "markdown",
   "metadata": {},
   "source": [
    "### Examine Filtered Results\n",
    "\n",
    "Let's check what files were created by the filtering process."
   ]
  },
  {
   "cell_type": "code",
   "execution_count": 15,
   "metadata": {},
   "outputs": [
    {
     "name": "stdout",
     "output_type": "stream",
     "text": [
      "Filtered files created in c:\\Users\\walimunige.rupasingh\\OneDrive - University of Calgary\\Documents\\GitHub\\snowdroughtindex-main\\data\\output_data\\filtered_elevation:\n",
      "Total files: 0\n",
      "\n"
     ]
    }
   ],
   "source": [
    "# List filtered output files\n",
    "filtered_files = list(filtered_output_path.glob('*'))\n",
    "\n",
    "print(f\"Filtered files created in {filtered_output_path}:\")\n",
    "print(f\"Total files: {len(filtered_files)}\\n\")\n",
    "\n",
    "for i, file_path in enumerate(filtered_files, 1):\n",
    "    if file_path.is_file():\n",
    "        file_size = file_path.stat().st_size / 1024  # Size in KB\n",
    "        print(f\"{i}. {file_path.name} ({file_size:.1f} KB)\")"
   ]
  },
  {
   "cell_type": "markdown",
   "metadata": {},
   "source": [
    "### Load and Examine Filtered Data\n",
    "\n",
    "Let's load and examine the filtered elevation data to understand the results."
   ]
  },
  {
   "cell_type": "code",
   "execution_count": 18,
   "metadata": {},
   "outputs": [
    {
     "name": "stdout",
     "output_type": "stream",
     "text": [
      "Loaded filtered elevation data: 208923 records\n",
      "\n",
      "Data columns: ['point_id', 'original_lon', 'original_lat', 'grid_lon', 'grid_lat', 'time', 'CaSR_v3.1_A_PR24_SFC', 'CaSR_v3.1_P_SWE_LAND', 'elevation_min', 'elevation_max', 'elevation_mean', 'elevation_median']\n",
      "\n",
      "First 5 records:\n",
      "   point_id  original_lon  original_lat    grid_lon  grid_lat  \\\n",
      "0         0   -113.200038     50.838084  246.849396  50.83371   \n",
      "1         0   -113.200038     50.838084  246.849396  50.83371   \n",
      "2         0   -113.200038     50.838084  246.849396  50.83371   \n",
      "3         0   -113.200038     50.838084  246.849396  50.83371   \n",
      "4         0   -113.200038     50.838084  246.849396  50.83371   \n",
      "\n",
      "                  time  CaSR_v3.1_A_PR24_SFC  CaSR_v3.1_P_SWE_LAND  \\\n",
      "0  1980-01-01 12:00:00              0.000006               42.5000   \n",
      "1  1980-01-02 12:00:00              0.000000               45.6250   \n",
      "2  1980-01-03 12:00:00              0.000000               48.0000   \n",
      "3  1980-01-04 12:00:00              0.000003               48.3750   \n",
      "4  1980-01-05 12:00:00              0.000582               48.9375   \n",
      "\n",
      "   elevation_min  elevation_max  elevation_mean  elevation_median  \n",
      "0          776.0         1177.0      953.688214             944.0  \n",
      "1          776.0         1177.0      953.688214             944.0  \n",
      "2          776.0         1177.0      953.688214             944.0  \n",
      "3          776.0         1177.0      953.688214             944.0  \n",
      "4          776.0         1177.0      953.688214             944.0  \n",
      "\n",
      "Basic statistics:\n",
      "            point_id   original_lon   original_lat       grid_lon  \\\n",
      "count  208923.000000  208923.000000  208923.000000  208923.000000   \n",
      "mean        6.000000    -114.692060      50.987567     245.321648   \n",
      "std         3.741666       1.111921       0.304511       1.125895   \n",
      "min         0.000000    -116.150036      50.359925     243.812500   \n",
      "25%         3.000000    -115.439274      50.838084     244.556854   \n",
      "50%         6.000000    -115.090018      50.918890     244.919464   \n",
      "75%         9.000000    -114.369761      51.193008     245.637085   \n",
      "max        12.000000    -111.786401      51.462922     248.260605   \n",
      "\n",
      "            grid_lat  CaSR_v3.1_A_PR24_SFC  CaSR_v3.1_P_SWE_LAND  \\\n",
      "count  208923.000000          2.089230e+05         208923.000000   \n",
      "mean       50.985493          1.372195e-03             22.931964   \n",
      "std         0.303100          3.822627e-03             46.193239   \n",
      "min        50.355053          0.000000e+00              0.000000   \n",
      "25%        50.833710          2.700000e-07              0.000000   \n",
      "50%        50.917610          6.359900e-05              2.419922   \n",
      "75%        51.151913          8.457690e-04             23.750000   \n",
      "max        51.419113          1.351507e-01            423.250000   \n",
      "\n",
      "       elevation_min  elevation_max  elevation_mean  elevation_median  \n",
      "count  208923.000000  208923.000000   208923.000000     208923.000000  \n",
      "mean     1024.076923    2746.846154     1639.097148       1601.076923  \n",
      "std       367.770344     835.091570      450.554775        465.171299  \n",
      "min         0.000000     998.000000      772.376015        764.000000  \n",
      "25%       949.000000    2479.000000     1259.913722       1227.000000  \n",
      "50%      1052.000000    3126.000000     1675.498185       1632.000000  \n",
      "75%      1275.000000    3296.000000     2076.477015       2105.000000  \n",
      "max      1440.000000    3490.000000     2163.807362       2182.000000  \n",
      "\n",
      "Elevation statistics by elevation bins:\n",
      "                  precip_mean  precip_std  precip_count  precip_min  \\\n",
      "elevation_bin                                                         \n",
      "(771.0, 912.0]          0.001       0.003         16071         0.0   \n",
      "(912.0, 1051.0]         0.001       0.003         16071         0.0   \n",
      "(1190.0, 1329.0]        0.001       0.004         32142         0.0   \n",
      "(1468.0, 1607.0]        0.001       0.004         32142         0.0   \n",
      "(1607.0, 1746.0]        0.002       0.005         16071         0.0   \n",
      "(1746.0, 1886.0]        0.002       0.005         16071         0.0   \n",
      "(2025.0, 2164.0]        0.002       0.003         80355         0.0   \n",
      "\n",
      "                  precip_max  swe_mean  swe_std  swe_count  swe_min  swe_max  \\\n",
      "elevation_bin                                                                  \n",
      "(771.0, 912.0]         0.072     4.562    9.682      16071      0.0   89.750   \n",
      "(912.0, 1051.0]        0.078     9.585   21.387      16071      0.0  187.625   \n",
      "(1190.0, 1329.0]       0.108     5.644   11.087      32142      0.0  109.875   \n",
      "(1468.0, 1607.0]       0.107     8.305   13.447      32142      0.0   98.000   \n",
      "(1607.0, 1746.0]       0.135     7.736   12.491      16071      0.0  113.000   \n",
      "(1746.0, 1886.0]       0.113    12.000   15.858      16071      0.0   96.500   \n",
      "(2025.0, 2164.0]       0.107    47.267   65.301      80355      0.0  423.250   \n",
      "\n",
      "                  unique_points  \n",
      "elevation_bin                    \n",
      "(771.0, 912.0]                1  \n",
      "(912.0, 1051.0]               1  \n",
      "(1190.0, 1329.0]              2  \n",
      "(1468.0, 1607.0]              2  \n",
      "(1607.0, 1746.0]              1  \n",
      "(1746.0, 1886.0]              1  \n",
      "(2025.0, 2164.0]              5  \n"
     ]
    }
   ],
   "source": [
    "# Load the filtered data if it exists\n",
    "filtered_csv = filtered_output_path / \"filtered_elevation_data.csv\"\n",
    "stats_csv = filtered_output_path / \"elevation_statistics.csv\"\n",
    "\n",
    "if filtered_csv.exists():\n",
    "    # Load filtered data\n",
    "    filtered_df = pd.read_csv(filtered_csv)\n",
    "    print(f\"Loaded filtered elevation data: {len(filtered_df)} records\")\n",
    "    print(f\"\\nData columns: {list(filtered_df.columns)}\")\n",
    "    print(f\"\\nFirst 5 records:\")\n",
    "    print(filtered_df.head())\n",
    "    \n",
    "    # Show basic statistics\n",
    "    print(f\"\\nBasic statistics:\")\n",
    "    numeric_cols = filtered_df.select_dtypes(include=[np.number]).columns\n",
    "    print(filtered_df[numeric_cols].describe())\n",
    "    \n",
    "    # Load elevation statistics if available\n",
    "    if stats_csv.exists():\n",
    "        stats_df = pd.read_csv(stats_csv, index_col=0)\n",
    "        print(f\"\\nElevation statistics by elevation bins:\")\n",
    "        print(stats_df)\n",
    "else:\n",
    "    print(\"No filtered data file found. Check if the processing completed successfully.\")"
   ]
  },
  {
   "cell_type": "markdown",
   "metadata": {},
   "source": [
    "## Summary\n",
    "\n",
    "This notebook has demonstrated the complete workflow for:\n",
    "\n",
    "1. **CaSR File Combination**: Combined NetCDF files across temporal and spatial dimensions using three different approaches:\n",
    "   - Temporal combination only (keeping spatial regions separate)\n",
    "   - Spatial combination only (keeping time periods separate)\n",
    "   - Full combination (both spatial and temporal dimensions)\n",
    "\n",
    "2. **Elevation Data Extraction**: Used the `OptimizedElevationDataExtractor` to extract precipitation and SWE data at specific elevation points from the combined CaSR files\n",
    "\n",
    "3. **Data Filtering and Merging**: Used the existing `ElevationDataFilter` class to create a clean dataset with only non-null precipitation and SWE values\n",
    "\n",
    "4. **Elevation Pattern Analysis**: Analyzed relationships between elevation and climate variables\n",
    "\n",
    "5. **Data Export**: Saved the filtered and merged dataset for further analysis\n",
    "\n",
    "The final output includes:\n",
    "- **Combined CaSR files**: NetCDF files with temporal, spatial, or full combinations\n",
    "- **Extracted elevation data**: CSV/Parquet files with climate data at elevation points\n",
    "- **filtered_elevation_data.csv/parquet**: Main dataset with non-null precipitation and SWE values\n",
    "- **elevation_statistics.csv/parquet**: Statistical analysis by elevation bins\n",
    "- **filtering_summary.json**: Summary report of the filtering process\n",
    "\n",
    "This workflow provides a foundation for analyzing snow drought patterns across different elevation zones using the CaSR dataset.\n",
    "\n",
    "### Key Improvement\n",
    "\n",
    "This improved version **reuses existing functionality** from both `extract_elevation_data_optimized.py` and `filter_merge_elevation_data.py` instead of duplicating code in the notebook. This approach:\n",
    "\n",
    "- **Eliminates code duplication** (removed ~200+ lines of redundant code)\n",
    "- **Maintains consistency** across the project\n",
    "- **Makes maintenance easier** - updates to logic only need to be made in one place\n",
    "- **Follows DRY (Don't Repeat Yourself) principles**\n",
    "- **Reduces notebook complexity** and focuses on the workflow rather than implementation details\n",
    "- **Includes all original functionality** while being more maintainable"
   ]
  }
 ],
 "metadata": {
  "kernelspec": {
   "display_name": "base",
   "language": "python",
   "name": "python3"
  },
  "language_info": {
   "codemirror_mode": {
    "name": "ipython",
    "version": 3
   },
   "file_extension": ".py",
   "mimetype": "text/x-python",
   "name": "python",
   "nbconvert_exporter": "python",
   "pygments_lexer": "ipython3",
   "version": "3.11.4"
  }
 },
 "nbformat": 4,
 "nbformat_minor": 4
}
