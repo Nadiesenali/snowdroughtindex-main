{
 "cells": [
  {
   "cell_type": "markdown",
   "metadata": {},
   "source": [
    "# CaSR SWE File Combination Workflow\n",
    "\n",
    "This notebook demonstrates how to combine NetCDF files from the CaSR SWE dataset using the `combine_casr_swe_files.py` script. The CaSR dataset contains files organized by variable types, spatial regions, and time periods that can be combined in different ways:\n",
    "\n",
    "1. **Temporal combination**: Combine files across time periods\n",
    "2. **Spatial combination**: Combine files across spatial regions  \n",
    "3. **Full combination**: Combine both temporal and spatial dimensions\n",
    "\n",
    "The CaSR SWE dataset includes:\n",
    "- **Variable types**: A_PR24_SFC (precipitation) and P_SWE_LAND (snow water equivalent)\n",
    "- **Spatial regions**: Different rlon/rlat coordinate ranges\n",
    "- **Time periods**: 4-year chunks from 1980-2023"
   ]
  },
  {
   "cell_type": "markdown",
   "metadata": {},
   "source": [
    "## Setup and Imports\n",
    "\n",
    "**Note**: If you encounter NumPy compatibility errors, please run one of the following commands in your terminal before running this notebook:\n",
    "\n",
    "**Option 1 (Recommended)**: Install from requirements file\n",
    "```bash\n",
    "pip install -r requirements_notebook.txt\n",
    "```\n",
    "\n",
    "**Option 2**: Manual installation with compatible versions\n",
    "```bash\n",
    "pip install \"numpy<2\" xarray pandas matplotlib netcdf4\n",
    "```\n",
    "\n",
    "**Option 3**: Using conda\n",
    "```bash\n",
    "conda install numpy=1.26 xarray pandas matplotlib netcdf4\n",
    "```\n",
    "\n",
    "**Option 4**: Create a new environment with compatible versions\n",
    "```bash\n",
    "conda create -n snowdrought python=3.9 numpy=1.26 xarray pandas matplotlib netcdf4 jupyter\n",
    "conda activate snowdrought\n",
    "```"
   ]
  },
  {
   "cell_type": "code",
   "execution_count": 1,
   "metadata": {},
   "outputs": [
    {
     "name": "stdout",
     "output_type": "stream",
     "text": [
      "NumPy version: 1.26.0\n",
      "xarray version: 2025.6.1\n",
      "pandas version: 2.1.1\n",
      "matplotlib version: 3.8.0\n",
      "Successfully imported CaSRFileCombiner\n",
      "Successfully imported ElevationDataFilter\n",
      "Successfully imported OptimizedElevationDataExtractor\n"
     ]
    }
   ],
   "source": [
    "# Check for NumPy compatibility issues\n",
    "import warnings\n",
    "warnings.filterwarnings('ignore', category=UserWarning, module='numpy')\n",
    "\n",
    "# Import required packages\n",
    "import sys\n",
    "import os\n",
    "from pathlib import Path\n",
    "\n",
    "# Handle NumPy compatibility\n",
    "try:\n",
    "    import numpy as np\n",
    "    print(f\"NumPy version: {np.__version__}\")\n",
    "except ImportError as e:\n",
    "    print(f\"NumPy import error: {e}\")\n",
    "    print(\"Please install NumPy: pip install numpy\")\n",
    "\n",
    "# Import data science packages with error handling\n",
    "try:\n",
    "    import xarray as xr\n",
    "    print(f\"xarray version: {xr.__version__}\")\n",
    "except ImportError as e:\n",
    "    print(f\"xarray import error: {e}\")\n",
    "    print(\"If you encounter NumPy compatibility issues, try:\")\n",
    "    print(\"  pip install 'numpy<2' xarray pandas matplotlib\")\n",
    "    print(\"  or\")\n",
    "    print(\"  conda install numpy=1.26 xarray pandas matplotlib\")\n",
    "    raise\n",
    "\n",
    "try:\n",
    "    import pandas as pd\n",
    "    print(f\"pandas version: {pd.__version__}\")\n",
    "except ImportError as e:\n",
    "    print(f\"pandas import error: {e}\")\n",
    "    raise\n",
    "\n",
    "try:\n",
    "    import matplotlib.pyplot as plt\n",
    "    print(f\"matplotlib version: {plt.matplotlib.__version__}\")\n",
    "except ImportError as e:\n",
    "    print(f\"matplotlib import error: {e}\")\n",
    "    raise\n",
    "\n",
    "# Add the project root to Python path to import the combine script\n",
    "project_root = Path().cwd().parent.parent\n",
    "sys.path.append(str(project_root))\n",
    "\n",
    "# Import the CaSR file combiner\n",
    "try:\n",
    "    from combine_casr_swe_files import CaSRFileCombiner\n",
    "    print(\"Successfully imported CaSRFileCombiner\")\n",
    "except ImportError as e:\n",
    "    print(f\"Error importing CaSRFileCombiner: {e}\")\n",
    "    print(\"Make sure combine_casr_swe_files.py is in the project root directory\")\n",
    "    raise\n",
    "\n",
    "# Import the elevation data filter (REUSING EXISTING CODE)\n",
    "try:\n",
    "    # Force reload to get latest version\n",
    "    import importlib\n",
    "    if 'filter_merge_elevation_data' in sys.modules:\n",
    "        importlib.reload(sys.modules['filter_merge_elevation_data'])\n",
    "    from filter_merge_elevation_data import ElevationDataFilter\n",
    "    print(\"Successfully imported ElevationDataFilter\")\n",
    "except ImportError as e:\n",
    "    print(f\"Error importing ElevationDataFilter: {e}\")\n",
    "    print(\"Make sure filter_merge_elevation_data.py is in the project root directory\")\n",
    "    raise\n",
    "\n",
    "# Import the optimized elevation data extractor\n",
    "try:\n",
    "    from extract_elevation_data_optimized import OptimizedElevationDataExtractor\n",
    "    print(\"Successfully imported OptimizedElevationDataExtractor\")\n",
    "except ImportError as e:\n",
    "    print(f\"Error importing OptimizedElevationDataExtractor: {e}\")\n",
    "    print(\"Make sure extract_elevation_data_optimized.py is in the project root directory\")\n",
    "    raise"
   ]
  },
  {
   "cell_type": "markdown",
   "metadata": {},
   "source": [
    "## Configuration\n",
    "\n",
    "Set up the input and output directories for your CaSR SWE data files."
   ]
  },
  {
   "cell_type": "code",
   "execution_count": 2,
   "metadata": {},
   "outputs": [
    {
     "name": "stdout",
     "output_type": "stream",
     "text": [
      "Input directory: c:\\Users\\walimunige.rupasingh\\OneDrive - University of Calgary\\Documents\\GitHub\\snowdroughtindex-main\\data\\input_data\\CaSR_SWE\n",
      "Output directory: c:\\Users\\walimunige.rupasingh\\OneDrive - University of Calgary\\Documents\\GitHub\\snowdroughtindex-main\\data\\output_data\\combined_casr\n",
      "Elevation directory: c:\\Users\\walimunige.rupasingh\\OneDrive - University of Calgary\\Documents\\GitHub\\snowdroughtindex-main\\data\\input_data\\Elevation\n",
      "Filtered output directory: c:\\Users\\walimunige.rupasingh\\OneDrive - University of Calgary\\Documents\\GitHub\\snowdroughtindex-main\\data\\output_data\\filtered_elevation\n",
      "Input directory exists: True\n",
      "Elevation directory exists: True\n"
     ]
    }
   ],
   "source": [
    "# Define data paths - modify these paths according to your data location\n",
    "input_dir = r\"data/input_data/CaSR_SWE\"  # Directory containing CaSR NetCDF files\n",
    "output_dir = r\"data/output_data/combined_casr\"  # Directory for combined output files\n",
    "elevation_dir = r\"data/input_data/Elevation\"  # Directory containing elevation shapefiles\n",
    "filtered_output_dir = r\"data/output_data/filtered_elevation\"  # Directory for filtered elevation data\n",
    "\n",
    "# Create absolute paths\n",
    "input_path = project_root / input_dir\n",
    "output_path = project_root / output_dir\n",
    "elevation_path = project_root / elevation_dir\n",
    "filtered_output_path = project_root / filtered_output_dir\n",
    "\n",
    "print(f\"Input directory: {input_path}\")\n",
    "print(f\"Output directory: {output_path}\")\n",
    "print(f\"Elevation directory: {elevation_path}\")\n",
    "print(f\"Filtered output directory: {filtered_output_path}\")\n",
    "print(f\"Input directory exists: {input_path.exists()}\")\n",
    "print(f\"Elevation directory exists: {elevation_path.exists()}\")"
   ]
  },
  {
   "cell_type": "markdown",
   "metadata": {},
   "source": [
    "## Initialize the CaSR File Combiner\n",
    "\n",
    "Create an instance of the `CaSRFileCombiner` class with your input and output directories."
   ]
  },
  {
   "cell_type": "code",
   "execution_count": 3,
   "metadata": {},
   "outputs": [
    {
     "name": "stderr",
     "output_type": "stream",
     "text": [
      "2025-06-25 10:31:21,942 - INFO - Input directory: c:\\Users\\walimunige.rupasingh\\OneDrive - University of Calgary\\Documents\\GitHub\\snowdroughtindex-main\\data\\input_data\\CaSR_SWE\n",
      "2025-06-25 10:31:21,946 - INFO - Output directory: c:\\Users\\walimunige.rupasingh\\OneDrive - University of Calgary\\Documents\\GitHub\\snowdroughtindex-main\\data\\output_data\\combined_casr\n"
     ]
    }
   ],
   "source": [
    "# Initialize the file combiner\n",
    "combiner = CaSRFileCombiner(input_dir=str(input_path), output_dir=str(output_path))"
   ]
  },
  {
   "cell_type": "markdown",
   "metadata": {},
   "source": [
    "## Explore Dataset Information\n",
    "\n",
    "Before combining files, let's examine what data is available in the input directory."
   ]
  },
  {
   "cell_type": "code",
   "execution_count": 4,
   "metadata": {},
   "outputs": [
    {
     "name": "stderr",
     "output_type": "stream",
     "text": [
      "2025-06-25 10:31:25,357 - INFO - Found 1 file groups:\n",
      "2025-06-25 10:31:25,360 - INFO -   P_SWE_LAND: 44 files\n"
     ]
    },
    {
     "name": "stdout",
     "output_type": "stream",
     "text": [
      "\n",
      "============================================================\n",
      "CASR SWE DATASET INFORMATION\n",
      "============================================================\n",
      "\n",
      "Group: P_SWE_LAND\n",
      "Number of files: 44\n",
      "Time coverage: 1980-2023\n",
      "Spatial regions: 4\n",
      "  rlon 211-245, rlat 386-420\n",
      "  rlon 211-245, rlat 421-455\n",
      "  rlon 246-280, rlat 386-420\n",
      "  rlon 246-280, rlat 421-455\n",
      "Variables: ['rotated_pole', 'CaSR_v3.1_P_SWE_LAND']\n",
      "Dimensions: {'time': 35064, 'rlat': 35, 'rlon': 35}\n"
     ]
    }
   ],
   "source": [
    "# Get information about the available datasets\n",
    "combiner.get_dataset_info()"
   ]
  },
  {
   "cell_type": "markdown",
   "metadata": {},
   "source": [
    "## Examine File Groups\n",
    "\n",
    "Let's look at how the files are grouped by variable type."
   ]
  },
  {
   "cell_type": "code",
   "execution_count": 5,
   "metadata": {},
   "outputs": [
    {
     "name": "stderr",
     "output_type": "stream",
     "text": [
      "2025-06-25 10:31:33,046 - INFO - Found 1 file groups:\n",
      "2025-06-25 10:31:33,051 - INFO -   P_SWE_LAND: 44 files\n"
     ]
    },
    {
     "name": "stdout",
     "output_type": "stream",
     "text": [
      "Available file groups:\n",
      "\n",
      "P_SWE_LAND: 44 files\n",
      "  1. CaSR_v3.1_P_SWE_LAND_rlon211-245_rlat386-420_1980-1983.nc\n",
      "  2. CaSR_v3.1_P_SWE_LAND_rlon211-245_rlat386-420_1984-1987.nc\n",
      "  3. CaSR_v3.1_P_SWE_LAND_rlon211-245_rlat386-420_1988-1991.nc\n",
      "  ... and 41 more files\n"
     ]
    }
   ],
   "source": [
    "# Get file groups\n",
    "file_groups = combiner.get_file_groups()\n",
    "\n",
    "print(\"Available file groups:\")\n",
    "for group_name, files in file_groups.items():\n",
    "    print(f\"\\n{group_name}: {len(files)} files\")\n",
    "    \n",
    "    # Show first few filenames as examples\n",
    "    for i, file_path in enumerate(files[:3]):\n",
    "        filename = Path(file_path).name\n",
    "        print(f\"  {i+1}. {filename}\")\n",
    "    \n",
    "    if len(files) > 3:\n",
    "        print(f\"  ... and {len(files) - 3} more files\")"
   ]
  },
  {
   "cell_type": "markdown",
   "metadata": {},
   "source": [
    "## Example: Parse Individual Filenames\n",
    "\n",
    "Let's examine how the filename parsing works for understanding the file structure."
   ]
  },
  {
   "cell_type": "code",
   "execution_count": 6,
   "metadata": {},
   "outputs": [
    {
     "name": "stdout",
     "output_type": "stream",
     "text": [
      "Sample filename: CaSR_v3.1_P_SWE_LAND_rlon211-245_rlat386-420_1980-1983.nc\n",
      "\n",
      "Parsed information:\n",
      "  version: v3.1\n",
      "  variable: P_SWE_LAND\n",
      "  surface: LAND\n",
      "  rlon_range: rlon211-245\n",
      "  rlat_range: rlat386-420\n",
      "  time_range: 1980-1983\n",
      "  rlon_start: 211\n",
      "  rlon_end: 245\n",
      "  rlat_start: 386\n",
      "  rlat_end: 420\n",
      "  year_start: 1980\n",
      "  year_end: 1983\n"
     ]
    }
   ],
   "source": [
    "# Get a sample file and parse its filename\n",
    "if file_groups:\n",
    "    # Get the first file from the first group\n",
    "    first_group = list(file_groups.keys())[0]\n",
    "    sample_file = file_groups[first_group][0]\n",
    "    sample_filename = Path(sample_file).name\n",
    "    \n",
    "    print(f\"Sample filename: {sample_filename}\")\n",
    "    \n",
    "    # Parse the filename\n",
    "    parsed_info = combiner.parse_filename(sample_filename)\n",
    "    \n",
    "    print(\"\\nParsed information:\")\n",
    "    for key, value in parsed_info.items():\n",
    "        print(f\"  {key}: {value}\")\n",
    "else:\n",
    "    print(\"No files found in the input directory. Please check your input path.\")"
   ]
  },
  {
   "cell_type": "markdown",
   "metadata": {},
   "source": [
    "## Combination Options\n",
    "\n",
    "Now let's demonstrate the different ways to combine the CaSR files."
   ]
  },
  {
   "cell_type": "markdown",
   "metadata": {},
   "source": [
    "### Option 1: Temporal Combination Only\n",
    "\n",
    "Combine files across time periods while keeping spatial regions separate."
   ]
  },
  {
   "cell_type": "code",
   "execution_count": null,
   "metadata": {},
   "outputs": [],
   "source": [
    "# Temporal combination only\n",
    "print(\"Performing temporal combination (keeping spatial regions separate)...\")\n",
    "combiner.combine_by_variable(combine_spatial=False, combine_temporal=True)\n",
    "print(\"Temporal combination completed!\")"
   ]
  },
  {
   "cell_type": "markdown",
   "metadata": {},
   "source": [
    "### Option 2: Spatial Combination Only\n",
    "\n",
    "Combine files across spatial regions while keeping time periods separate."
   ]
  },
  {
   "cell_type": "code",
   "execution_count": null,
   "metadata": {},
   "outputs": [],
   "source": [
    "# Spatial combination only\n",
    "print(\"Performing spatial combination (keeping time periods separate)...\")\n",
    "combiner.combine_by_variable(combine_spatial=True, combine_temporal=False)\n",
    "print(\"Spatial combination completed!\")"
   ]
  },
  {
   "cell_type": "markdown",
   "metadata": {},
   "source": [
    "### Option 3: Full Combination\n",
    "\n",
    "Combine files across both spatial and temporal dimensions to create complete datasets."
   ]
  },
  {
   "cell_type": "code",
   "execution_count": 7,
   "metadata": {},
   "outputs": [
    {
     "name": "stderr",
     "output_type": "stream",
     "text": [
      "2025-06-25 10:32:02,458 - INFO - Found 1 file groups:\n",
      "2025-06-25 10:32:02,463 - INFO -   P_SWE_LAND: 44 files\n",
      "2025-06-25 10:32:02,467 - INFO - \n",
      "Processing group: P_SWE_LAND\n",
      "2025-06-25 10:32:02,470 - INFO - Combining 44 files spatially...\n",
      "2025-06-25 10:32:02,477 - INFO -   Processing time period: 1980-1983\n",
      "2025-06-25 10:32:02,481 - INFO -     Loading: CaSR_v3.1_P_SWE_LAND_rlon211-245_rlat386-420_1980-1983.nc\n",
      "2025-06-25 10:32:02,518 - INFO -     Loading: CaSR_v3.1_P_SWE_LAND_rlon211-245_rlat421-455_1980-1983.nc\n",
      "2025-06-25 10:32:02,549 - INFO -     Loading: CaSR_v3.1_P_SWE_LAND_rlon246-280_rlat386-420_1980-1983.nc\n",
      "2025-06-25 10:32:02,574 - INFO -     Loading: CaSR_v3.1_P_SWE_LAND_rlon246-280_rlat421-455_1980-1983.nc\n",
      "2025-06-25 10:32:02,611 - INFO -     Combining 4 spatial regions...\n"
     ]
    },
    {
     "name": "stdout",
     "output_type": "stream",
     "text": [
      "Performing full combination (both spatial and temporal)...\n"
     ]
    },
    {
     "name": "stderr",
     "output_type": "stream",
     "text": [
      "2025-06-25 10:32:07,937 - INFO -   Processing time period: 1984-1987\n",
      "2025-06-25 10:32:07,940 - INFO -     Loading: CaSR_v3.1_P_SWE_LAND_rlon211-245_rlat386-420_1984-1987.nc\n",
      "2025-06-25 10:32:07,974 - INFO -     Loading: CaSR_v3.1_P_SWE_LAND_rlon211-245_rlat421-455_1984-1987.nc\n",
      "2025-06-25 10:32:08,015 - INFO -     Loading: CaSR_v3.1_P_SWE_LAND_rlon246-280_rlat386-420_1984-1987.nc\n",
      "2025-06-25 10:32:08,057 - INFO -     Loading: CaSR_v3.1_P_SWE_LAND_rlon246-280_rlat421-455_1984-1987.nc\n",
      "2025-06-25 10:32:08,105 - INFO -     Combining 4 spatial regions...\n",
      "2025-06-25 10:32:13,215 - INFO -   Processing time period: 1988-1991\n",
      "2025-06-25 10:32:13,219 - INFO -     Loading: CaSR_v3.1_P_SWE_LAND_rlon211-245_rlat386-420_1988-1991.nc\n",
      "2025-06-25 10:32:13,258 - INFO -     Loading: CaSR_v3.1_P_SWE_LAND_rlon211-245_rlat421-455_1988-1991.nc\n",
      "2025-06-25 10:32:13,289 - INFO -     Loading: CaSR_v3.1_P_SWE_LAND_rlon246-280_rlat386-420_1988-1991.nc\n",
      "2025-06-25 10:32:13,321 - INFO -     Loading: CaSR_v3.1_P_SWE_LAND_rlon246-280_rlat421-455_1988-1991.nc\n",
      "2025-06-25 10:32:13,351 - INFO -     Combining 4 spatial regions...\n",
      "2025-06-25 10:32:18,332 - INFO -   Processing time period: 1992-1995\n",
      "2025-06-25 10:32:18,335 - INFO -     Loading: CaSR_v3.1_P_SWE_LAND_rlon211-245_rlat386-420_1992-1995.nc\n",
      "2025-06-25 10:32:18,368 - INFO -     Loading: CaSR_v3.1_P_SWE_LAND_rlon211-245_rlat421-455_1992-1995.nc\n",
      "2025-06-25 10:32:18,399 - INFO -     Loading: CaSR_v3.1_P_SWE_LAND_rlon246-280_rlat386-420_1992-1995.nc\n",
      "2025-06-25 10:32:18,425 - INFO -     Loading: CaSR_v3.1_P_SWE_LAND_rlon246-280_rlat421-455_1992-1995.nc\n",
      "2025-06-25 10:32:18,453 - INFO -     Combining 4 spatial regions...\n",
      "2025-06-25 10:32:23,399 - INFO -   Processing time period: 1996-1999\n",
      "2025-06-25 10:32:23,402 - INFO -     Loading: CaSR_v3.1_P_SWE_LAND_rlon211-245_rlat386-420_1996-1999.nc\n",
      "2025-06-25 10:32:23,431 - INFO -     Loading: CaSR_v3.1_P_SWE_LAND_rlon211-245_rlat421-455_1996-1999.nc\n",
      "2025-06-25 10:32:23,455 - INFO -     Loading: CaSR_v3.1_P_SWE_LAND_rlon246-280_rlat386-420_1996-1999.nc\n",
      "2025-06-25 10:32:23,488 - INFO -     Loading: CaSR_v3.1_P_SWE_LAND_rlon246-280_rlat421-455_1996-1999.nc\n",
      "2025-06-25 10:32:23,515 - INFO -     Combining 4 spatial regions...\n",
      "2025-06-25 10:32:27,795 - INFO -   Processing time period: 2000-2003\n",
      "2025-06-25 10:32:27,797 - INFO -     Loading: CaSR_v3.1_P_SWE_LAND_rlon211-245_rlat386-420_2000-2003.nc\n",
      "2025-06-25 10:32:27,830 - INFO -     Loading: CaSR_v3.1_P_SWE_LAND_rlon211-245_rlat421-455_2000-2003.nc\n",
      "2025-06-25 10:32:27,865 - INFO -     Loading: CaSR_v3.1_P_SWE_LAND_rlon246-280_rlat386-420_2000-2003.nc\n",
      "2025-06-25 10:32:27,893 - INFO -     Loading: CaSR_v3.1_P_SWE_LAND_rlon246-280_rlat421-455_2000-2003.nc\n",
      "2025-06-25 10:32:27,918 - INFO -     Combining 4 spatial regions...\n",
      "2025-06-25 10:32:32,408 - INFO -   Processing time period: 2004-2007\n",
      "2025-06-25 10:32:32,412 - INFO -     Loading: CaSR_v3.1_P_SWE_LAND_rlon211-245_rlat386-420_2004-2007.nc\n",
      "2025-06-25 10:32:32,437 - INFO -     Loading: CaSR_v3.1_P_SWE_LAND_rlon211-245_rlat421-455_2004-2007.nc\n",
      "2025-06-25 10:32:32,466 - INFO -     Loading: CaSR_v3.1_P_SWE_LAND_rlon246-280_rlat386-420_2004-2007.nc\n",
      "2025-06-25 10:32:32,498 - INFO -     Loading: CaSR_v3.1_P_SWE_LAND_rlon246-280_rlat421-455_2004-2007.nc\n",
      "2025-06-25 10:32:32,545 - INFO -     Combining 4 spatial regions...\n",
      "2025-06-25 10:32:36,996 - INFO -   Processing time period: 2008-2011\n",
      "2025-06-25 10:32:37,002 - INFO -     Loading: CaSR_v3.1_P_SWE_LAND_rlon211-245_rlat386-420_2008-2011.nc\n",
      "2025-06-25 10:32:37,035 - INFO -     Loading: CaSR_v3.1_P_SWE_LAND_rlon211-245_rlat421-455_2008-2011.nc\n",
      "2025-06-25 10:32:37,067 - INFO -     Loading: CaSR_v3.1_P_SWE_LAND_rlon246-280_rlat386-420_2008-2011.nc\n",
      "2025-06-25 10:32:37,096 - INFO -     Loading: CaSR_v3.1_P_SWE_LAND_rlon246-280_rlat421-455_2008-2011.nc\n",
      "2025-06-25 10:32:37,126 - INFO -     Combining 4 spatial regions...\n",
      "2025-06-25 10:32:41,738 - INFO -   Processing time period: 2012-2015\n",
      "2025-06-25 10:32:41,744 - INFO -     Loading: CaSR_v3.1_P_SWE_LAND_rlon211-245_rlat386-420_2012-2015.nc\n",
      "2025-06-25 10:32:41,776 - INFO -     Loading: CaSR_v3.1_P_SWE_LAND_rlon211-245_rlat421-455_2012-2015.nc\n",
      "2025-06-25 10:32:41,810 - INFO -     Loading: CaSR_v3.1_P_SWE_LAND_rlon246-280_rlat386-420_2012-2015.nc\n",
      "2025-06-25 10:32:41,830 - INFO -     Loading: CaSR_v3.1_P_SWE_LAND_rlon246-280_rlat421-455_2012-2015.nc\n",
      "2025-06-25 10:32:41,856 - INFO -     Combining 4 spatial regions...\n",
      "2025-06-25 10:32:46,232 - INFO -   Processing time period: 2016-2019\n",
      "2025-06-25 10:32:46,247 - INFO -     Loading: CaSR_v3.1_P_SWE_LAND_rlon211-245_rlat386-420_2016-2019.nc\n",
      "2025-06-25 10:32:46,291 - INFO -     Loading: CaSR_v3.1_P_SWE_LAND_rlon211-245_rlat421-455_2016-2019.nc\n",
      "2025-06-25 10:32:46,321 - INFO -     Loading: CaSR_v3.1_P_SWE_LAND_rlon246-280_rlat386-420_2016-2019.nc\n",
      "2025-06-25 10:32:46,347 - INFO -     Loading: CaSR_v3.1_P_SWE_LAND_rlon246-280_rlat421-455_2016-2019.nc\n",
      "2025-06-25 10:32:46,373 - INFO -     Combining 4 spatial regions...\n",
      "2025-06-25 10:32:50,594 - INFO -   Processing time period: 2020-2023\n",
      "2025-06-25 10:32:50,595 - INFO -     Loading: CaSR_v3.1_P_SWE_LAND_rlon211-245_rlat386-420_2020-2023.nc\n",
      "2025-06-25 10:32:50,625 - INFO -     Loading: CaSR_v3.1_P_SWE_LAND_rlon211-245_rlat421-455_2020-2023.nc\n",
      "2025-06-25 10:32:50,656 - INFO -     Loading: CaSR_v3.1_P_SWE_LAND_rlon246-280_rlat386-420_2020-2023.nc\n",
      "2025-06-25 10:32:50,682 - INFO -     Loading: CaSR_v3.1_P_SWE_LAND_rlon246-280_rlat421-455_2020-2023.nc\n",
      "2025-06-25 10:32:50,709 - INFO -     Combining 4 spatial regions...\n",
      "2025-06-25 10:32:54,988 - INFO -   Combining all time periods...\n",
      "2025-06-25 10:36:00,590 - INFO -   Saving to: c:\\Users\\walimunige.rupasingh\\OneDrive - University of Calgary\\Documents\\GitHub\\snowdroughtindex-main\\data\\output_data\\combined_casr\\CaSR_v3.1_P_SWE_LAND_combined_full.nc\n",
      "2025-06-25 10:37:14,760 - INFO -   Successfully saved spatially combined file: c:\\Users\\walimunige.rupasingh\\OneDrive - University of Calgary\\Documents\\GitHub\\snowdroughtindex-main\\data\\output_data\\combined_casr\\CaSR_v3.1_P_SWE_LAND_combined_full.nc\n"
     ]
    },
    {
     "name": "stdout",
     "output_type": "stream",
     "text": [
      "Full combination completed!\n"
     ]
    }
   ],
   "source": [
    "# Full combination (both spatial and temporal)\n",
    "print(\"Performing full combination (both spatial and temporal)...\")\n",
    "combiner.combine_by_variable(combine_spatial=True, combine_temporal=True)\n",
    "print(\"Full combination completed!\")"
   ]
  },
  {
   "cell_type": "markdown",
   "metadata": {},
   "source": [
    "## Examine Combined Output Files\n",
    "\n",
    "Let's check what files were created in the output directory."
   ]
  },
  {
   "cell_type": "code",
   "execution_count": 8,
   "metadata": {},
   "outputs": [
    {
     "name": "stdout",
     "output_type": "stream",
     "text": [
      "Combined files created in c:\\Users\\walimunige.rupasingh\\OneDrive - University of Calgary\\Documents\\GitHub\\snowdroughtindex-main\\data\\output_data\\combined_casr:\n",
      "Total files: 16\n",
      "\n",
      "1. CaSR_v3.1_P_SWE_LAND_1980-1983_spatial_combined.nc (666.5 MB)\n",
      "2. CaSR_v3.1_P_SWE_LAND_1984-1987_spatial_combined.nc (666.7 MB)\n",
      "3. CaSR_v3.1_P_SWE_LAND_1988-1991_spatial_combined.nc (666.3 MB)\n",
      "4. CaSR_v3.1_P_SWE_LAND_1992-1995_spatial_combined.nc (666.1 MB)\n",
      "5. CaSR_v3.1_P_SWE_LAND_1996-1999_spatial_combined.nc (666.5 MB)\n",
      "6. CaSR_v3.1_P_SWE_LAND_2000-2003_spatial_combined.nc (666.1 MB)\n",
      "7. CaSR_v3.1_P_SWE_LAND_2004-2007_spatial_combined.nc (666.1 MB)\n",
      "8. CaSR_v3.1_P_SWE_LAND_2008-2011_spatial_combined.nc (666.6 MB)\n",
      "9. CaSR_v3.1_P_SWE_LAND_2012-2015_spatial_combined.nc (666.2 MB)\n",
      "10. CaSR_v3.1_P_SWE_LAND_2016-2019_spatial_combined.nc (666.5 MB)\n",
      "11. CaSR_v3.1_P_SWE_LAND_2020-2023_spatial_combined.nc (666.2 MB)\n",
      "12. CaSR_v3.1_P_SWE_LAND_combined_full.nc (7352.7 MB)\n",
      "13. CaSR_v3.1_P_SWE_LAND_rlon211-245_rlat386-420_temporal_combined.nc (66.5 MB)\n",
      "14. CaSR_v3.1_P_SWE_LAND_rlon211-245_rlat421-455_temporal_combined.nc (70.7 MB)\n",
      "15. CaSR_v3.1_P_SWE_LAND_rlon246-280_rlat386-420_temporal_combined.nc (55.5 MB)\n",
      "16. CaSR_v3.1_P_SWE_LAND_rlon246-280_rlat421-455_temporal_combined.nc (56.6 MB)\n"
     ]
    }
   ],
   "source": [
    "# List output files\n",
    "output_files = list(output_path.glob('*.nc'))\n",
    "\n",
    "print(f\"Combined files created in {output_path}:\")\n",
    "print(f\"Total files: {len(output_files)}\\n\")\n",
    "\n",
    "for i, file_path in enumerate(output_files, 1):\n",
    "    file_size = file_path.stat().st_size / (1024**2)  # Size in MB\n",
    "    print(f\"{i}. {file_path.name} ({file_size:.1f} MB)\")"
   ]
  },
  {
   "cell_type": "markdown",
   "metadata": {},
   "source": [
    "## Extract Elevation Data from Combined Files\n",
    "\n",
    "Now that we have combined the CaSR SWE files, let's extract data at specific elevation points using the optimized elevation data extractor. This allows us to track SWE and precipitation data at different elevation levels."
   ]
  },
  {
   "cell_type": "markdown",
   "metadata": {},
   "source": [
    "### Configure Elevation Data Extraction\n",
    "\n",
    "Set up the paths for elevation data and configure extraction parameters."
   ]
  },
  {
   "cell_type": "code",
   "execution_count": 9,
   "metadata": {},
   "outputs": [
    {
     "name": "stdout",
     "output_type": "stream",
     "text": [
      "Elevation output directory: c:\\Users\\walimunige.rupasingh\\OneDrive - University of Calgary\\Documents\\GitHub\\snowdroughtindex-main\\data\\output_data\\elevation\n"
     ]
    }
   ],
   "source": [
    "# Define elevation data paths\n",
    "elevation_output_dir = r\"data/output_data/elevation\"  # Directory for elevation extraction output\n",
    "\n",
    "# Create absolute paths\n",
    "elevation_output_path = project_root / elevation_output_dir\n",
    "\n",
    "print(f\"Elevation output directory: {elevation_output_path}\")\n",
    "\n",
    "# Initialize the elevation data extractor\n",
    "elevation_extractor = OptimizedElevationDataExtractor(\n",
    "    elevation_dir=str(elevation_path),\n",
    "    combined_casr_dir=str(output_path),  # Use the output from CaSR combination\n",
    "    output_dir=str(elevation_output_path)\n",
    ")"
   ]
  },
  {
   "cell_type": "markdown",
   "metadata": {},
   "source": [
    "### Load and Explore Elevation Data\n",
    "\n",
    "Load the elevation shapefile to see what elevation points are available for data extraction."
   ]
  },
  {
   "cell_type": "code",
   "execution_count": 10,
   "metadata": {},
   "outputs": [
    {
     "name": "stderr",
     "output_type": "stream",
     "text": [
      "2025-06-25 10:43:56,641 - INFO - Loading elevation data...\n",
      "2025-06-25 10:43:56,648 - INFO - Loading shapefile: c:\\Users\\walimunige.rupasingh\\OneDrive - University of Calgary\\Documents\\GitHub\\snowdroughtindex-main\\data\\input_data\\Elevation\\Bow.shp\n",
      "2025-06-25 10:43:58,498 - INFO - Loaded 13 elevation points\n",
      "2025-06-25 10:43:58,500 - INFO - Elevation data columns: ['PROVCD_1', 'PROVCD_2', 'PROVCD_3', 'PROVCD_4', 'VALDATE', 'EDITION', 'DATASETNAM', 'VERSION', 'COMPLEVEL', 'WSCMDA', 'WSCSDA', 'WSCSSDA', 'FDA', 'OCEAN', 'WSCMDANAME', 'WSCSDANAME', 'WSCSSDANAM', 'geometry']\n",
      "2025-06-25 10:43:58,501 - INFO - CRS: EPSG:4617\n"
     ]
    },
    {
     "name": "stdout",
     "output_type": "stream",
     "text": [
      "\n",
      "Total elevation points: 13\n",
      "\n",
      "First 5 elevation points:\n",
      "  PROVCD_1 PROVCD_2  PROVCD_3  PROVCD_4   VALDATE EDITION DATASETNAM VERSION  \\\n",
      "0       AB      NaN       NaN       NaN  20070319       1    05BA000       0   \n",
      "1       AB      NaN       NaN       NaN  20070315       1    05BB000       0   \n",
      "2       AB       BC       NaN       NaN  20111128       2    05BC000       0   \n",
      "3       AB      NaN       NaN       NaN  20070305       1    05BD000       0   \n",
      "4       AB      NaN       NaN       NaN  20070302       1    05BE000       0   \n",
      "\n",
      "  COMPLEVEL WSCMDA WSCSDA WSCSSDA   FDA       OCEAN  \\\n",
      "0   NHN-CL1     05    05B    05BA  05BA  Hudson Bay   \n",
      "1   NHN-CL1     05    05B    05BB  05BB  Hudson Bay   \n",
      "2   NHN-CL1     05    05B    05BC  05BC  Hudson Bay   \n",
      "3   NHN-CL1     05    05B    05BD  05BD  Hudson Bay   \n",
      "4   NHN-CL1     05    05B    05BE  05BE  Hudson Bay   \n",
      "\n",
      "                   WSCMDANAME WSCSDANAME             WSCSSDANAM  \\\n",
      "0  Nelson River Drainage Area        Bow         Headwaters Bow   \n",
      "1  Nelson River Drainage Area        Bow   Upper Bow - Redearth   \n",
      "2  Nelson River Drainage Area        Bow                  Spray   \n",
      "3  Nelson River Drainage Area        Bow                Cascade   \n",
      "4  Nelson River Drainage Area        Bow  Upper Bow - Policeman   \n",
      "\n",
      "                                            geometry  \n",
      "0  POLYGON ((-116.25388 51.71161, -116.25374 51.7...  \n",
      "1  POLYGON ((-115.47260 51.16677, -115.47276 51.1...  \n",
      "2  POLYGON ((-115.60862 50.95877, -115.60860 50.9...  \n",
      "3  POLYGON ((-115.47641 51.42722, -115.47702 51.4...  \n",
      "4  POLYGON ((-114.72215 51.33033, -114.72235 51.3...  \n"
     ]
    }
   ],
   "source": [
    "# Load elevation data\n",
    "elevation_extractor.load_elevation_data()\n",
    "\n",
    "# Display basic information about elevation points\n",
    "if elevation_extractor.elevation_gdf is not None:\n",
    "    print(f\"\\nTotal elevation points: {len(elevation_extractor.elevation_gdf)}\")\n",
    "    print(f\"\\nFirst 5 elevation points:\")\n",
    "    print(elevation_extractor.elevation_gdf.head())\n",
    "    \n",
    "    # Show elevation statistics if available\n",
    "    elev_cols = [col for col in elevation_extractor.elevation_gdf.columns \n",
    "                 if 'elev' in col.lower() or col in ['min', 'max', 'mean', 'median']]\n",
    "    if elev_cols:\n",
    "        print(f\"\\nElevation statistics:\")\n",
    "        for col in elev_cols:\n",
    "            if pd.api.types.is_numeric_dtype(elevation_extractor.elevation_gdf[col]):\n",
    "                print(f\"  {col}:\")\n",
    "                print(f\"    Min: {elevation_extractor.elevation_gdf[col].min():.1f}\")\n",
    "                print(f\"    Max: {elevation_extractor.elevation_gdf[col].max():.1f}\")\n",
    "                print(f\"    Mean: {elevation_extractor.elevation_gdf[col].mean():.1f}\")"
   ]
  },
  {
   "cell_type": "markdown",
   "metadata": {},
   "source": [
    "### Check Available Combined CaSR Files\n",
    "\n",
    "Let's see what combined CaSR files are available for elevation data extraction."
   ]
  },
  {
   "cell_type": "code",
   "execution_count": 11,
   "metadata": {},
   "outputs": [
    {
     "name": "stderr",
     "output_type": "stream",
     "text": [
      "2025-06-25 10:44:27,942 - INFO - Found 4 temporal combined files\n",
      "2025-06-25 10:44:27,944 - INFO - Found 1 full combined files\n"
     ]
    },
    {
     "name": "stdout",
     "output_type": "stream",
     "text": [
      "Available files for elevation extraction:\n",
      "\n",
      "Temporal combined files (4):\n",
      "  1. CaSR_v3.1_P_SWE_LAND_rlon211-245_rlat386-420_temporal_combined.nc\n",
      "  2. CaSR_v3.1_P_SWE_LAND_rlon211-245_rlat421-455_temporal_combined.nc\n",
      "  3. CaSR_v3.1_P_SWE_LAND_rlon246-280_rlat386-420_temporal_combined.nc\n",
      "  ... and 1 more files\n",
      "\n",
      "Full combined files (1):\n",
      "  1. CaSR_v3.1_P_SWE_LAND_combined_full.nc\n"
     ]
    }
   ],
   "source": [
    "# Get available combined CaSR files\n",
    "temporal_files, full_files = elevation_extractor.get_combined_casr_files()\n",
    "\n",
    "print(\"Available files for elevation extraction:\")\n",
    "print(f\"\\nTemporal combined files ({len(temporal_files)}):\")\n",
    "for i, file in enumerate(temporal_files[:3], 1):\n",
    "    print(f\"  {i}. {file.name}\")\n",
    "if len(temporal_files) > 3:\n",
    "    print(f\"  ... and {len(temporal_files) - 3} more files\")\n",
    "\n",
    "print(f\"\\nFull combined files ({len(full_files)}):\")\n",
    "for i, file in enumerate(full_files[:3], 1):\n",
    "    print(f\"  {i}. {file.name}\")\n",
    "if len(full_files) > 3:\n",
    "    print(f\"  ... and {len(full_files) - 3} more files\")"
   ]
  },
  {
   "cell_type": "markdown",
   "metadata": {},
   "source": [
    "### Extract Elevation Data with Optimization\n",
    "\n",
    "Extract data at elevation points from the combined CaSR files. We'll use time sampling to handle large datasets efficiently."
   ]
  },
  {
   "cell_type": "code",
   "execution_count": 12,
   "metadata": {},
   "outputs": [
    {
     "name": "stderr",
     "output_type": "stream",
     "text": [
      "2025-06-25 10:45:02,850 - INFO - Found 4 temporal combined files\n",
      "2025-06-25 10:45:02,851 - INFO - Found 1 full combined files\n",
      "2025-06-25 10:45:02,853 - INFO - Processing temporal combined files...\n",
      "2025-06-25 10:45:02,855 - INFO - Processing CaSR_v3.1_P_SWE_LAND_rlon211-245_rlat386-420_temporal_combined.nc...\n",
      "2025-06-25 10:45:02,904 - INFO - Dataset variables: ['rotated_pole', 'CaSR_v3.1_P_SWE_LAND']\n",
      "2025-06-25 10:45:02,906 - INFO - Dataset dimensions: {'time': 385704, 'rlat': 35, 'rlon': 35}\n",
      "2025-06-25 10:45:02,952 - INFO - Time dimension size: 385704\n"
     ]
    },
    {
     "name": "stdout",
     "output_type": "stream",
     "text": [
      "Extraction configuration:\n",
      "  Time sampling: all\n",
      "  Max records per point: 10000\n",
      "  File types to process: ['temporal', 'full']\n",
      "\n",
      "Starting elevation data extraction...\n"
     ]
    },
    {
     "name": "stderr",
     "output_type": "stream",
     "text": [
      "2025-06-25 10:50:32,296 - INFO - Extracted data for 5014152 records from 13 points\n",
      "2025-06-25 10:50:32,649 - INFO - Processing CaSR_v3.1_P_SWE_LAND_rlon211-245_rlat421-455_temporal_combined.nc...\n",
      "2025-06-25 10:50:32,687 - INFO - Dataset variables: ['rotated_pole', 'CaSR_v3.1_P_SWE_LAND']\n",
      "2025-06-25 10:50:32,688 - INFO - Dataset dimensions: {'time': 385704, 'rlat': 35, 'rlon': 35}\n",
      "2025-06-25 10:50:32,720 - INFO - Time dimension size: 385704\n",
      "2025-06-25 10:56:38,562 - INFO - Extracted data for 5014152 records from 13 points\n",
      "2025-06-25 10:56:38,935 - INFO - Processing CaSR_v3.1_P_SWE_LAND_rlon246-280_rlat386-420_temporal_combined.nc...\n",
      "2025-06-25 10:56:38,973 - INFO - Dataset variables: ['rotated_pole', 'CaSR_v3.1_P_SWE_LAND']\n",
      "2025-06-25 10:56:38,974 - INFO - Dataset dimensions: {'time': 385704, 'rlat': 35, 'rlon': 35}\n",
      "2025-06-25 10:56:39,005 - INFO - Time dimension size: 385704\n",
      "2025-06-25 11:04:02,978 - INFO - Extracted data for 5014152 records from 13 points\n",
      "2025-06-25 11:04:03,360 - INFO - Processing CaSR_v3.1_P_SWE_LAND_rlon246-280_rlat421-455_temporal_combined.nc...\n",
      "2025-06-25 11:04:03,398 - INFO - Dataset variables: ['rotated_pole', 'CaSR_v3.1_P_SWE_LAND']\n",
      "2025-06-25 11:04:03,400 - INFO - Dataset dimensions: {'time': 385704, 'rlat': 35, 'rlon': 35}\n",
      "2025-06-25 11:04:03,437 - INFO - Time dimension size: 385704\n",
      "2025-06-25 11:12:10,080 - INFO - Extracted data for 5014152 records from 13 points\n",
      "2025-06-25 11:12:10,470 - INFO - Processing full combined files...\n",
      "2025-06-25 11:12:10,472 - INFO - Processing CaSR_v3.1_P_SWE_LAND_combined_full.nc...\n",
      "2025-06-25 11:12:10,496 - INFO - Dataset variables: ['rotated_pole', 'CaSR_v3.1_P_SWE_LAND']\n",
      "2025-06-25 11:12:10,499 - INFO - Dataset dimensions: {'time': 385704, 'rlon': 70, 'rlat': 70}\n",
      "2025-06-25 11:12:10,540 - INFO - Time dimension size: 385704\n",
      "2025-06-25 11:13:52,133 - INFO - Extracted data for 5014152 records from 13 points\n"
     ]
    },
    {
     "name": "stdout",
     "output_type": "stream",
     "text": [
      "\n",
      "Extraction completed!\n",
      "Processed 5 file groups\n"
     ]
    }
   ],
   "source": [
    "# Configure extraction parameters\n",
    "time_sampling = 'all'  # Options: 'all', 'monthly', 'yearly', 'sample'\n",
    "max_records = 10000  # Maximum records per point to avoid memory issues\n",
    "file_types = ['temporal', 'full']  # Which file types to process\n",
    "\n",
    "print(f\"Extraction configuration:\")\n",
    "print(f\"  Time sampling: {time_sampling}\")\n",
    "print(f\"  Max records per point: {max_records}\")\n",
    "print(f\"  File types to process: {file_types}\")\n",
    "print(f\"\\nStarting elevation data extraction...\")\n",
    "\n",
    "# Process all files and extract elevation data\n",
    "extraction_results = elevation_extractor.process_all_files(\n",
    "    file_types=file_types,\n",
    "    time_sampling=time_sampling,\n",
    "    max_records=max_records\n",
    ")\n",
    "\n",
    "print(f\"\\nExtraction completed!\")\n",
    "print(f\"Processed {len(extraction_results)} file groups\")"
   ]
  },
  {
   "cell_type": "markdown",
   "metadata": {},
   "source": [
    "### Save Extracted Data\n",
    "\n",
    "Save the extracted elevation data to files for further analysis."
   ]
  },
  {
   "cell_type": "code",
   "execution_count": 13,
   "metadata": {},
   "outputs": [
    {
     "name": "stderr",
     "output_type": "stream",
     "text": [
      "2025-06-25 11:17:34,620 - INFO - Saving results to c:\\Users\\walimunige.rupasingh\\OneDrive - University of Calgary\\Documents\\GitHub\\snowdroughtindex-main\\data\\output_data\\elevation\n"
     ]
    },
    {
     "name": "stdout",
     "output_type": "stream",
     "text": [
      "Saving extracted data in csv format...\n"
     ]
    },
    {
     "name": "stderr",
     "output_type": "stream",
     "text": [
      "2025-06-25 11:17:54,285 - INFO - Saved CSV: c:\\Users\\walimunige.rupasingh\\OneDrive - University of Calgary\\Documents\\GitHub\\snowdroughtindex-main\\data\\output_data\\elevation\\elevation_extracted_temporal_CaSR_v3.1_P_SWE_LAND_rlon211-245_rlat386-420_temporal_combined.csv\n",
      "2025-06-25 11:18:14,347 - INFO - Saved CSV: c:\\Users\\walimunige.rupasingh\\OneDrive - University of Calgary\\Documents\\GitHub\\snowdroughtindex-main\\data\\output_data\\elevation\\elevation_extracted_temporal_CaSR_v3.1_P_SWE_LAND_rlon211-245_rlat421-455_temporal_combined.csv\n",
      "2025-06-25 11:18:34,707 - INFO - Saved CSV: c:\\Users\\walimunige.rupasingh\\OneDrive - University of Calgary\\Documents\\GitHub\\snowdroughtindex-main\\data\\output_data\\elevation\\elevation_extracted_temporal_CaSR_v3.1_P_SWE_LAND_rlon246-280_rlat386-420_temporal_combined.csv\n",
      "2025-06-25 11:18:55,039 - INFO - Saved CSV: c:\\Users\\walimunige.rupasingh\\OneDrive - University of Calgary\\Documents\\GitHub\\snowdroughtindex-main\\data\\output_data\\elevation\\elevation_extracted_temporal_CaSR_v3.1_P_SWE_LAND_rlon246-280_rlat421-455_temporal_combined.csv\n",
      "2025-06-25 11:19:15,858 - INFO - Saved CSV: c:\\Users\\walimunige.rupasingh\\OneDrive - University of Calgary\\Documents\\GitHub\\snowdroughtindex-main\\data\\output_data\\elevation\\elevation_extracted_full_CaSR_v3.1_P_SWE_LAND_combined_full.csv\n",
      "2025-06-25 11:19:15,860 - INFO - Generating summary report...\n",
      "2025-06-25 11:19:16,040 - INFO - Summary saved to: c:\\Users\\walimunige.rupasingh\\OneDrive - University of Calgary\\Documents\\GitHub\\snowdroughtindex-main\\data\\output_data\\elevation\\extraction_summary_optimized.json\n"
     ]
    },
    {
     "name": "stdout",
     "output_type": "stream",
     "text": [
      "\n",
      "============================================================\n",
      "OPTIMIZED EXTRACTION SUMMARY\n",
      "============================================================\n",
      "Elevation points processed: 13\n",
      "Files processed: 5\n",
      "Total records extracted: 25070760\n",
      "\n",
      "File details:\n",
      "  temporal_CaSR_v3.1_P_SWE_LAND_rlon211-245_rlat386-420_temporal_combined:\n",
      "    Records: 5014152\n",
      "    Variables: CaSR_v3.1_P_SWE_LAND\n",
      "    Time range: 1979-12-31T13:00:00 to 2023-12-31T12:00:00\n",
      "  temporal_CaSR_v3.1_P_SWE_LAND_rlon211-245_rlat421-455_temporal_combined:\n",
      "    Records: 5014152\n",
      "    Variables: CaSR_v3.1_P_SWE_LAND\n",
      "    Time range: 1979-12-31T13:00:00 to 2023-12-31T12:00:00\n",
      "  temporal_CaSR_v3.1_P_SWE_LAND_rlon246-280_rlat386-420_temporal_combined:\n",
      "    Records: 5014152\n",
      "    Variables: CaSR_v3.1_P_SWE_LAND\n",
      "    Time range: 1979-12-31T13:00:00 to 2023-12-31T12:00:00\n",
      "  temporal_CaSR_v3.1_P_SWE_LAND_rlon246-280_rlat421-455_temporal_combined:\n",
      "    Records: 5014152\n",
      "    Variables: CaSR_v3.1_P_SWE_LAND\n",
      "    Time range: 1979-12-31T13:00:00 to 2023-12-31T12:00:00\n",
      "  full_CaSR_v3.1_P_SWE_LAND_combined_full:\n",
      "    Records: 5014152\n",
      "    Variables: CaSR_v3.1_P_SWE_LAND\n",
      "    Time range: 1979-12-31T13:00:00 to 2023-12-31T12:00:00\n",
      "============================================================\n"
     ]
    }
   ],
   "source": [
    "# Save results in multiple formats\n",
    "output_format = 'csv'  # Options: 'csv', 'parquet', 'both'\n",
    "\n",
    "print(f\"Saving extracted data in {output_format} format...\")\n",
    "elevation_extractor.save_results(extraction_results, format=output_format)\n",
    "\n",
    "# Generate summary report\n",
    "elevation_extractor.generate_summary_report(extraction_results)"
   ]
  },
  {
   "cell_type": "markdown",
   "metadata": {},
   "source": [
    "## Filter and Merge Elevation Data\n",
    "\n",
    "Now we'll use the existing `ElevationDataFilter` class from `filter_merge_elevation_data.py` to filter and merge the elevation data with non-null precipitation and SWE values."
   ]
  },
  {
   "cell_type": "code",
   "execution_count": 14,
   "metadata": {},
   "outputs": [
    {
     "name": "stdout",
     "output_type": "stream",
     "text": [
      "Legacy constructor detected. Using flattened CSV files from c:\\Users\\walimunige.rupasingh\\OneDrive - University of Calgary\\Documents\\GitHub\\snowdroughtindex-main\\data\\output_data\\elevation\n",
      "Directory exists: True\n",
      "CSV files found: ['Bow_stats.csv', 'elevation_extracted_full_CaSR_v3.1_P_SWE_LAND_combined_full.csv', 'elevation_extracted_temporal_CaSR_v3.1_P_SWE_LAND_rlon211-245_rlat386-420_temporal_combined.csv', 'elevation_extracted_temporal_CaSR_v3.1_P_SWE_LAND_rlon211-245_rlat421-455_temporal_combined.csv', 'elevation_extracted_temporal_CaSR_v3.1_P_SWE_LAND_rlon246-280_rlat386-420_temporal_combined.csv', 'elevation_extracted_temporal_CaSR_v3.1_P_SWE_LAND_rlon246-280_rlat421-455_temporal_combined.csv']\n",
      "ElevationDataFilter initialized successfully\n"
     ]
    }
   ],
   "source": [
    "# Initialize the elevation data filter using the existing class\n",
    "elevation_filter = ElevationDataFilter(\n",
    "    elevation_dir=str(elevation_path),\n",
    "    casr_dir=str(output_path),  # Use combined CaSR files\n",
    "    output_dir=str(filtered_output_path)\n",
    ")\n",
    "\n",
    "print(\"ElevationDataFilter initialized successfully\")"
   ]
  },
  {
   "cell_type": "markdown",
   "metadata": {},
   "source": [
    "### Process Elevation Data with Filtering\n",
    "\n",
    "Use the main processing function to filter and merge elevation data."
   ]
  },
  {
   "cell_type": "code",
   "execution_count": 15,
   "metadata": {},
   "outputs": [
    {
     "name": "stderr",
     "output_type": "stream",
     "text": [
      "2025-06-25 11:24:59,553 - INFO - Legacy parameters detected. Using flattened CSV approach.\n",
      "2025-06-25 11:24:59,557 - ERROR - Processing failed: No precipitation CSV file found in c:\\Users\\walimunige.rupasingh\\OneDrive - University of Calgary\\Documents\\GitHub\\snowdroughtindex-main\\data\\output_data\\elevation\n"
     ]
    },
    {
     "name": "stdout",
     "output_type": "stream",
     "text": [
      "Processing configuration:\n",
      "  Sample points: 0\n",
      "  Sample time steps: 0\n",
      "\n",
      "Starting elevation data filtering and merging process...\n",
      "\n",
      "Elevation data filtering and merging completed successfully!\n"
     ]
    }
   ],
   "source": [
    "# Configure processing parameters\n",
    "sample_points = 0  # Number of elevation points to sample for testing\n",
    "sample_time = 0     # Number of time steps to sample for testing\n",
    "\n",
    "print(f\"Processing configuration:\")\n",
    "print(f\"  Sample points: {sample_points}\")\n",
    "print(f\"  Sample time steps: {sample_time}\")\n",
    "print(f\"\\nStarting elevation data filtering and merging process...\")\n",
    "\n",
    "# Process the data using the existing functionality\n",
    "try:\n",
    "    elevation_filter.process(\n",
    "        sample_points=sample_points,\n",
    "        sample_time=sample_time\n",
    "    )\n",
    "    print(\"\\nElevation data filtering and merging completed successfully!\")\n",
    "except Exception as e:\n",
    "    print(f\"Error during processing: {e}\")\n",
    "    raise"
   ]
  },
  {
   "cell_type": "markdown",
   "metadata": {},
   "source": [
    "### Examine Filtered Results\n",
    "\n",
    "Let's check what files were created by the filtering process."
   ]
  },
  {
   "cell_type": "code",
   "execution_count": 16,
   "metadata": {},
   "outputs": [
    {
     "name": "stdout",
     "output_type": "stream",
     "text": [
      "Filtered files created in c:\\Users\\walimunige.rupasingh\\OneDrive - University of Calgary\\Documents\\GitHub\\snowdroughtindex-main\\data\\output_data\\filtered_elevation:\n",
      "Total files: 0\n",
      "\n"
     ]
    }
   ],
   "source": [
    "# List filtered output files\n",
    "filtered_files = list(filtered_output_path.glob('*'))\n",
    "\n",
    "print(f\"Filtered files created in {filtered_output_path}:\")\n",
    "print(f\"Total files: {len(filtered_files)}\\n\")\n",
    "\n",
    "for i, file_path in enumerate(filtered_files, 1):\n",
    "    if file_path.is_file():\n",
    "        file_size = file_path.stat().st_size / 1024  # Size in KB\n",
    "        print(f\"{i}. {file_path.name} ({file_size:.1f} KB)\")"
   ]
  },
  {
   "cell_type": "markdown",
   "metadata": {},
   "source": [
    "### Load and Examine Filtered Data\n",
    "\n",
    "Let's load and examine the filtered elevation data to understand the results."
   ]
  },
  {
   "cell_type": "code",
   "execution_count": 17,
   "metadata": {},
   "outputs": [
    {
     "name": "stdout",
     "output_type": "stream",
     "text": [
      "No filtered data file found. Check if the processing completed successfully.\n"
     ]
    }
   ],
   "source": [
    "# Load the filtered data if it exists\n",
    "filtered_csv = filtered_output_path / \"filtered_elevation_data.csv\"\n",
    "stats_csv = filtered_output_path / \"elevation_statistics.csv\"\n",
    "\n",
    "if filtered_csv.exists():\n",
    "    # Load filtered data\n",
    "    filtered_df = pd.read_csv(filtered_csv)\n",
    "    print(f\"Loaded filtered elevation data: {len(filtered_df)} records\")\n",
    "    print(f\"\\nData columns: {list(filtered_df.columns)}\")\n",
    "    print(f\"\\nFirst 5 records:\")\n",
    "    print(filtered_df.head())\n",
    "    \n",
    "    # Show basic statistics\n",
    "    print(f\"\\nBasic statistics:\")\n",
    "    numeric_cols = filtered_df.select_dtypes(include=[np.number]).columns\n",
    "    print(filtered_df[numeric_cols].describe())\n",
    "    \n",
    "    # Load elevation statistics if available\n",
    "    if stats_csv.exists():\n",
    "        stats_df = pd.read_csv(stats_csv, index_col=0)\n",
    "        print(f\"\\nElevation statistics by elevation bins:\")\n",
    "        print(stats_df)\n",
    "else:\n",
    "    print(\"No filtered data file found. Check if the processing completed successfully.\")"
   ]
  },
  {
   "cell_type": "markdown",
   "metadata": {},
   "source": [
    "## Summary\n",
    "\n",
    "This notebook has demonstrated the complete workflow for:\n",
    "\n",
    "1. **CaSR File Combination**: Combined NetCDF files across temporal and spatial dimensions using three different approaches:\n",
    "   - Temporal combination only (keeping spatial regions separate)\n",
    "   - Spatial combination only (keeping time periods separate)\n",
    "   - Full combination (both spatial and temporal dimensions)\n",
    "\n",
    "2. **Elevation Data Extraction**: Used the `OptimizedElevationDataExtractor` to extract precipitation and SWE data at specific elevation points from the combined CaSR files\n",
    "\n",
    "3. **Data Filtering and Merging**: Used the existing `ElevationDataFilter` class to create a clean dataset with only non-null precipitation and SWE values\n",
    "\n",
    "4. **Elevation Pattern Analysis**: Analyzed relationships between elevation and climate variables\n",
    "\n",
    "5. **Data Export**: Saved the filtered and merged dataset for further analysis\n",
    "\n",
    "The final output includes:\n",
    "- **Combined CaSR files**: NetCDF files with temporal, spatial, or full combinations\n",
    "- **Extracted elevation data**: CSV/Parquet files with climate data at elevation points\n",
    "- **filtered_elevation_data.csv/parquet**: Main dataset with non-null precipitation and SWE values\n",
    "- **elevation_statistics.csv/parquet**: Statistical analysis by elevation bins\n",
    "- **filtering_summary.json**: Summary report of the filtering process\n",
    "\n",
    "This workflow provides a foundation for analyzing snow drought patterns across different elevation zones using the CaSR dataset.\n",
    "\n",
    "### Key Improvement\n",
    "\n",
    "This improved version **reuses existing functionality** from both `extract_elevation_data_optimized.py` and `filter_merge_elevation_data.py` instead of duplicating code in the notebook. This approach:\n",
    "\n",
    "- **Eliminates code duplication** (removed ~200+ lines of redundant code)\n",
    "- **Maintains consistency** across the project\n",
    "- **Makes maintenance easier** - updates to logic only need to be made in one place\n",
    "- **Follows DRY (Don't Repeat Yourself) principles**\n",
    "- **Reduces notebook complexity** and focuses on the workflow rather than implementation details\n",
    "- **Includes all original functionality** while being more maintainable"
   ]
  }
 ],
 "metadata": {
  "kernelspec": {
   "display_name": "base",
   "language": "python",
   "name": "python3"
  },
  "language_info": {
   "codemirror_mode": {
    "name": "ipython",
    "version": 3
   },
   "file_extension": ".py",
   "mimetype": "text/x-python",
   "name": "python",
   "nbconvert_exporter": "python",
   "pygments_lexer": "ipython3",
   "version": "3.11.4"
  }
 },
 "nbformat": 4,
 "nbformat_minor": 4
}
