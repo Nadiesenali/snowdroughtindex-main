{
  "cells": [
    {
      "cell_type": "markdown",
      "metadata": {},
      "source": [
        "# SCS Analysis Workflow\n",
        "\n",
        "This notebook demonstrates the Snow Cover to SWE (SCS) analysis workflow using the refactored Snow Drought Index package."
      ]
    },
    {
      "cell_type": "code",
      "execution_count": null,
      "metadata": {},
      "outputs": [],
      "source": [
        "# Import required packages\n",
        "import numpy as np\n",
        "import pandas as pd\n",
        "import matplotlib.pyplot as plt\n",
        "import xarray as xr\n",
        "import geopandas as gpd\n",
        "from shapely.geometry import Point\n",
        "import seaborn as sns\n",
        "\n",
        "# Import snowdroughtindex package\n",
        "from snowdroughtindex.analysis import scs_analysis\n",
        "from snowdroughtindex.core import data_preparation, dataset\n",
        "from snowdroughtindex.utils import visualization"
      ]
    },
    {
      "cell_type": "markdown",
      "metadata": {},
      "source": [
        "## Workflow Overview\n",
        "\n",
        "The workflow uses the following key functions from the `scs_analysis` module:\n",
        "\n",
        "- `calculate_daily_mean_swe()` for calculating daily mean SWE for a basin\n",
        "- `filter_points_within_shapefile()` for filtering data points within a basin boundary\n",
        "- `calculate_basin_mean_precipitation()` for calculating mean precipitation across selected stations\n",
        "- `merge_swe_precip_data()` for merging SWE and precipitation data\n",
        "- `calculate_swe_p_ratio()` for calculating and analyzing snow cover to precipitation ratio"
      ]
    },
    {
      "cell_type": "markdown",
      "metadata": {},
      "source": [
        "## 1. Load Data\n",
        "\n",
        "First, we need to load the SWE data, precipitation data, and basin shapefile."
      ]
    },
    {
      "cell_type": "code",
      "execution_count": null,
      "metadata": {},
      "outputs": [],
      "source": [
        "# Define data paths\n",
        "# Replace these paths with your actual data paths\n",
        "gap_filled_swe_path = 'path/to/SWE_data.nc'\n",
        "precip_data_path = 'path/to/precipitation_data.csv'\n",
        "precip_coordinates_path = 'path/to/precipitation_coordinates.csv'\n",
        "basin_shapefile_path = 'path/to/basin_shapefile.shp'\n",
        "\n",
        "# Load SWE data\n",
        "swe_dataset = xr.open_dataset(gap_filled_swe_path)\n",
        "print(\"SWE dataset loaded successfully\")\n",
        "print(swe_dataset)"
      ]
    },
    {
      "cell_type": "markdown",
      "metadata": {},
      "source": [
        "## 2. Calculate Daily Mean SWE\n",
        "\n",
        "Calculate the daily mean SWE for the entire basin."
      ]
    },
    {
      "cell_type": "code",
      "execution_count": null,
      "metadata": {},
      "outputs": [],
      "source": [
        "# Calculate daily mean SWE\n",
        "daily_mean_swe = scs_analysis.calculate_daily_mean_swe(swe_dataset)\n",
        "print(daily_mean_swe.head())"
      ]
    },
    {
      "cell_type": "markdown",
      "metadata": {},
      "source": [
        "## 3. Filter Precipitation Stations Within Basin\n",
        "\n",
        "Filter precipitation stations that fall within the basin boundary."
      ]
    },
    {
      "cell_type": "code",
      "execution_count": null,
      "metadata": {},
      "outputs": [],
      "source": [
        "# Load precipitation coordinates\n",
        "precip_coords = pd.read_csv(precip_coordinates_path)\n",
        "precip_coords_selected = precip_coords[['subid', 'longitude', 'latitude']]\n",
        "\n",
        "# Filter points within the basin shapefile\n",
        "points_within = scs_analysis.filter_points_within_shapefile(\n",
        "    precip_coords_selected, \n",
        "    basin_shapefile_path, \n",
        "    station_name=\"BOW RIVER AT BANFF\"  # Replace with your station name\n",
        ")\n",
        "\n",
        "print(f\"Found {len(points_within)} precipitation stations within the basin\")\n",
        "print(points_within.head())"
      ]
    },
    {
      "cell_type": "markdown",
      "metadata": {},
      "source": [
        "## 4. Calculate Basin Mean Precipitation\n",
        "\n",
        "Calculate the mean precipitation across the selected stations within the basin."
      ]
    },
    {
      "cell_type": "code",
      "execution_count": null,
      "metadata": {},
      "outputs": [],
      "source": [
        "# Load precipitation data\n",
        "precip_data = pd.read_csv(precip_data_path)\n",
        "\n",
        "# Get the list of station IDs within the basin\n",
        "station_ids = points_within['subid'].astype(str).tolist()\n",
        "\n",
        "# Calculate basin mean precipitation\n",
        "mean_precip = scs_analysis.calculate_basin_mean_precipitation(precip_data, station_ids)\n",
        "print(mean_precip.head())"
      ]
    },
    {
      "cell_type": "markdown",
      "metadata": {},
      "source": [
        "## 5. Merge SWE and Precipitation Data\n",
        "\n",
        "Merge the daily mean SWE and basin mean precipitation data."
      ]
    },
    {
      "cell_type": "code",
      "execution_count": null,
      "metadata": {},
      "outputs": [],
      "source": [
        "# Merge SWE and precipitation data\n",
        "merged_data = scs_analysis.merge_swe_precip_data(daily_mean_swe, mean_precip)\n",
        "print(merged_data.head())"
      ]
    },
    {
      "cell_type": "markdown",
      "metadata": {},
      "source": [
        "## 6. Filter Data for Snow Season\n",
        "\n",
        "Filter the data for the snow season (November to May)."
      ]
    },
    {
      "cell_type": "code",
      "execution_count": null,
      "metadata": {},
      "outputs": [],
      "source": [
        "# Filter for snow season\n",
        "snow_season_data = scs_analysis.filter_snow_season(\n",
        "    merged_data, \n",
        "    start_month=11, \n",
        "    start_day=1, \n",
        "    end_month=5, \n",
        "    end_day=1\n",
        ")\n",
        "print(snow_season_data.head())"
      ]
    },
    {
      "cell_type": "markdown",
      "metadata": {},
      "source": [
        "## 7. Calculate Seasonal Means\n",
        "\n",
        "Calculate the mean SWE and precipitation for each snow season."
      ]
    },
    {
      "cell_type": "code",
      "execution_count": null,
      "metadata": {},
      "outputs": [],
      "source": [
        "# Calculate seasonal means\n",
        "seasonal_means = scs_analysis.calculate_seasonal_means(snow_season_data)\n",
        "print(seasonal_means.head())"
      ]
    },
    {
      "cell_type": "markdown",
      "metadata": {},
      "source": [
        "## 8. Filter Complete Snow Seasons\n",
        "\n",
        "Filter for complete snow seasons based on SWE threshold and date range."
      ]
    },
    {
      "cell_type": "code",
      "execution_count": null,
      "metadata": {},
      "outputs": [],
      "source": [
        "# Filter for complete snow seasons\n",
        "complete_seasons = scs_analysis.filter_complete_seasons(\n",
        "    merged_data, \n",
        "    swe_threshold=15,  # 15mm SWE threshold\n",
        "    start_month=11, \n",
        "    start_day=1, \n",
        "    end_month=5, \n",
        "    end_day=1\n",
        ")\n",
        "print(complete_seasons.head())"
      ]
    },
    {
      "cell_type": "markdown",
      "metadata": {},
      "source": [
        "## 9. Calculate SWE/P Ratio\n",
        "\n",
        "Calculate the SWE to precipitation ratio and cumulative precipitation."
      ]
    },
    {
      "cell_type": "code",
      "execution_count": null,
      "metadata": {},
      "outputs": [],
      "source": [
        "# Calculate SWE/P ratio\n",
        "ratio_data = scs_analysis.calculate_swe_p_ratio(complete_seasons)\n",
        "print(ratio_data.head())"
      ]
    },
    {
      "cell_type": "markdown",
      "metadata": {},
      "source": [
        "## 10. Calculate Seasonal Metrics\n",
        "\n",
        "Calculate seasonal metrics including max SWE, mean SWE/P ratio, and mean cumulative precipitation."
      ]
    },
    {
      "cell_type": "code",
      "execution_count": null,
      "metadata": {},
      "outputs": [],
      "source": [
        "# Calculate seasonal metrics\n",
        "seasonal_metrics = scs_analysis.calculate_seasonal_metrics(ratio_data)\n",
        "print(seasonal_metrics.head())"
      ]
    },
    {
      "cell_type": "markdown",
      "metadata": {},
      "source": [
        "## 11. Standardize Metrics for Clustering\n",
        "\n",
        "Standardize the metrics for clustering analysis."
      ]
    },
    {
      "cell_type": "code",
      "execution_count": null,
      "metadata": {},
      "outputs": [],
      "source": [
        "# Standardize metrics\n",
        "standardized_metrics = scs_analysis.standardize_metrics(seasonal_metrics, ratio_max=1.0)\n",
        "print(standardized_metrics.head())"
      ]
    },
    {
      "cell_type": "markdown",
      "metadata": {},
      "source": [
        "## 12. Classify Snow Drought Types\n",
        "\n",
        "Classify snow drought types using K-means clustering."
      ]
    },
    {
      "cell_type": "code",
      "execution_count": null,
      "metadata": {},
      "outputs": [],
      "source": [
        "# Classify snow drought types\n",
        "classified_data, cluster_centers, cluster_labels = scs_analysis.classify_snow_drought(\n",
        "    standardized_metrics, \n",
        "    n_clusters=3, \n",
        "    random_state=0\n",
        ")\n",
        "\n",
        "print(\"Cluster centers:\")\n",
        "print(cluster_centers)\n",
        "print(\"\\nCluster labels:\")\n",
        "print(cluster_labels)\n",
        "print(\"\\nClassified data:\")\n",
        "print(classified_data.head())"
      ]
    },
    {
      "cell_type": "markdown",
      "metadata": {},
      "source": [
        "## 13. Visualize Results\n",
        "\n",
        "Visualize the results of the SCS analysis."
      ]
    },
    {
      "cell_type": "code",
      "execution_count": null,
      "metadata": {},
      "outputs": [],
      "source": [
        "# Plot seasonal SWE vs precipitation\n",
        "fig1 = scs_analysis.plot_seasonal_swe_precip(seasonal_means)\n",
        "plt.show()"
      ]
    },
    {
      "cell_type": "code",
      "execution_count": null,
      "metadata": {},
      "outputs": [],
      "source": [
        "# Plot snow drought classification\n",
        "fig2 = scs_analysis.plot_snow_drought_classification(classified_data)\n",
        "plt.show()"
      ]
    },
    {
      "cell_type": "code",
      "execution_count": null,
      "metadata": {},
      "outputs": [],
      "source": [
        "# Plot precipitation anomaly time series\n",
        "fig3 = scs_analysis.plot_drought_time_series(\n",
        "    classified_data, \n",
        "    metric='cum_P_anom', \n",
        "    year_range=(1999, 2017)\n",
        ")\n",
        "plt.show()"
      ]
    },
    {
      "cell_type": "code",
      "execution_count": null,
      "metadata": {},
      "outputs": [],
      "source": [
        "# Calculate ratio anomaly\n",
        "classified_data['ratio_anomaly'] = classified_data['SWE_P_ratio'] - classified_data['SWE_P_ratio'].mean()\n",
        "\n",
        "# Plot SWE/P ratio anomaly time series\n",
        "fig4 = scs_analysis.plot_drought_time_series(\n",
        "    classified_data, \n",
        "    metric='ratio_anomaly', \n",
        "    year_range=(1999, 2017)\n",
        ")\n",
        "plt.show()"
      ]
    },
    {
      "cell_type": "code",
      "execution_count": null,
      "metadata": {},
      "outputs": [],
      "source": [
        "# Calculate peak SWE anomaly\n",
        "classified_data['peak_SWE_anomaly'] = classified_data['SWEmax'] - classified_data['SWEmax'].mean()\n",
        "\n",
        "# Plot peak SWE anomaly time series\n",
        "fig5 = scs_analysis.plot_drought_time_series(\n",
        "    classified_data, \n",
        "    metric='peak_SWE_anomaly', \n",
        "    year_range=(1999, 2017)\n",
        ")\n",
        "plt.show()"
      ]
    },
    {
      "cell_type": "markdown",
      "metadata": {},
      "source": [
        "## 14. Run Complete SCS Analysis Workflow\n",
        "\n",
        "Alternatively, you can run the complete SCS analysis workflow using the `run_scs_analysis` function."
      ]
    },
    {
      "cell_type": "code",
      "execution_count": null,
      "metadata": {},
      "outputs": [],
      "source": [
        "# Run complete SCS analysis workflow\n",
        "results = scs_analysis.run_scs_analysis(\n",
        "    daily_mean_swe, \n",
        "    precip_data, \n",
        "    station_ids, \n",
        "    swe_threshold=15, \n",
        "    n_clusters=3\n",
        ")\n",
        "\n",
        "# Access results\n",
        "complete_seasons = results['complete_seasons']\n",
        "seasonal_metrics = results['seasonal_metrics']\n",
        "classified_data = results['classified_data']\n",
        "cluster_centers = results['cluster_centers']\n",
        "cluster_labels = results['cluster_labels']\n",
        "\n",
        "print(\"SCS analysis completed successfully!\")"
      ]
    }
  ],
  "metadata": {
    "kernelspec": {
      "display_name": "Python 3",
      "language": "python",
      "name": "python3"
    },
    "language_info": {
      "codemirror_mode": {
        "name": "ipython",
        "version": 3
      },
      "file_extension": ".py",
      "mimetype": "text/x-python",
      "name": "python",
      "nbconvert_exporter": "python",
      "pygments_lexer": "ipython3",
      "version": "3.8.10"
    }
  },
  "nbformat": 4,
  "nbformat_minor": 4
}
