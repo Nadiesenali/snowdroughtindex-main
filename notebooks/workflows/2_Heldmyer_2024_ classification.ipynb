{
 "cells": [
  {
   "cell_type": "markdown",
   "metadata": {},
   "source": [
    "# Drought Classification Workflow\n",
    "\n",
    "This notebook demonstrates the drought classification workflow for the Snow Drought Index package. It covers loading SSWEI data, classifying drought conditions, analyzing drought characteristics, and visualizing drought patterns over time."
   ]
  },
  {
   "cell_type": "code",
   "execution_count": null,
   "metadata": {},
   "outputs": [],
   "source": [
    "# Import required packages\n",
    "import numpy as np\n",
    "import pandas as pd\n",
    "import matplotlib.pyplot as plt\n",
    "import seaborn as sns\n",
    "\n",
    "# Import snowdroughtindex package\n",
    "from snowdroughtindex.core import data_preparation, sswei, drought_classification\n",
    "from snowdroughtindex.utils import visualization, io"
   ]
  },
  {
   "cell_type": "markdown",
   "metadata": {},
   "source": [
    "## 1. Load SSWEI Data\n",
    "\n",
    "First, we'll load the SSWEI data that was calculated in the SSWEI calculation workflow."
   ]
  },
  {
   "cell_type": "code",
   "execution_count": null,
   "metadata": {},
   "outputs": [],
   "source": [
    "# Load SSWEI data from CSV file\n",
    "sswei_data = pd.read_csv('../data/processed/sswei_results.csv')\n",
    "\n",
    "# Display the first few rows of the data\n",
    "sswei_data.head()"
   ]
  },
  {
   "cell_type": "markdown",
   "metadata": {},
   "source": [
    "## 2. Classify Drought Conditions with Configurable Thresholds\n",
    "\n",
    "The drought classification module allows for configurable thresholds. Let's demonstrate how to use custom thresholds for drought classification."
   ]
  },
  {
   "cell_type": "code",
   "execution_count": null,
   "metadata": {},
   "outputs": [],
   "source": [
    "# Define custom thresholds\n",
    "custom_thresholds = {\n",
    "    \"exceptional\": -1.8,  # More severe threshold for exceptional drought\n",
    "    \"extreme\": -1.3,      # More severe threshold for extreme drought\n",
    "    \"severe\": -0.8,       # More severe threshold for severe drought\n",
    "    \"moderate\": -0.4,     # Less severe threshold for moderate drought\n",
    "    \"normal_lower\": -0.4, # Lower bound for normal conditions\n",
    "    \"normal_upper\": 0.4,  # Upper bound for normal conditions\n",
    "    \"abnormally_wet\": 0.8, # Threshold for abnormally wet conditions\n",
    "    \"moderately_wet\": 1.3, # Threshold for moderately wet conditions\n",
    "    \"very_wet\": 1.8       # Threshold for very wet conditions\n",
    "}\n",
    "\n",
    "# Apply custom classification\n",
    "sswei_data['Custom_Classification'] = sswei_data['SWEI'].apply(\n",
    "    lambda x: drought_classification.classify_drought(x, custom_thresholds)\n",
    ")\n",
    "\n",
    "# Compare default and custom classifications\n",
    "comparison = sswei_data[['season_year', 'SWEI', 'Drought_Classification', 'Custom_Classification']]\n",
    "comparison.head(10)"
   ]
  },
  {
   "cell_type": "markdown",
   "metadata": {},
   "source": [
    "## 3. Visualize Drought Classifications\n",
    "\n",
    "Let's visualize the drought classifications using the plotting functions from the drought classification module."
   ]
  },
  {
   "cell_type": "code",
   "execution_count": null,
   "metadata": {},
   "outputs": [],
   "source": [
    "# Plot default drought classification\n",
    "fig1 = drought_classification.plot_drought_classification(\n",
    "    sswei_data,\n",
    "    year_column='season_year',\n",
    "    swei_column='SWEI',\n",
    "    classification_column='Drought_Classification'\n",
    ")\n",
    "plt.title('Default Drought Classification')\n",
    "plt.show()\n",
    "\n",
    "# Plot custom drought classification\n",
    "fig2 = drought_classification.plot_drought_classification(\n",
    "    sswei_data,\n",
    "    year_column='season_year',\n",
    "    swei_column='SWEI',\n",
    "    classification_column='Custom_Classification'\n",
    ")\n",
    "plt.title('Custom Drought Classification')\n",
    "plt.show()"
   ]
  },
  {
   "cell_type": "markdown",
   "metadata": {},
   "source": [
    "## 4. Calculate Drought Characteristics\n",
    "\n",
    "Now we'll calculate drought characteristics such as duration, severity, and intensity for each drought event."
   ]
  },
  {
   "cell_type": "code",
   "execution_count": null,
   "metadata": {},
   "outputs": [],
   "source": [
    "# Calculate drought characteristics using default threshold (-0.5)\n",
    "drought_chars = drought_classification.calculate_drought_characteristics(\n",
    "    sswei_data,\n",
    "    year_column='season_year',\n",
    "    swei_column='SWEI'\n",
    ")\n",
    "\n",
    "# Display drought characteristics\n",
    "if not drought_chars.empty:\n",
    "    print(\"Drought Characteristics:\")\n",
    "    display(drought_chars)\n",
    "else:\n",
    "    print(\"No drought events found in the data.\")"
   ]
  },
  {
   "cell_type": "markdown",
   "metadata": {},
   "source": [
    "## 5. Visualize Drought Characteristics\n",
    "\n",
    "Let's visualize the drought characteristics to better understand the drought events."
   ]
  },
  {
   "cell_type": "code",
   "execution_count": null,
   "metadata": {},
   "outputs": [],
   "source": [
    "# Plot drought characteristics\n",
    "if not drought_chars.empty:\n",
    "    fig3 = drought_classification.plot_drought_characteristics(drought_chars)\n",
    "    plt.show()\n",
    "else:\n",
    "    print(\"No drought events to plot.\")"
   ]
  },
  {
   "cell_type": "markdown",
   "metadata": {},
   "source": [
    "## 6. Analyze Drought Trends\n",
    "\n",
    "Let's analyze drought trends over time using a moving window approach."
   ]
  },
  {
   "cell_type": "code",
   "execution_count": null,
   "metadata": {},
   "outputs": [],
   "source": [
    "# Define window size for trend analysis\n",
    "window_size = 10  # 10-year moving window\n",
    "\n",
    "# Analyze drought trends\n",
    "trend_data = drought_classification.analyze_drought_trends(\n",
    "    sswei_data,\n",
    "    year_column='season_year',\n",
    "    swei_column='SWEI',\n",
    "    window_size=window_size\n",
    ")\n",
    "\n",
    "# Display trend data\n",
    "if not trend_data.empty:\n",
    "    print(f\"Drought Trends (using {window_size}-year moving window):\")\n",
    "    display(trend_data.head())\n",
    "else:\n",
    "    print(\"Not enough data for trend analysis.\")"
   ]
  },
  {
   "cell_type": "markdown",
   "metadata": {},
   "source": [
    "## 7. Visualize Drought Trends\n",
    "\n",
    "Let's visualize the drought trends to identify any changes in drought frequency and severity over time."
   ]
  },
  {
   "cell_type": "code",
   "execution_count": null,
   "metadata": {},
   "outputs": [],
   "source": [
    "# Plot drought trends\n",
    "if not trend_data.empty:\n",
    "    fig4 = drought_classification.plot_drought_trends(trend_data)\n",
    "    plt.show()\n",
    "else:\n",
    "    print(\"Not enough data for trend visualization.\")"
   ]
  },
  {
   "cell_type": "markdown",
   "metadata": {},
   "source": [
    "## 8. Compare Drought Classifications by Decade\n",
    "\n",
    "Let's analyze how drought classifications have changed by decade."
   ]
  },
  {
   "cell_type": "code",
   "execution_count": null,
   "metadata": {},
   "outputs": [],
   "source": [
    "# Add decade column\n",
    "sswei_data['decade'] = (sswei_data['season_year'] // 10) * 10\n",
    "\n",
    "# Count classifications by decade\n",
    "decade_counts = pd.crosstab(sswei_data['decade'], sswei_data['Drought_Classification'])\n",
    "\n",
    "# Display counts\n",
    "print(\"Drought Classifications by Decade:\")\n",
    "display(decade_counts)\n",
    "\n",
    "# Plot heatmap of classifications by decade\n",
    "plt.figure(figsize=(12, 8))\n",
    "sns.heatmap(decade_counts, cmap='YlOrRd', annot=True, fmt='d', cbar_kws={'label': 'Count'})\n",
    "plt.title('Drought Classifications by Decade')\n",
    "plt.ylabel('Decade')\n",
    "plt.xlabel('Drought Classification')\n",
    "plt.tight_layout()\n",
    "plt.show()"
   ]
  },
  {
   "cell_type": "markdown",
   "metadata": {},
   "source": [
    "## 9. Analyze Drought Severity Distribution\n",
    "\n",
    "Let's analyze the distribution of drought severity values."
   ]
  },
  {
   "cell_type": "code",
   "execution_count": null,
   "metadata": {},
   "outputs": [],
   "source": [
    "# Calculate drought severity for all years\n",
    "sswei_data['drought_severity'] = sswei_data['SWEI'].apply(drought_classification.get_drought_severity)\n",
    "\n",
    "# Plot histogram of drought severity\n",
    "plt.figure(figsize=(10, 6))\n",
    "sns.histplot(sswei_data[sswei_data['drought_severity'] > 0]['drought_severity'], bins=10, kde=True)\n",
    "plt.title('Distribution of Drought Severity')\n",
    "plt.xlabel('Drought Severity')\n",
    "plt.ylabel('Frequency')\n",
    "plt.grid(True, alpha=0.3)\n",
    "plt.tight_layout()\n",
    "plt.show()\n",
    "\n",
    "# Calculate summary statistics for drought severity\n",
    "severity_stats = sswei_data[sswei_data['drought_severity'] > 0]['drought_severity'].describe()\n",
    "print(\"Drought Severity Statistics:\")\n",
    "print(severity_stats)"
   ]
  },
  {
   "cell_type": "markdown",
   "metadata": {},
   "source": [
    "## 10. Save Drought Analysis Results\n",
    "\n",
    "Finally, let's save the drought analysis results for future reference."
   ]
  },
  {
   "cell_type": "code",
   "execution_count": null,
   "metadata": {},
   "outputs": [],
   "source": [
    "# Save drought characteristics\n",
    "if not drought_chars.empty:\n",
    "    drought_chars.to_csv('../data/processed/drought_characteristics.csv', index=False)\n",
    "    print(\"Drought characteristics saved to '../data/processed/drought_characteristics.csv'\")\n",
    "\n",
    "# Save drought trends\n",
    "if not trend_data.empty:\n",
    "    trend_data.to_csv('../data/processed/drought_trends.csv', index=False)\n",
    "    print(\"Drought trends saved to '../data/processed/drought_trends.csv'\")\n",
    "\n",
    "# Save SSWEI data with custom classification and severity\n",
    "sswei_data.to_csv('../data/processed/sswei_with_drought_analysis.csv', index=False)\n",
    "print(\"SSWEI data with drought analysis saved to '../data/processed/sswei_with_drought_analysis.csv'\")"
   ]
  },
  {
   "cell_type": "markdown",
   "metadata": {},
   "source": [
    "## 11. Summary\n",
    "\n",
    "In this notebook, we've demonstrated the drought classification workflow for the Snow Drought Index package. We've loaded SSWEI data, classified drought conditions using both default and custom thresholds, analyzed drought characteristics, visualized drought patterns, and examined drought trends over time.\n",
    "\n",
    "The workflow uses the following key functions from the `drought_classification` module:\n",
    "- `classify_drought()` for classifying drought conditions based on SSWEI values\n",
    "- `calculate_drought_characteristics()` for analyzing drought events\n",
    "- `analyze_drought_trends()` for examining changes in drought patterns over time\n",
    "- Various plotting functions for visualizing drought classifications and characteristics\n",
    "\n",
    "These functions provide a comprehensive toolkit for analyzing drought conditions based on SSWEI data, enabling researchers to better understand drought patterns, severity, and trends over time."
   ]
  }
 ],
 "metadata": {
  "kernelspec": {
   "display_name": "Python 3",
   "language": "python",
   "name": "python3"
  },
  "language_info": {
   "codemirror_mode": {
    "name": "ipython",
    "version": 3
   },
   "file_extension": ".py",
   "mimetype": "text/x-python",
   "name": "python",
   "nbconvert_exporter": "python",
   "pygments_lexer": "ipython3",
   "version": "3.8.5"
  }
 },
 "nbformat": 4,
 "nbformat_minor": 4
}
