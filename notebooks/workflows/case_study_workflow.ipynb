{
 "cells": [
  {
   "cell_type": "markdown",
   "metadata": {},
   "source": [
    "# Case Study Workflow\n",
    "\n",
    "This notebook demonstrates a comprehensive case study workflow using the refactored Snow Drought Index package. It consolidates functionality from multiple original case study notebooks:\n",
    "\n",
    "1. `case_study.ipynb` - Bow at Banff case study for 1980-2023\n",
    "2. `case_study_classification.ipynb` - Snow drought classification\n",
    "3. `case_study_SSWEI.ipynb` - SSWEI calculation\n",
    "4. `CaSR_Land_case_study.ipynb` - CaSR Land model case study\n",
    "\n",
    "The workflow includes:\n",
    "1. Data preparation and gap filling\n",
    "2. SSWEI calculation\n",
    "3. Drought classification\n",
    "4. Elevation-based analysis\n",
    "5. SWE/P ratio analysis\n",
    "6. Visualization of results"
   ]
  },
  {
   "cell_type": "markdown",
   "metadata": {},
   "source": [
    "## 1. Import Required Libraries"
   ]
  },
  {
   "cell_type": "code",
   "execution_count": null,
   "metadata": {},
   "outputs": [],
   "source": [
    "import os\n",
    "import numpy as np\n",
    "import pandas as pd\n",
    "import xarray as xr\n",
    "import matplotlib.pyplot as plt\n",
    "import seaborn as sns\n",
    "import geopandas as gpd\n",
    "from shapely.geometry import Point\n",
    "from scipy.integrate import trapz\n",
    "from scipy.stats import norm\n",
    "import warnings\n",
    "\n",
    "# Import the refactored package modules\n",
    "from snowdroughtindex.core.dataset import SWEDataset\n",
    "from snowdroughtindex.core.sswei_class import SSWEI\n",
    "from snowdroughtindex.core.drought_analysis import DroughtAnalysis\n",
    "from snowdroughtindex.core.configuration import Configuration\n",
    "from snowdroughtindex.utils import visualization\n",
    "\n",
    "# Suppress warnings\n",
    "warnings.simplefilter(action='ignore', category=FutureWarning)"
   ]
  },
  {
   "cell_type": "markdown",
   "metadata": {},
   "source": [
    "## 2. Configuration Setup\n",
    "\n",
    "Set up the configuration for the case study, including file paths and parameters."
   ]
  },
  {
   "cell_type": "code",
   "execution_count": null,
   "metadata": {},
   "outputs": [],
   "source": [
    "# Create a configuration object\n",
    "config = Configuration()\n",
    "\n",
    "# Set data paths (update these paths as needed for your environment)\n",
    "config.set_parameter('data_paths', {\n",
    "    'CANSWE_path': 'data/input_data/Case_study/CANSWE-CanEEN_1928-2023_v6_updated.nc',\n",
    "    'Bow_at_Banff': 'data/input_data/Bow_at_Banff/basins_testcases.shp',\n",
    "    'output_path': 'data/output_data/Case_study/',\n",
    "    'P_path': 'data/input_data/Case_study/adjusted_merged_daily_precipitation.nc',\n",
    "    'SWE_gapfilled_test': 'data/input_data/Case_study/Test/SWE_1979_2022_gapfilled_basin05BB001_Bow.nc',\n",
    "    'modeled_SWE': 'data/input_data/Case_study/SWE_P_rearranged.csv'\n",
    "})\n",
    "\n",
    "# Set gap filling parameters\n",
    "config.set_parameter('gap_filling', {\n",
    "    'flag_buffer_default': 0,\n",
    "    'buffer_km_default': 0,\n",
    "    'month_start_water_year_default': 10,\n",
    "    'day_start_water_year_default': 1,\n",
    "    'month_end_water_year_default': 9,\n",
    "    'day_end_water_year_default': 30,\n",
    "    'min_obs_corr_default': 3,\n",
    "    'min_obs_cdf_default': 10,\n",
    "    'min_corr_default': 0.6,\n",
    "    'window_days_default': 7,\n",
    "    'min_obs_KGE_default': 3,\n",
    "    'max_gap_days_default': 15,\n",
    "    'artificial_gap_perc_default': 100,\n",
    "    'iterations_default': 1,\n",
    "    'artificial_gap_filling_flag': 0,\n",
    "    'artificial_gap_filling_basins': ['05BB001']\n",
    "})\n",
    "\n",
    "# Set SSWEI calculation parameters\n",
    "config.set_parameter('sswei', {\n",
    "    'start_month': 11,  # November\n",
    "    'end_month': 5,     # May\n",
    "    'min_years': 10,\n",
    "    'distribution': 'gamma',\n",
    "    'reference_period': (1991, 2020)  # 30-year reference period\n",
    "})\n",
    "\n",
    "# Set elevation band parameters\n",
    "config.set_parameter('elevation_bands', {\n",
    "    'bins': [1300, 2000, 2400],\n",
    "    'labels': ['low', 'high']\n",
    "})\n",
    "\n",
    "# Display the configuration\n",
    "config.display()"
   ]
  }
 ],
 "metadata": {
  "kernelspec": {
   "display_name": "Python 3",
   "language": "python",
   "name": "python3"
  },
  "language_info": {
   "codemirror_mode": {
    "name": "ipython",
    "version": 3
   },
   "file_extension": ".py",
   "mimetype": "text/x-python",
   "name": "python",
   "nbconvert_exporter": "python",
   "pygments_lexer": "ipython3",
   "version": "3.8.10"
  }
 },
 "nbformat": 4,
 "nbformat_minor": 4
}
