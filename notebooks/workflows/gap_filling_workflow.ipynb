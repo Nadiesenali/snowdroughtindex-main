{
 "cells": [
  {
   "cell_type": "markdown",
   "metadata": {},
   "source": [
    "# Gap Filling Workflow\n",
    "\n",
    "This notebook demonstrates the gap filling workflow for the Snow Drought Index package. It covers loading data, performing gap filling using quantile mapping, and evaluating the performance of the gap filling methods."
   ]
  },
  {
   "cell_type": "code",
   "execution_count": null,
   "metadata": {},
   "outputs": [],
   "source": [
    "# Import required packages\n",
    "import numpy as np\n",
    "import pandas as pd\n",
    "import xarray as xr\n",
    "import matplotlib.pyplot as plt\n",
    "import random\n",
    "import datetime\n",
    "\n",
    "# Import snowdroughtindex package\n",
    "from snowdroughtindex.core import data_preparation, gap_filling\n",
    "from snowdroughtindex.utils import visualization, io"
   ]
  },
  {
   "cell_type": "markdown",
   "metadata": {},
   "source": [
    "## 1. Data Loading\n",
    "\n",
    "First, we'll load the SWE data that needs gap filling."
   ]
  },
  {
   "cell_type": "code",
   "execution_count": null,
   "metadata": {},
   "outputs": [],
   "source": [
    "# Define data paths\n",
    "swe_path = '../data/input_data/SWE_data.nc'\n",
    "\n",
    "# Load data using the implemented functions\n",
    "swe_data = data_preparation.load_swe_data(swe_path)\n",
    "\n",
    "# Convert to DataFrame for gap filling\n",
    "swe_df = data_preparation.preprocess_swe(swe_data)\n",
    "\n",
    "# Set the index to time for time-series operations\n",
    "if 'time' in swe_df.columns:\n",
    "    swe_df = swe_df.set_index('time')"
   ]
  },
  {
   "cell_type": "markdown",
   "metadata": {},
   "source": [
    "## 2. Data Exploration\n",
    "\n",
    "Let's explore the data to understand the extent of missing values."
   ]
  },
  {
   "cell_type": "code",
   "execution_count": null,
   "metadata": {},
   "outputs": [],
   "source": [
    "# Count missing values per station\n",
    "missing_values = swe_df.isna().sum()\n",
    "\n",
    "# Calculate percentage of missing values per station\n",
    "missing_percentage = (missing_values / len(swe_df)) * 100\n",
    "\n",
    "# Display stations with missing data\n",
    "print(\"Stations with missing data:\")\n",
    "print(missing_percentage[missing_percentage > 0].sort_values(ascending=False))\n",
    "\n",
    "# Plot missing data percentage\n",
    "plt.figure(figsize=(12, 6))\n",
    "missing_percentage[missing_percentage > 0].sort_values(ascending=False).plot(kind='bar')\n",
    "plt.title('Percentage of Missing Values by Station')\n",
    "plt.ylabel('Missing Values (%)')\n",
    "plt.xlabel('Station ID')\n",
    "plt.xticks(rotation=45)\n",
    "plt.tight_layout()\n",
    "plt.show()"
   ]
  },
  {
   "cell_type": "markdown",
   "metadata": {},
   "source": [
    "## 3. Gap Filling Parameters\n",
    "\n",
    "Define parameters for the gap filling process."
   ]
  },
  {
   "cell_type": "code",
   "execution_count": null,
   "metadata": {},
   "outputs": [],
   "source": [
    "# Parameters for gap filling\n",
    "window_days = 15  # Number of days to select data for around a certain doy\n",
    "min_obs_corr = 10  # Minimum number of overlapping observations required to calculate correlation\n",
    "min_obs_cdf = 5  # Minimum number of stations required to calculate a station's cdf\n",
    "min_corr = 0.7  # Minimum correlation value required to keep a donor station"
   ]
  },
  {
   "cell_type": "markdown",
   "metadata": {},
   "source": [
    "## 4. Perform Gap Filling\n",
    "\n",
    "Now we'll use the quantile mapping method to fill gaps in the SWE data."
   ]
  },
  {
   "cell_type": "code",
   "execution_count": null,
   "metadata": {},
   "outputs": [],
   "source": [
    "# Perform gap filling\n",
    "gapfilled_data, data_type_flags, donor_stationIDs = gap_filling.qm_gap_filling(\n",
    "    swe_df, window_days, min_obs_corr, min_obs_cdf, min_corr\n",
    ")\n",
    "\n",
    "# Display summary of gap filling results\n",
    "filled_gaps = (data_type_flags == 1).sum().sum()\n",
    "total_gaps = swe_df.isna().sum().sum()\n",
    "print(f\"Total gaps in original data: {total_gaps}\")\n",
    "print(f\"Gaps filled: {filled_gaps}\")\n",
    "print(f\"Percentage of gaps filled: {filled_gaps / total_gaps * 100:.2f}%\")"
   ]
  },
  {
   "cell_type": "markdown",
   "metadata": {},
   "source": [
    "## 5. Visualize Gap Filling Results\n",
    "\n",
    "Let's visualize the results of the gap filling process for a few selected stations."
   ]
  },
  {
   "cell_type": "code",
   "execution_count": null,
   "metadata": {},
   "outputs": [],
   "source": [
    "# Select a few stations with filled gaps for visualization\n",
    "stations_with_filled_gaps = data_type_flags.sum()[data_type_flags.sum() > 0].sort_values(ascending=False).index[:3]\n",
    "\n",
    "# Plot original and gap-filled data for selected stations\n",
    "for station in stations_with_filled_gaps:\n",
    "    plt.figure(figsize=(12, 6))\n",
    "    \n",
    "    # Plot original data\n",
    "    plt.plot(swe_df.index, swe_df[station], 'b-', label='Original Data')\n",
    "    \n",
    "    # Plot gap-filled data\n",
    "    filled_mask = data_type_flags[station] == 1\n",
    "    plt.scatter(gapfilled_data.loc[filled_mask].index, \n",
    "                gapfilled_data.loc[filled_mask, station], \n",
    "                color='r', marker='o', label='Gap-Filled Data')\n",
    "    \n",
    "    plt.title(f'Gap Filling Results for Station {station}')\n",
    "    plt.xlabel('Date')\n",
    "    plt.ylabel('SWE (mm)')\n",
    "    plt.legend()\n",
    "    plt.grid(True, alpha=0.3)\n",
    "    plt.tight_layout()\n",
    "    plt.show()"
   ]
  },
  {
   "cell_type": "markdown",
   "metadata": {},
   "source": [
    "## 6. Evaluate Gap Filling Performance\n",
    "\n",
    "We'll evaluate the performance of the gap filling method using artificial gaps."
   ]
  },
  {
   "cell_type": "code",
   "execution_count": null,
   "metadata": {},
   "outputs": [],
   "source": [
    "# Parameters for artificial gap filling evaluation\n",
    "iterations = 3  # Number of iterations for artificial gap filling\n",
    "artificial_gap_perc = 20  # Percentage of data to remove for artificial gap filling\n",
    "min_obs_KGE = 5  # Minimum number of observations for KGE calculation\n",
    "\n",
    "# Perform artificial gap filling evaluation\n",
    "evaluation = gap_filling.artificial_gap_filling(\n",
    "    swe_df, iterations, artificial_gap_perc, window_days, \n",
    "    min_obs_corr, min_obs_cdf, min_corr, min_obs_KGE, flag=0\n",
    ")\n",
    "\n",
    "# Plot evaluation results\n",
    "evaluation_plot = gap_filling.plots_artificial_gap_evaluation(evaluation)\n",
    "plt.show()"
   ]
  },
  {
   "cell_type": "markdown",
   "metadata": {},
   "source": [
    "## 7. Save Gap-Filled Data\n",
    "\n",
    "Save the gap-filled data for use in subsequent analyses."
   ]
  },
  {
   "cell_type": "code",
   "execution_count": null,
   "metadata": {},
   "outputs": [],
   "source": [
    "# Convert gap-filled data back to xarray Dataset\n",
    "gapfilled_dataset = xr.Dataset.from_dataframe(gapfilled_data)\n",
    "\n",
    "# Save gap-filled data\n",
    "gapfilled_dataset.to_netcdf('../data/processed/swe_gapfilled.nc')\n",
    "\n",
    "# Save data type flags and donor station IDs for reference\n",
    "data_type_flags.to_csv('../data/processed/data_type_flags.csv')\n",
    "donor_stationIDs.to_csv('../data/processed/donor_stationIDs.csv')\n",
    "\n",
    "print(\"Gap-filled data and metadata saved successfully.\")"
   ]
  },
  {
   "cell_type": "markdown",
   "metadata": {},
   "source": [
    "## 8. Summary\n",
    "\n",
    "In this notebook, we've demonstrated the gap filling workflow for the Snow Drought Index package. We've loaded SWE data, performed gap filling using quantile mapping, visualized the results, evaluated the performance of the gap filling method, and saved the gap-filled data for use in subsequent analyses.\n",
    "\n",
    "The workflow uses the following key functions from the `gap_filling` module:\n",
    "- `qm_gap_filling()` for filling gaps in the data using quantile mapping\n",
    "- `artificial_gap_filling()` for evaluating the performance of the gap filling method\n",
    "- `plots_artificial_gap_evaluation()` for visualizing the evaluation results\n",
    "\n",
    "These functions provide a standardized and reusable way to fill gaps in SWE data for the Snow Drought Index calculations."
   ]
  }
 ],
 "metadata": {
  "kernelspec": {
   "display_name": "Python 3",
   "language": "python",
   "name": "python3"
  },
  "language_info": {
   "codemirror_mode": {
    "name": "ipython",
    "version": 3
   },
   "file_extension": ".py",
   "mimetype": "text/x-python",
   "name": "python",
   "nbconvert_exporter": "python",
   "pygments_lexer": "ipython3",
   "version": "3.8.5"
  }
 },
 "nbformat": 4,
 "nbformat_minor": 4
}
