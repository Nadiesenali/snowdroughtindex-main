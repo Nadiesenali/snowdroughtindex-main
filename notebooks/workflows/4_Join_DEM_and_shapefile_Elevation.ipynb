{
 "cells": [
  {
   "cell_type": "code",
   "execution_count": null,
   "id": "d424e753",
   "metadata": {},
   "outputs": [],
   "source": [
    "#%pip install rasterstats\n",
    "import geopandas as gpd\n",
    "import rasterio\n",
    "from rasterio.merge import merge\n",
    "from rasterstats import zonal_stats\n",
    "from rasterio.mask import mask\n",
    "import os\n",
    "import glob\n",
    "import numpy as np\n",
    "import matplotlib.pyplot as plt"
   ]
  },
  {
   "cell_type": "code",
   "execution_count": null,
   "id": "4c59ff7a",
   "metadata": {},
   "outputs": [],
   "source": [
    "shapefile_path = \"C:/Users/walimunige.rupasingh/OneDrive - University of Calgary/Documents/Reasearch/Data/research_area/Shape_files/SA_research_area/Southern_Alberta_research.shp\"\n",
    "output_path = \"C:/Users/walimunige.rupasingh/OneDrive - University of Calgary/Documents/Reasearch/Data/research_area/Elevation/outputs\"\n",
    "tif_files = glob.glob(\"C:/Users/walimunige.rupasingh/OneDrive - University of Calgary/Documents/Reasearch/Data/research_area/Elevation/*.tif\")"
   ]
  },
  {
   "cell_type": "code",
   "execution_count": null,
   "id": "88479ee2",
   "metadata": {},
   "outputs": [],
   "source": [
    "# 1. Load Shapefile ===\n",
    "gdf = gpd.read_file(shapefile_path)"
   ]
  },
  {
   "cell_type": "code",
   "execution_count": null,
   "id": "7d60bb6c",
   "metadata": {},
   "outputs": [],
   "source": [
    "# 2. Merge the TIFs ===\n",
    "src_files_to_mosaic = [rasterio.open(fp) for fp in tif_files]\n",
    "mosaic, out_transform = merge(src_files_to_mosaic)"
   ]
  },
  {
   "cell_type": "code",
   "execution_count": null,
   "id": "5dd56a1b",
   "metadata": {},
   "outputs": [],
   "source": [
    "# 3. Write the Merged Raster to Disk ===\n",
    "mosaic_meta = src_files_to_mosaic[0].meta.copy()\n",
    "mosaic_meta.update({\n",
    "    \"driver\": \"GTiff\",\n",
    "    \"height\": mosaic.shape[1],\n",
    "    \"width\": mosaic.shape[2],\n",
    "    \"transform\": out_transform\n",
    "})\n",
    "\n",
    "merged_tif_path = \"merged_dem.tif\"\n",
    "with rasterio.open(merged_tif_path, \"w\", **mosaic_meta) as dest:\n",
    "    dest.write(mosaic)"
   ]
  },
  {
   "cell_type": "code",
   "execution_count": null,
   "id": "b0f16715",
   "metadata": {},
   "outputs": [],
   "source": [
    "# 4. Compute Zonal Statistics ===\n",
    "stats = zonal_stats(\n",
    "    shapefile_path,\n",
    "    merged_tif_path,\n",
    "    stats=[\"min\", \"max\", \"mean\", \"std\", \"median\", \"count\"],\n",
    "    nodata=None,\n",
    "    geojson_out=True\n",
    ")"
   ]
  },
  {
   "cell_type": "code",
   "execution_count": null,
   "id": "e48ccca6",
   "metadata": {},
   "outputs": [],
   "source": [
    "# 5. Create GeoDataFrame with Stats ===\n",
    "stats_gdf = gpd.GeoDataFrame.from_features(stats)"
   ]
  },
  {
   "cell_type": "code",
   "execution_count": null,
   "id": "a40e4ce7",
   "metadata": {},
   "outputs": [],
   "source": [
    "# 6. Save to New Shapefile or CSV ===\n",
    "output_shapefile_path = os.path.join(output_path, \"SA_elevation_with_stats.shp\")\n",
    "output_dir = os.path.dirname(output_shapefile_path)\n",
    "output_csv_path = os.path.join(output_dir, \"SA_stats.csv\")\n",
    "\n",
    "# save the GeoDataFrame to a shapefile\n",
    "stats_gdf.to_file(os.path.join(output_path, \"SA_elevation_with_stats.shp\"))  # Save as shapefile\n",
    "stats_gdf.drop(columns=\"geometry\").to_csv(output_csv_path, index=False)  # Also save as CSV\n",
    "\n",
    "print(\"✅ Elevation statistics extracted and saved.\")"
   ]
  },
  {
   "cell_type": "code",
   "execution_count": null,
   "id": "23f6d2af",
   "metadata": {},
   "outputs": [],
   "source": [
    "# Load shapefile with elevation stats\n",
    "gdf = gpd.read_file(\"SA_elevation_with_stats.shp\")  # or your output file\n",
    "\n",
    "# Plot mean elevation\n",
    "fig, ax = plt.subplots(figsize=(10, 8))\n",
    "gdf.plot(column='mean', cmap='terrain', legend=True, edgecolor='black', ax=ax)\n",
    "\n",
    "ax.set_title(\"Mean Elevation per Polygon\", fontsize=14)\n",
    "ax.axis('off')\n",
    "plt.tight_layout()\n",
    "# Save the plot\n",
    "plt.savefig(os.path.join(output_path, \"mean_elevation_plot.png\"), dpi=300)\n",
    "plt.show()"
   ]
  },
  {
   "cell_type": "code",
   "execution_count": null,
   "id": "f9ddf248",
   "metadata": {},
   "outputs": [],
   "source": [
    "# Clip the merged DEM using the geometry from the shapefile\n",
    "with rasterio.open(merged_tif_path) as src:\n",
    "\t# Use all geometries from the GeoDataFrame\n",
    "\tshapes = [feature[\"geometry\"] for feature in stats]\n",
    "\tclipped_dem, clipped_transform = mask(src, shapes=shapes, crop=True)"
   ]
  },
  {
   "cell_type": "code",
   "execution_count": null,
   "id": "6a61b982",
   "metadata": {},
   "outputs": [],
   "source": [
    "# Mask nodata using mosaic_meta or assume 0 is nodata if not set\n",
    "nodata_value = mosaic_meta.get(\"nodata\", 0)\n",
    "clipped_data = np.where(clipped_dem[0] == nodata_value, np.nan, clipped_dem[0])\n",
    "\n",
    "# Plot\n",
    "plt.figure(figsize=(12, 8))\n",
    "plt.imshow(clipped_data, cmap='terrain', vmin= 0, vmax=3000)  # Adjust vmin and vmax as needed\n",
    "plt.colorbar(label=\"Elevation (m)\")\n",
    "plt.title(\"Elevation Across Shapefile Area\")\n",
    "plt.axis('off')\n",
    "plt.tight_layout()\n",
    "# Save the current figure as a PNG file in the output_path directory\n",
    "plt.savefig(os.path.join(output_path, 'clipped_elevation_map.png'), dpi=300, bbox_inches='tight')\n",
    "plt.show()"
   ]
  },
  {
   "cell_type": "code",
   "execution_count": null,
   "id": "1ca57ce5",
   "metadata": {},
   "outputs": [],
   "source": [
    "# Example: Split polygons into elevation classes and save separate shapefiles\n",
    "\n",
    "# Define elevation bins (adjust as needed)\n",
    "elevation_bins = [0, 500, 1000, 1500, 2000,2500, 3000]\n",
    "elevation_labels = [f\"{elevation_bins[i]}_{elevation_bins[i+1]}m\" for i in range(len(elevation_bins)-1)]\n",
    "\n",
    "# Ensure 'mean' column exists in stats_gdf\n",
    "if 'mean' in stats_gdf.columns:\n",
    "    stats_gdf['elev_class'] = pd.cut(stats_gdf['mean'], bins=elevation_bins, labels=elevation_labels, include_lowest=True)\n",
    "    # Convert to string for shapefile output\n",
    "    stats_gdf['elev_class'] = stats_gdf['elev_class'].astype(str)\n",
    "    for label in elevation_labels:\n",
    "        subset = stats_gdf[stats_gdf['elev_class'] == str(label)]\n",
    "        if not subset.empty:\n",
    "            out_path = os.path.join(output_dir, f\"SA_elevation_{label}.shp\")\n",
    "            subset.to_file(out_path)\n",
    "            print(f\"Saved: {out_path}\")\n",
    "else:\n",
    "    print(\"Column 'mean' not found in stats_gdf.\")"
   ]
  },
  {
   "cell_type": "code",
   "execution_count": null,
   "id": "291a9a9a",
   "metadata": {},
   "outputs": [],
   "source": [
    "fig, axs = plt.subplots(1, 2, figsize=(20, 8))\n",
    "\n",
    "# Plot mean elevation per polygon\n",
    "gdf.plot(column='mean', cmap='terrain', legend=True, edgecolor='black', ax=axs[0])\n",
    "axs[0].set_title(\"Mean Elevation per Polygon\", fontsize=14)\n",
    "axs[0].axis('off')\n",
    "\n",
    "# Plot clipped DEM raster\n",
    "im = axs[1].imshow(clipped_data, cmap='terrain', vmin=0, vmax=3000)\n",
    "axs[1].set_title(\"Elevation Across Shapefile Area\", fontsize=14)\n",
    "axs[1].axis('off')\n",
    "fig.colorbar(im, ax=axs[1], fraction=0.046, pad=0.04, label=\"Elevation (m)\")\n",
    "\n",
    "plt.tight_layout()\n",
    "plt.show()\n",
    "\n",
    "\n",
    "\n"
   ]
  }
 ],
 "metadata": {
  "kernelspec": {
   "display_name": "Python 3",
   "language": "python",
   "name": "python3"
  },
  "language_info": {
   "codemirror_mode": {
    "name": "ipython",
    "version": 3
   },
   "file_extension": ".py",
   "mimetype": "text/x-python",
   "name": "python",
   "nbconvert_exporter": "python",
   "pygments_lexer": "ipython3",
   "version": "3.11.4"
  }
 },
 "nbformat": 4,
 "nbformat_minor": 5
}
