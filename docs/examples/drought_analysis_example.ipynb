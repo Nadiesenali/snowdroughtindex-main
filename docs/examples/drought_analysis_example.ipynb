{
 "cells": [
  {
   "cell_type": "markdown",
   "metadata": {},
   "source": [
    "# DroughtAnalysis Class Example\n",
    "\n",
    "This notebook demonstrates how to use the DroughtAnalysis class for analyzing drought conditions, comparing across elevation bands, and performing temporal trend analysis. The DroughtAnalysis class provides an object-oriented interface to analyze drought conditions based on SSWEI values."
   ]
  },
  {
   "cell_type": "code",
   "execution_count": null,
   "metadata": {},
   "outputs": [],
   "source": [
    "# Import required packages\n",
    "import numpy as np\n",
    "import pandas as pd\n",
    "import matplotlib.pyplot as plt\n",
    "import seaborn as sns\n",
    "import os\n",
    "from datetime import datetime\n",
    "\n",
    "# Import snowdroughtindex package\n",
    "from snowdroughtindex.core.dataset import SWEDataset\n",
    "from snowdroughtindex.core.sswei_class import SSWEI\n",
    "from snowdroughtindex.core.drought_analysis import DroughtAnalysis"
   ]
  },
  {
   "cell_type": "markdown",
   "metadata": {},
   "source": [
    "## 1. Creating Sample Data for Different Elevation Bands\n",
    "\n",
    "First, let's create sample SWE data for different elevation bands."
   ]
  },
  {
   "cell_type": "code",
   "execution_count": null,
   "metadata": {},
   "outputs": [],
   "source": [
    "# Function to create sample SWE data for an elevation band\n",
    "def create_sample_data(elevation_band, years_range=(1980, 2021), seed=None):\n",
    "    # Set random seed for reproducibility\n",
    "    if seed is not None:\n",
    "        np.random.seed(seed)\n",
    "    \n",
    "    # Create dates\n",
    "    years = range(years_range[0], years_range[1] + 1)\n",
    "    months = range(1, 13)  # 12 months per year\n",
    "    days = [1]  # Just the first day of each month for simplicity\n",
    "    \n",
    "    dates = []\n",
    "    for year in years:\n",
    "        for month in months:\n",
    "            for day in days:\n",
    "                try:\n",
    "                    dates.append(datetime(year, month, day))\n",
    "                except ValueError:\n",
    "                    # Skip invalid dates\n",
    "                    pass\n",
    "    \n",
    "    # Create stations\n",
    "    stations = [f'{elevation_band}_station_{i}' for i in range(1, 4)]\n",
    "    \n",
    "    # Extract elevation value from band name (e.g., \"1500-2000m\" -> 1750)\n",
    "    try:\n",
    "        elevation_str = elevation_band.replace('m', '').split('-')\n",
    "        if len(elevation_str) == 2:\n",
    "            min_elev = float(elevation_str[0])\n",
    "            max_elev = float(elevation_str[1])\n",
    "            mid_elev = (min_elev + max_elev) / 2\n",
    "        else:\n",
    "            mid_elev = float(elevation_band.replace('m', ''))\n",
    "    except:\n",
    "        mid_elev = 1000  # Default value\n",
    "    \n",
    "    # Create a DataFrame with SWE values\n",
    "    data = {}\n",
    "    for station in stations:\n",
    "        # Create seasonal pattern with random noise and elevation-dependent factors\n",
    "        values = []\n",
    "        for i, date in enumerate(dates):\n",
    "            # Seasonal pattern (higher in winter, lower in summer)\n",
    "            month_factor = np.sin(2 * np.pi * (date.month - 1) / 12 - np.pi/2)\n",
    "            \n",
    "            # Base SWE increases with elevation\n",
    "            elevation_factor = mid_elev / 1000  # Scale factor based on elevation\n",
    "            \n",
    "            # Higher elevations have more snow\n",
    "            seasonal = elevation_factor * 100 * max(0, month_factor) + 10\n",
    "            \n",
    "            # Add some year-to-year variability (drought cycles)\n",
    "            # Different elevation bands may have different drought patterns\n",
    "            year_factor = np.sin(2 * np.pi * (date.year - 1980) / 20 + (mid_elev % 1000) / 1000 * np.pi)\n",
    "            year_effect = 30 * year_factor\n",
    "            \n",
    "            # Add random noise\n",
    "            noise = np.random.normal(0, 10)\n",
    "            \n",
    "            # Combine factors\n",
    "            value = seasonal + year_effect + noise\n",
    "            value = max(0, value)  # No negative SWE values\n",
    "            values.append(value)\n",
    "        \n",
    "        data[station] = values\n",
    "    \n",
    "    df = pd.DataFrame(data, index=dates)\n",
    "    \n",
    "    # Create station information\n",
    "    station_info = pd.DataFrame({\n",
    "        'station_id': stations,\n",
    "        'lat': np.random.uniform(40, 45, len(stations)),\n",
    "        'lon': np.random.uniform(-120, -115, len(stations)),\n",
    "        'elevation': np.random.uniform(min_elev, max_elev, len(stations)) if 'min_elev' in locals() else np.random.uniform(mid_elev - 100, mid_elev + 100, len(stations))\n",
    "    })\n",
    "    \n",
    "    # Create SWEDataset\n",
    "    return SWEDataset(df, station_info)"
   ]
  },
  {
   "cell_type": "code",
   "execution_count": null,
   "metadata": {},
   "outputs": [],
   "source": [
    "# Create sample data for different elevation bands\n",
    "elevation_bands = ['1000-1500m', '1500-2000m', '2000-2500m', '2500-3000m']\n",
    "datasets = {}\n",
    "\n",
    "for i, band in enumerate(elevation_bands):\n",
    "    datasets[band] = create_sample_data(band, seed=42 + i)\n",
    "    print(f\"Created sample data for {band}\")"
   ]
  },
  {
   "cell_type": "markdown",
   "metadata": {},
   "source": [
    "## 2. Creating a DroughtAnalysis Object\n",
    "\n",
    "Now, let's create a DroughtAnalysis object and add our datasets."
   ]
  },
  {
   "cell_type": "code",
   "execution_count": null,
   "metadata": {},
   "outputs": [],
   "source": [
    "# Create a DroughtAnalysis object\n",
    "drought_analysis = DroughtAnalysis()\n",
    "\n",
    "# Add datasets for each elevation band\n",
    "for band, dataset in datasets.items():\n",
    "    drought_analysis.add_dataset(band, dataset, is_elevation_band=True)\n",
    "\n",
    "print(drought_analysis)"
   ]
  },
  {
   "cell_type": "markdown",
   "metadata": {},
   "source": [
    "## 3. Calculating SSWEI for All Datasets\n",
    "\n",
    "Let's calculate SSWEI for all datasets for the winter season (December to March)."
   ]
  },
  {
   "cell_type": "code",
   "execution_count": null,
   "metadata": {},
   "outputs": [],
   "source": [
    "# Calculate SSWEI for all datasets\n",
    "try:\n",
    "    drought_analysis.calculate_sswei(\n",
    "        start_month=12,  # December\n",
    "        end_month=3,     # March\n",
    "        min_years=10,    # Minimum 10 years of data required\n",
    "        distribution='gamma'  # Use gamma distribution\n",
    "    )\n",
    "    \n",
    "    print(\"SSWEI calculated for all datasets.\")\n",
    "    \n",
    "    # Display SSWEI data for the first elevation band\n",
    "    first_band = elevation_bands[0]\n",
    "    print(f\"\\nSSWEI data for {first_band}:\")\n",
    "    display(drought_analysis.sswei_objects[first_band].sswei_data.head())\n",
    "except Exception as e:\n",
    "    print(f\"Error calculating SSWEI: {e}\")"
   ]
  },
  {
   "cell_type": "markdown",
   "metadata": {},
   "source": [
    "## 4. Comparing Drought Conditions Across Elevation Bands\n",
    "\n",
    "Let's compare drought conditions across different elevation bands."
   ]
  },
  {
   "cell_type": "code",
   "execution_count": null,
   "metadata": {},
   "outputs": [],
   "source": [
    "# Compare drought conditions across elevation bands\n",
    "try:\n",
    "    comparison_df = drought_analysis.compare_elevation_bands()\n",
    "    \n",
    "    print(\"Drought comparison across elevation bands:\")\n",
    "    display(comparison_df)\n",
    "    \n",
    "    # Plot the comparison\n",
    "    fig = drought_analysis.plot_elevation_band_comparison()\n",
    "    plt.show()\n",
    "except Exception as e:\n",
    "    print(f\"Error comparing elevation bands: {e}\")"
   ]
  },
  {
   "cell_type": "markdown",
   "metadata": {},
   "source": [
    "## 5. Analyzing Temporal Trends in Drought Conditions\n",
    "\n",
    "Let's analyze temporal trends in drought conditions using a moving window approach."
   ]
  },
  {
   "cell_type": "code",
   "execution_count": null,
   "metadata": {},
   "outputs": [],
   "source": [
    "# Analyze temporal trends in drought conditions\n",
    "try:\n",
    "    trend_results = drought_analysis.analyze_temporal_trends(window_size=10)\n",
    "    \n",
    "    # Display trend data for the first elevation band\n",
    "    first_band = elevation_bands[0]\n",
    "    print(f\"Temporal trend data for {first_band}:\")\n",
    "    display(trend_results[first_band].head())\n",
    "    \n",
    "    # Plot temporal trends\n",
    "    fig = drought_analysis.plot_temporal_trends()\n",
    "    plt.show()\n",
    "except Exception as e:\n",
    "    print(f\"Error analyzing temporal trends: {e}\")"
   ]
  },
  {
   "cell_type": "markdown",
   "metadata": {},
   "source": [
    "## 6. Analyzing Drought Characteristics\n",
    "\n",
    "Let's analyze drought characteristics such as duration, severity, and intensity for each elevation band."
   ]
  },
  {
   "cell_type": "code",
   "execution_count": null,
   "metadata": {},
   "outputs": [],
   "source": [
    "# Analyze drought characteristics\n",
    "try:\n",
    "    characteristics_results = drought_analysis.analyze_drought_characteristics()\n",
    "    \n",
    "    # Display characteristics for each elevation band\n",
    "    for band, chars_data in characteristics_results.items():\n",
    "        if not chars_data.empty:\n",
    "            print(f\"\\nDrought characteristics for {band}:\")\n",
    "            display(chars_data.head())\n",
    "        else:\n",
    "            print(f\"\\nNo drought events found for {band}.\")\n",
    "except Exception as e:\n",
    "    print(f\"Error analyzing drought characteristics: {e}\")"
   ]
  },
  {
   "cell_type": "markdown",
   "metadata": {},
   "source": [
    "## 7. Analyzing Drought Synchronicity\n",
    "\n",
    "Let's analyze the synchronicity of drought events across elevation bands."
   ]
  },
  {
   "cell_type": "code",
   "execution_count": null,
   "metadata": {},
   "outputs": [],
   "source": [
    "# Analyze drought synchronicity\n",
    "try:\n",
    "    sync_data = drought_analysis.analyze_drought_synchronicity()\n",
    "    \n",
    "    print(\"Drought synchronicity data:\")\n",
    "    display(sync_data.head())\n",
    "    \n",
    "    # Plot drought synchronicity\n",
    "    heatmap_fig, timeseries_fig = drought_analysis.plot_drought_synchronicity()\n",
    "    plt.figure(heatmap_fig.number)\n",
    "    plt.show()\n",
    "    plt.figure(timeseries_fig.number)\n",
    "    plt.show()\n",
    "except Exception as e:\n",
    "    print(f\"Error analyzing drought synchronicity: {e}\")"
   ]
  },
  {
   "cell_type": "markdown",
   "metadata": {},
   "source": [
    "## 8. Analyzing Elevation Sensitivity\n",
    "\n",
    "Let's analyze the sensitivity of drought conditions to elevation."
   ]
  },
  {
   "cell_type": "code",
   "execution_count": null,
   "metadata": {},
   "outputs": [],
   "source": [
    "# Analyze elevation sensitivity\n",
    "try:\n",
    "    elevation_df = drought_analysis.analyze_elevation_sensitivity()\n",
    "    \n",
    "    print(\"Elevation sensitivity data:\")\n",
    "    display(elevation_df)\n",
    "    \n",
    "    # Plot elevation sensitivity\n",
    "    fig = drought_analysis.plot_elevation_sensitivity()\n",
    "    plt.show()\n",
    "except Exception as e:\n",
    "    print(f\"Error analyzing elevation sensitivity: {e}\")"
   ]
  },
  {
   "cell_type": "markdown",
   "metadata": {},
   "source": [
    "## 9. Comparing SSWEI Values for a Specific Year\n",
    "\n",
    "Let's compare SSWEI values for a specific year across all elevation bands."
   ]
  },
  {
   "cell_type": "code",
   "execution_count": null,
   "metadata": {},
   "outputs": [],
   "source": [
    "# Compare SSWEI values for a specific year\n",
    "try:\n",
    "    # Choose a year (e.g., 2015)\n",
    "    year = 2015\n",
    "    \n",
    "    # Plot SSWEI comparison\n",
    "    fig = drought_analysis.plot_sswei_comparison(year)\n",
    "    plt.show()\n",
    "except Exception as e:\n",
    "    print(f\"Error comparing SSWEI values: {e}\")"
   ]
  },
  {
   "cell_type": "markdown",
   "metadata": {},
   "source": [
    "## 10. Exporting Analysis Results\n",
    "\n",
    "Finally, let's export the analysis results to CSV files."
   ]
  },
  {
   "cell_type": "code",
   "execution_count": null,
   "metadata": {},
   "outputs": [],
   "source": [
    "# Export analysis results\n",
    "try:\n",
    "    output_dir = '../data/processed/drought_analysis_results'\n",
    "    \n",
    "    # Create the directory if it doesn't exist\n",
    "    os.makedirs(output_dir, exist_ok=True)\n",
    "    \n",
    "    # Export results\n",
    "    drought_analysis.export_results(output_dir)\n",
    "except Exception as e:\n",
    "    print(f\"Error exporting analysis results: {e}\")"
   ]
  },
  {
   "cell_type": "markdown",
   "metadata": {},
   "source": [
    "## 11. Summary\n",
    "\n",
    "In this notebook, we've demonstrated how to use the DroughtAnalysis class for analyzing drought conditions, comparing across elevation bands, and performing temporal trend analysis. We've covered:\n",
    "\n",
    "1. Creating sample data for different elevation bands\n",
    "2. Creating a DroughtAnalysis object\n",
    "3. Calculating SSWEI for all datasets\n",
    "4. Comparing drought conditions across elevation bands\n",
    "5. Analyzing temporal trends in drought conditions\n",
    "6. Analyzing drought characteristics\n",
    "7. Analyzing drought synchronicity\n",
    "8. Analyzing elevation sensitivity\n",
    "9. Comparing SSWEI values for a specific year\n",
    "10. Exporting analysis results\n",
    "\n",
    "The DroughtAnalysis class provides a convenient object-oriented interface for analyzing drought conditions based on SSWEI values, making it easier to compare drought conditions across elevation bands and perform temporal trend analysis."
   ]
  }
 ],
 "metadata": {
  "kernelspec": {
   "display_name": "Python 3",
   "language": "python",
   "name": "python3"
  },
  "language_info": {
   "codemirror_mode": {
    "name": "ipython",
    "version": 3
   },
   "file_extension": ".py",
   "mimetype": "text/x-python",
   "name": "python",
   "nbconvert_exporter": "python",
   "pygments_lexer": "ipython3",
   "version": "3.8.5"
  }
 },
 "nbformat": 4,
 "nbformat_minor": 4
}
