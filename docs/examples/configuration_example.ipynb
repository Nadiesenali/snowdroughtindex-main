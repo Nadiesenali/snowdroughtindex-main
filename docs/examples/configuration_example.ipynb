{
 "cells": [
  {
   "cell_type": "markdown",
   "metadata": {},
   "source": [
    "# Configuration Class Example\n",
    "\n",
    "This notebook demonstrates how to use the Configuration class for managing parameters in the Snow Drought Index package. The Configuration class provides a centralized way to manage parameters for gap filling, SSWEI calculation, and visualization settings."
   ]
  },
  {
   "cell_type": "code",
   "execution_count": null,
   "metadata": {},
   "outputs": [],
   "source": [
    "# Import required packages\n",
    "import os\n",
    "import json\n",
    "import yaml\n",
    "import tempfile\n",
    "from pprint import pprint\n",
    "\n",
    "# Import the Configuration class\n",
    "from snowdroughtindex.core.configuration import Configuration"
   ]
  },
  {
   "cell_type": "markdown",
   "metadata": {},
   "source": [
    "## 1. Creating a Configuration Object\n",
    "\n",
    "Let's create a Configuration object with default settings."
   ]
  },
  {
   "cell_type": "code",
   "execution_count": null,
   "metadata": {},
   "outputs": [],
   "source": [
    "# Create a Configuration object with default settings\n",
    "config = Configuration()\n",
    "\n",
    "# Display the configuration\n",
    "print(config)\n",
    "\n",
    "# Display the configuration sections\n",
    "print(\"\\nConfiguration sections:\")\n",
    "print(config)"
   ]
  },
  {
   "cell_type": "markdown",
   "metadata": {},
   "source": [
    "## 2. Accessing Configuration Parameters\n",
    "\n",
    "Let's access some configuration parameters."
   ]
  },
  {
   "cell_type": "code",
   "execution_count": null,
   "metadata": {},
   "outputs": [],
   "source": [
    "# Get gap filling parameters\n",
    "gap_filling_params = config.get_gap_filling_params()\n",
    "print(\"Gap Filling Parameters:\")\n",
    "pprint(gap_filling_params)\n",
    "\n",
    "# Get SSWEI parameters\n",
    "sswei_params = config.get_sswei_params()\n",
    "print(\"\\nSSWEI Parameters:\")\n",
    "pprint(sswei_params)\n",
    "\n",
    "# Get drought classification thresholds\n",
    "drought_thresholds = config.get_drought_classification_thresholds()\n",
    "print(\"\\nDrought Classification Thresholds:\")\n",
    "pprint(drought_thresholds)\n",
    "\n",
    "# Get visualization settings\n",
    "viz_settings = config.get_visualization_settings()\n",
    "print(\"\\nVisualization Settings:\")\n",
    "pprint(viz_settings)\n",
    "\n",
    "# Get data paths\n",
    "paths = config.get_paths()\n",
    "print(\"\\nData Paths:\")\n",
    "pprint(paths)"
   ]
  },
  {
   "cell_type": "markdown",
   "metadata": {},
   "source": [
    "## 3. Accessing Individual Parameters\n",
    "\n",
    "Let's access individual parameters using the `get` method."
   ]
  },
  {
   "cell_type": "code",
   "execution_count": null,
   "metadata": {},
   "outputs": [],
   "source": [
    "# Get window_days parameter from gap_filling section\n",
    "window_days = config.get('gap_filling', 'window_days')\n",
    "print(f\"Gap filling window days: {window_days}\")\n",
    "\n",
    "# Get distribution parameter from sswei section\n",
    "distribution = config.get('sswei', 'distribution')\n",
    "print(f\"SSWEI distribution: {distribution}\")\n",
    "\n",
    "# Get a parameter with a default value\n",
    "custom_param = config.get('custom_section', 'custom_param', default='default_value')\n",
    "print(f\"Custom parameter: {custom_param}\")\n",
    "\n",
    "# Get an entire section\n",
    "drought_section = config.get('drought_classification')\n",
    "print(\"\\nDrought Classification Section:\")\n",
    "pprint(drought_section)"
   ]
  },
  {
   "cell_type": "markdown",
   "metadata": {},
   "source": [
    "## 4. Modifying Configuration Parameters\n",
    "\n",
    "Let's modify some configuration parameters using the `set` method."
   ]
  },
  {
   "cell_type": "code",
   "execution_count": null,
   "metadata": {},
   "outputs": [],
   "source": [
    "# Set window_days parameter in gap_filling section\n",
    "config.set('gap_filling', 'window_days', 20)\n",
    "print(f\"Updated gap filling window days: {config.get('gap_filling', 'window_days')}\")\n",
    "\n",
    "# Set distribution parameter in sswei section\n",
    "config.set('sswei', 'distribution', 'normal')\n",
    "print(f\"Updated SSWEI distribution: {config.get('sswei', 'distribution')}\")\n",
    "\n",
    "# Set a parameter in a new section\n",
    "config.set('custom_section', 'custom_param', 'custom_value')\n",
    "print(f\"Custom parameter: {config.get('custom_section', 'custom_param')}\")\n",
    "\n",
    "# Display the updated configuration\n",
    "print(\"\\nUpdated Configuration:\")\n",
    "print(config)"
   ]
  },
  {
   "cell_type": "markdown",
   "metadata": {},
   "source": [
    "## 5. Updating Configuration from a Dictionary\n",
    "\n",
    "Let's update the configuration using a dictionary."
   ]
  },
  {
   "cell_type": "code",
   "execution_count": null,
   "metadata": {},
   "outputs": [],
   "source": [
    "# Create a dictionary with configuration parameters\n",
    "config_dict = {\n",
    "    'gap_filling': {\n",
    "        'window_days': 25,\n",
    "        'min_corr': 0.8\n",
    "    },\n",
    "    'sswei': {\n",
    "        'start_month': 11,  # November\n",
    "        'end_month': 4      # April\n",
    "    },\n",
    "    'new_section': {\n",
    "        'param1': 'value1',\n",
    "        'param2': 42\n",
    "    }\n",
    "}\n",
    "\n",
    "# Update the configuration\n",
    "config.update(config_dict)\n",
    "\n",
    "# Display the updated configuration\n",
    "print(\"Updated Configuration:\")\n",
    "print(config)\n",
    "\n",
    "# Check specific parameters\n",
    "print(f\"\\nGap filling window days: {config.get('gap_filling', 'window_days')}\")\n",
    "print(f\"Gap filling min_corr: {config.get('gap_filling', 'min_corr')}\")\n",
    "print(f\"SSWEI start_month: {config.get('sswei', 'start_month')}\")\n",
    "print(f\"SSWEI end_month: {config.get('sswei', 'end_month')}\")\n",
    "print(f\"New section param1: {config.get('new_section', 'param1')}\")\n",
    "print(f\"New section param2: {config.get('new_section', 'param2')}\")"
   ]
  },
  {
   "cell_type": "markdown",
   "metadata": {},
   "source": [
    "## 6. Saving Configuration to a File\n",
    "\n",
    "Let's save the configuration to JSON and YAML files."
   ]
  },
  {
   "cell_type": "code",
   "execution_count": null,
   "metadata": {},
   "outputs": [],
   "source": [
    "# Create a temporary directory for configuration files\n",
    "temp_dir = tempfile.mkdtemp()\n",
    "print(f\"Temporary directory: {temp_dir}\")\n",
    "\n",
    "# Save configuration to a JSON file\n",
    "json_file = os.path.join(temp_dir, 'config.json')\n",
    "config.save_to_file(json_file)\n",
    "print(f\"Configuration saved to {json_file}\")\n",
    "\n",
    "# Save configuration to a YAML file\n",
    "yaml_file = os.path.join(temp_dir, 'config.yaml')\n",
    "config.save_to_file(yaml_file)\n",
    "print(f\"Configuration saved to {yaml_file}\")\n",
    "\n",
    "# Display the contents of the JSON file\n",
    "print(\"\\nContents of the JSON file:\")\n",
    "with open(json_file, 'r') as f:\n",
    "    print(f.read())\n",
    "\n",
    "# Display the contents of the YAML file\n",
    "print(\"\\nContents of the YAML file:\")\n",
    "with open(yaml_file, 'r') as f:\n",
    "    print(f.read())"
   ]
  },
  {
   "cell_type": "markdown",
   "metadata": {},
   "source": [
    "## 7. Loading Configuration from a File\n",
    "\n",
    "Let's load the configuration from the JSON and YAML files we just created."
   ]
  },
  {
   "cell_type": "code",
   "execution_count": null,
   "metadata": {},
   "outputs": [],
   "source": [
    "# Create a new Configuration object\n",
    "new_config = Configuration()\n",
    "\n",
    "# Display the default configuration\n",
    "print(\"Default Configuration:\")\n",
    "print(f\"Gap filling window days: {new_config.get('gap_filling', 'window_days')}\")\n",
    "print(f\"SSWEI start_month: {new_config.get('sswei', 'start_month')}\")\n",
    "\n",
    "# Load configuration from the JSON file\n",
    "new_config.load_from_file(json_file)\n",
    "\n",
    "# Display the loaded configuration\n",
    "print(\"\\nConfiguration Loaded from JSON:\")\n",
    "print(f\"Gap filling window days: {new_config.get('gap_filling', 'window_days')}\")\n",
    "print(f\"SSWEI start_month: {new_config.get('sswei', 'start_month')}\")\n",
    "print(f\"New section param1: {new_config.get('new_section', 'param1')}\")\n",
    "\n",
    "# Create another Configuration object\n",
    "yaml_config = Configuration()\n",
    "\n",
    "# Load configuration from the YAML file\n",
    "yaml_config.load_from_file(yaml_file)\n",
    "\n",
    "# Display the loaded configuration\n",
    "print(\"\\nConfiguration Loaded from YAML:\")\n",
    "print(f\"Gap filling window days: {yaml_config.get('gap_filling', 'window_days')}\")\n",
    "print(f\"SSWEI start_month: {yaml_config.get('sswei', 'start_month')}\")\n",
    "print(f\"New section param1: {yaml_config.get('new_section', 'param1')}\")"
   ]
  },
  {
   "cell_type": "markdown",
   "metadata": {},
   "source": [
    "## 8. Creating a Configuration Object with a File\n",
    "\n",
    "Let's create a Configuration object directly from a file."
   ]
  },
  {
   "cell_type": "code",
   "execution_count": null,
   "metadata": {},
   "outputs": [],
   "source": [
    "# Create a Configuration object from the JSON file\n",
    "json_config = Configuration(config_file=json_file)\n",
    "\n",
    "# Display the configuration\n",
    "print(\"Configuration from JSON file:\")\n",
    "print(f\"Gap filling window days: {json_config.get('gap_filling', 'window_days')}\")\n",
    "print(f\"SSWEI start_month: {json_config.get('sswei', 'start_month')}\")\n",
    "print(f\"New section param1: {json_config.get('new_section', 'param1')}\")\n",
    "\n",
    "# Create a Configuration object from the YAML file\n",
    "yaml_config = Configuration(config_file=yaml_file)\n",
    "\n",
    "# Display the configuration\n",
    "print(\"\\nConfiguration from YAML file:\")\n",
    "print(f\"Gap filling window days: {yaml_config.get('gap_filling', 'window_days')}\")\n",
    "print(f\"SSWEI start_month: {yaml_config.get('sswei', 'start_month')}\")\n",
    "print(f\"New section param1: {yaml_config.get('new_section', 'param1')}\")"
   ]
  },
  {
   "cell_type": "markdown",
   "metadata": {},
   "source": [
    "## 9. Environment Variable Integration\n",
    "\n",
    "The Configuration class can also load parameters from environment variables. Environment variables should be in the format `SNOWDROUGHTINDEX_SECTION_PARAMETER=value`. For example, `SNOWDROUGHTINDEX_GAP_FILLING_WINDOW_DAYS=20`.\n",
    "\n",
    "Let's set some environment variables and see how they affect the configuration."
   ]
  },
  {
   "cell_type": "code",
   "execution_count": null,
   "metadata": {},
   "outputs": [],
   "source": [
    "# Set environment variables\n",
    "os.environ['SNOWDROUGHTINDEX_GAP_FILLING_WINDOW_DAYS'] = '30'\n",
    "os.environ['SNOWDROUGHTINDEX_SSWEI_DISTRIBUTION'] = 'custom'\n",
    "os.environ['SNOWDROUGHTINDEX_CUSTOM_SECTION_CUSTOM_PARAM'] = 'env_value'\n",
    "\n",
    "# Create a Configuration object with environment variable integration\n",
    "env_config = Configuration(use_env_vars=True)\n",
    "\n",
    "# Display the configuration\n",
    "print(\"Configuration with Environment Variables:\")\n",
    "print(f\"Gap filling window days: {env_config.get('gap_filling', 'window_days')}\")\n",
    "print(f\"SSWEI distribution: {env_config.get('sswei', 'distribution')}\")\n",
    "print(f\"Custom parameter: {env_config.get('custom_section', 'custom_param')}\")\n",
    "\n",
    "# Clean up environment variables\n",
    "del os.environ['SNOWDROUGHTINDEX_GAP_FILLING_WINDOW_DAYS']\n",
    "del os.environ['SNOWDROUGHTINDEX_SSWEI_DISTRIBUTION']\n",
    "del os.environ['SNOWDROUGHTINDEX_CUSTOM_SECTION_CUSTOM_PARAM']"
   ]
  },
  {
   "cell_type": "markdown",
   "metadata": {},
   "source": [
    "## 10. Command-Line Argument Integration\n",
    "\n",
    "The Configuration class can also load parameters from command-line arguments. Command-line arguments should be in the format `--section.parameter=value`. For example, `--gap_filling.window_days=20`.\n",
    "\n",
    "This feature is primarily useful when running scripts from the command line, not in a notebook environment. Here's an example of how it would be used in a script:\n",
    "\n",
    "```python\n",
    "# script.py\n",
    "from snowdroughtindex.core.configuration import Configuration\n",
    "\n",
    "# Create a Configuration object with command-line argument integration\n",
    "config = Configuration(use_cli_args=True)\n",
    "\n",
    "# Use the configuration\n",
    "window_days = config.get('gap_filling', 'window_days')\n",
    "print(f\"Gap filling window days: {window_days}\")\n",
    "```\n",
    "\n",
    "Then you would run the script with command-line arguments:\n",
    "\n",
    "```bash\n",
    "python script.py --gap_filling.window_days=20 --sswei.distribution=normal\n",
    "```"
   ]
  },
  {
   "cell_type": "markdown",
   "metadata": {},
   "source": [
    "## 11. Using Configuration with Other Classes\n",
    "\n",
    "Let's see how the Configuration class can be used with other classes in the package."
   ]
  },
  {
   "cell_type": "code",
   "execution_count": null,
   "metadata": {},
   "outputs": [],
   "source": [
    "# Import other classes\n",
    "from snowdroughtindex.core.dataset import SWEDataset\n",
    "from snowdroughtindex.core.sswei_class import SSWEI\n",
    "from snowdroughtindex.core.drought_analysis import DroughtAnalysis\n",
    "\n",
    "# Create a Configuration object\n",
    "config = Configuration()\n",
    "\n",
    "# Customize configuration\n",
    "config.set('gap_filling', 'window_days', 20)\n",
    "config.set('gap_filling', 'min_corr', 0.8)\n",
    "config.set('sswei', 'start_month', 11)  # November\n",
    "config.set('sswei', 'end_month', 4)     # April\n",
    "config.set('drought_classification', 'moderate', -0.6)  # Custom threshold\n",
    "\n",
    "# Example of using configuration with SWEDataset\n",
    "# In a real application, you would pass the configuration to the gap_fill method\n",
    "print(\"Using configuration with SWEDataset:\")\n",
    "gap_filling_params = config.get_gap_filling_params()\n",
    "print(f\"Gap filling parameters: {gap_filling_params}\")\n",
    "print(f\"These parameters would be used in swe_dataset.gap_fill(**gap_filling_params)\")\n",
    "\n",
    "# Example of using configuration with SSWEI\n",
    "# In a real application, you would pass the configuration to the calculate_sswei method\n",
    "print(\"\\nUsing configuration with SSWEI:\")\n",
    "sswei_params = config.get_sswei_params()\n",
    "print(f\"SSWEI parameters: {sswei_params}\")\n",
    "print(f\"These parameters would be used in sswei_obj.calculate_sswei(**sswei_params)\")\n",
    "\n",
    "# Example of using configuration with DroughtAnalysis\n",
    "# In a real application, you would pass the configuration to the calculate_sswei method\n",
    "print(\"\\nUsing configuration with DroughtAnalysis:\")\n",
    "drought_thresholds = config.get_drought_classification_thresholds()\n",
    "print(f\"Drought classification thresholds: {drought_thresholds}\")\n",
    "print(f\"These thresholds would be used to classify drought conditions\")"
   ]
  },
  {
   "cell_type": "markdown",
   "metadata": {},
   "source": [
    "## 12. Summary\n",
    "\n",
    "In this notebook, we've demonstrated how to use the Configuration class for managing parameters in the Snow Drought Index package. We've covered:\n",
    "\n",
    "1. Creating a Configuration object\n",
    "2. Accessing configuration parameters\n",
    "3. Modifying configuration parameters\n",
    "4. Updating configuration from a dictionary\n",
    "5. Saving configuration to a file\n",
    "6. Loading configuration from a file\n",
    "7. Creating a Configuration object with a file\n",
    "8. Environment variable integration\n",
    "9. Command-line argument integration\n",
    "10. Using configuration with other classes\n",
    "\n",
    "The Configuration class provides a centralized way to manage parameters for gap filling, SSWEI calculation, and visualization settings. It supports loading configuration from files (YAML/JSON), command-line parameter overrides, and environment variable integration."
   ]
  }
 ],
 "metadata": {
  "kernelspec": {
   "display_name": "Python 3",
   "language": "python",
   "name": "python3"
  },
  "language_info": {
   "codemirror_mode": {
    "name": "ipython",
    "version": 3
   },
   "file_extension": ".py",
   "mimetype": "text/x-python",
   "name": "python",
   "nbconvert_exporter": "python",
   "pygments_lexer": "ipython3",
   "version": "3.8.5"
  }
 },
 "nbformat": 4,
 "nbformat_minor": 4
}
