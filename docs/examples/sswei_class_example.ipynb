{
 "cells": [
  {
   "cell_type": "markdown",
   "metadata": {},
   "source": [
    "# SSWEI Class Example\n",
    "\n",
    "This notebook demonstrates how to use the SSWEI class for calculating the Standardized Snow Water Equivalent Index (SSWEI) and classifying drought conditions. The SSWEI class provides an object-oriented interface to the SSWEI calculation and drought classification functionality."
   ]
  },
  {
   "cell_type": "code",
   "execution_count": null,
   "metadata": {},
   "outputs": [],
   "source": [
    "# Import required packages\n",
    "import numpy as np\n",
    "import pandas as pd\n",
    "import matplotlib.pyplot as plt\n",
    "import seaborn as sns\n",
    "import os\n",
    "from datetime import datetime\n",
    "\n",
    "# Import snowdroughtindex package\n",
    "from snowdroughtindex.core.sswei_class import SSWEI\n",
    "from snowdroughtindex.core.dataset import SWEDataset"
   ]
  },
  {
   "cell_type": "markdown",
   "metadata": {},
   "source": [
    "## 1. Loading SWE Data\n",
    "\n",
    "First, let's load some SWE data using the SWEDataset class and then pass it to the SSWEI class."
   ]
  },
  {
   "cell_type": "code",
   "execution_count": null,
   "metadata": {},
   "outputs": [],
   "source": [
    "# Create a SWEDataset object\n",
    "swe_dataset = SWEDataset()\n",
    "\n",
    "# Load data from a file\n",
    "data_file = '../data/swe_data.nc'  # Update with your actual data file path\n",
    "\n",
    "# Check if the file exists\n",
    "if os.path.exists(data_file):\n",
    "    swe_dataset.load_from_file(data_file)\n",
    "    print(f\"Loaded data from {data_file}\")\n",
    "else:\n",
    "    print(f\"File {data_file} not found. Creating sample data...\")\n",
    "    \n",
    "    # Create sample data for demonstration\n",
    "    years = range(1980, 2021)  # 41 years of data\n",
    "    months = range(1, 13)      # 12 months per year\n",
    "    days = [1]                 # Just the first day of each month for simplicity\n",
    "    \n",
    "    # Create dates\n",
    "    dates = []\n",
    "    for year in years:\n",
    "        for month in months:\n",
    "            for day in days:\n",
    "                try:\n",
    "                    dates.append(datetime(year, month, day))\n",
    "                except ValueError:\n",
    "                    # Skip invalid dates (e.g., February 30)\n",
    "                    pass\n",
    "    \n",
    "    # Create stations\n",
    "    stations = [f'station_{i}' for i in range(1, 6)]\n",
    "    \n",
    "    # Create a DataFrame with random SWE values\n",
    "    np.random.seed(42)  # For reproducibility\n",
    "    data = {}\n",
    "    for station in stations:\n",
    "        # Create seasonal pattern with random noise and long-term trend\n",
    "        values = []\n",
    "        for i, date in enumerate(dates):\n",
    "            # Seasonal pattern (higher in winter, lower in summer)\n",
    "            month_factor = np.sin(2 * np.pi * (date.month - 1) / 12 - np.pi/2)\n",
    "            seasonal = 100 * max(0, month_factor) + 10\n",
    "            \n",
    "            # Add some year-to-year variability (drought cycles)\n",
    "            year_factor = np.sin(2 * np.pi * (date.year - 1980) / 20)  # 20-year cycle\n",
    "            year_effect = 30 * year_factor\n",
    "            \n",
    "            # Add random noise\n",
    "            noise = np.random.normal(0, 10)\n",
    "            \n",
    "            # Combine factors\n",
    "            value = seasonal + year_effect + noise\n",
    "            value = max(0, value)  # No negative SWE values\n",
    "            values.append(value)\n",
    "        \n",
    "        data[station] = values\n",
    "    \n",
    "    df = pd.DataFrame(data, index=dates)\n",
    "    \n",
    "    # Create station information\n",
    "    station_info = pd.DataFrame({\n",
    "        'station_id': stations,\n",
    "        'lat': np.random.uniform(40, 45, len(stations)),\n",
    "        'lon': np.random.uniform(-120, -115, len(stations)),\n",
    "        'elevation': np.random.uniform(1500, 3000, len(stations))\n",
    "    })\n",
    "    \n",
    "    # Create SWEDataset with sample data\n",
    "    swe_dataset = SWEDataset(df, station_info)\n",
    "    print(\"Sample data created successfully.\")"
   ]
  },
  {
   "cell_type": "markdown",
   "metadata": {},
   "source": [
    "## 2. Creating an SSWEI Object\n",
    "\n",
    "Now, let's create an SSWEI object using the SWE data."
   ]
  },
  {
   "cell_type": "code",
   "execution_count": null,
   "metadata": {},
   "outputs": [],
   "source": [
    "# Create an SSWEI object with the SWEDataset\n",
    "sswei_obj = SSWEI(swe_dataset)\n",
    "print(sswei_obj)"
   ]
  },
  {
   "cell_type": "markdown",
   "metadata": {},
   "source": [
    "## 3. Calculating SSWEI\n",
    "\n",
    "Let's calculate the SSWEI for the winter season (December to March)."
   ]
  },
  {
   "cell_type": "code",
   "execution_count": null,
   "metadata": {},
   "outputs": [],
   "source": [
    "# Calculate SSWEI for the winter season (December to March)\n",
    "try:\n",
    "    sswei_obj.calculate_sswei(\n",
    "        start_month=12,  # December\n",
    "        end_month=3,     # March\n",
    "        min_years=10,    # Minimum 10 years of data required\n",
    "        distribution='gamma'  # Use gamma distribution\n",
    "    )\n",
    "    \n",
    "    # Display the SSWEI results\n",
    "    print(\"SSWEI Results:\")\n",
    "    display(sswei_obj.sswei_data.head())\n",
    "    \n",
    "    # Print summary statistics\n",
    "    print(\"\\nSSWEI Summary Statistics:\")\n",
    "    display(sswei_obj.sswei_data['SWEI'].describe())\n",
    "    \n",
    "    # Count drought classifications\n",
    "    print(\"\\nDrought Classification Counts:\")\n",
    "    display(sswei_obj.sswei_data['Drought_Classification'].value_counts())\n",
    "except Exception as e:\n",
    "    print(f\"Error calculating SSWEI: {e}\")\n",
    "    print(\"Note: This may occur with the sample data due to insufficient seasonal data.\")"
   ]
  },
  {
   "cell_type": "markdown",
   "metadata": {},
   "source": [
    "## 4. Customizing Drought Classification Thresholds\n",
    "\n",
    "Let's customize the thresholds used for drought classification."
   ]
  },
  {
   "cell_type": "code",
   "execution_count": null,
   "metadata": {},
   "outputs": [],
   "source": [
    "# Define custom thresholds\n",
    "custom_thresholds = {\n",
    "    \"exceptional\": -1.8,  # More severe threshold for exceptional drought\n",
    "    \"extreme\": -1.3,      # More severe threshold for extreme drought\n",
    "    \"severe\": -0.8,       # More severe threshold for severe drought\n",
    "    \"moderate\": -0.4,     # Less severe threshold for moderate drought\n",
    "}\n",
    "\n",
    "# Apply custom thresholds and reclassify\n",
    "try:\n",
    "    sswei_obj.set_thresholds(custom_thresholds)\n",
    "    sswei_obj.classify_drought()\n",
    "    \n",
    "    # Count drought classifications with custom thresholds\n",
    "    print(\"Drought Classification Counts with Custom Thresholds:\")\n",
    "    display(sswei_obj.sswei_data['Drought_Classification'].value_counts())\n",
    "except Exception as e:\n",
    "    print(f\"Error applying custom thresholds: {e}\")"
   ]
  },
  {
   "cell_type": "markdown",
   "metadata": {},
   "source": [
    "## 5. Visualizing SSWEI Time Series\n",
    "\n",
    "Let's visualize the SSWEI time series with drought classification color coding."
   ]
  },
  {
   "cell_type": "code",
   "execution_count": null,
   "metadata": {},
   "outputs": [],
   "source": [
    "# Plot SSWEI time series\n",
    "try:\n",
    "    fig = sswei_obj.plot_sswei_timeseries()\n",
    "    plt.show()\n",
    "except Exception as e:\n",
    "    print(f\"Error plotting SSWEI time series: {e}\")"
   ]
  },
  {
   "cell_type": "markdown",
   "metadata": {},
   "source": [
    "## 6. Analyzing Drought Characteristics\n",
    "\n",
    "Let's analyze drought characteristics such as duration, severity, and intensity."
   ]
  },
  {
   "cell_type": "code",
   "execution_count": null,
   "metadata": {},
   "outputs": [],
   "source": [
    "# Calculate drought characteristics\n",
    "try:\n",
    "    drought_chars = sswei_obj.calculate_drought_characteristics()\n",
    "    \n",
    "    if not drought_chars.empty:\n",
    "        print(\"Drought Characteristics:\")\n",
    "        display(drought_chars)\n",
    "        \n",
    "        # Plot drought characteristics\n",
    "        fig = sswei_obj.plot_drought_characteristics()\n",
    "        plt.show()\n",
    "    else:\n",
    "        print(\"No drought events found in the data.\")\n",
    "except Exception as e:\n",
    "    print(f\"Error analyzing drought characteristics: {e}\")"
   ]
  },
  {
   "cell_type": "markdown",
   "metadata": {},
   "source": [
    "## 7. Analyzing Drought Trends\n",
    "\n",
    "Let's analyze drought trends over time using a moving window approach."
   ]
  },
  {
   "cell_type": "code",
   "execution_count": null,
   "metadata": {},
   "outputs": [],
   "source": [
    "# Analyze drought trends with a 10-year moving window\n",
    "try:\n",
    "    trend_data = sswei_obj.analyze_drought_trends(window_size=10)\n",
    "    \n",
    "    if not trend_data.empty:\n",
    "        print(\"Drought Trends:\")\n",
    "        display(trend_data.head())\n",
    "        \n",
    "        # Plot drought trends\n",
    "        fig = sswei_obj.plot_drought_trends(window_size=10)\n",
    "        plt.show()\n",
    "    else:\n",
    "        print(\"Not enough data for trend analysis.\")\n",
    "except Exception as e:\n",
    "    print(f\"Error analyzing drought trends: {e}\")"
   ]
  },
  {
   "cell_type": "markdown",
   "metadata": {},
   "source": [
    "## 8. Creating a Drought Classification Heatmap\n",
    "\n",
    "Let's create a heatmap of drought classifications by decade."
   ]
  },
  {
   "cell_type": "code",
   "execution_count": null,
   "metadata": {},
   "outputs": [],
   "source": [
    "# Create a drought classification heatmap\n",
    "try:\n",
    "    fig = sswei_obj.plot_drought_classification_heatmap()\n",
    "    plt.show()\n",
    "except Exception as e:\n",
    "    print(f\"Error creating drought classification heatmap: {e}\")"
   ]
  },
  {
   "cell_type": "markdown",
   "metadata": {},
   "source": [
    "## 9. Analyzing Drought Severity Distribution\n",
    "\n",
    "Let's analyze the distribution of drought severity values."
   ]
  },
  {
   "cell_type": "code",
   "execution_count": null,
   "metadata": {},
   "outputs": [],
   "source": [
    "# Plot drought severity distribution\n",
    "try:\n",
    "    fig = sswei_obj.plot_drought_severity_distribution()\n",
    "    plt.show()\n",
    "except Exception as e:\n",
    "    print(f\"Error plotting drought severity distribution: {e}\")"
   ]
  },
  {
   "cell_type": "markdown",
   "metadata": {},
   "source": [
    "## 10. Saving SSWEI Results\n",
    "\n",
    "Finally, let's save the SSWEI results to a CSV file."
   ]
  },
  {
   "cell_type": "code",
   "execution_count": null,
   "metadata": {},
   "outputs": [],
   "source": [
    "# Save SSWEI results to a CSV file\n",
    "try:\n",
    "    output_file = '../data/processed/sswei_results.csv'\n",
    "    \n",
    "    # Create the directory if it doesn't exist\n",
    "    os.makedirs(os.path.dirname(output_file), exist_ok=True)\n",
    "    \n",
    "    # Save the results\n",
    "    sswei_obj.save_results(output_file)\n",
    "except Exception as e:\n",
    "    print(f\"Error saving SSWEI results: {e}\")"
   ]
  },
  {
   "cell_type": "markdown",
   "metadata": {},
   "source": [
    "## 11. Summary\n",
    "\n",
    "In this notebook, we've demonstrated how to use the SSWEI class for calculating the Standardized Snow Water Equivalent Index (SSWEI) and classifying drought conditions. We've covered:\n",
    "\n",
    "1. Loading SWE data\n",
    "2. Creating an SSWEI object\n",
    "3. Calculating SSWEI\n",
    "4. Customizing drought classification thresholds\n",
    "5. Visualizing SSWEI time series\n",
    "6. Analyzing drought characteristics\n",
    "7. Analyzing drought trends\n",
    "8. Creating a drought classification heatmap\n",
    "9. Analyzing drought severity distribution\n",
    "10. Saving SSWEI results\n",
    "\n",
    "The SSWEI class provides a convenient object-oriented interface to the SSWEI calculation and drought classification functionality, making it easier to work with SSWEI data and analyze drought conditions."
   ]
  }
 ],
 "metadata": {
  "kernelspec": {
   "display_name": "Python 3",
   "language": "python",
   "name": "python3"
  },
  "language_info": {
   "codemirror_mode": {
    "name": "ipython",
    "version": 3
   },
   "file_extension": ".py",
   "mimetype": "text/x-python",
   "name": "python",
   "nbconvert_exporter": "python",
   "pygments_lexer": "ipython3",
   "version": "3.8.5"
  }
 },
 "nbformat": 4,
 "nbformat_minor": 4
}
