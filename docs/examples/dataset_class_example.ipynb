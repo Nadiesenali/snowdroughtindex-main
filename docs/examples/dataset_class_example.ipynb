{
 "cells": [
  {
   "cell_type": "markdown",
   "metadata": {},
   "source": [
    "# SWEDataset Class Example\n",
    "\n",
    "This notebook demonstrates how to use the SWEDataset class for managing Snow Water Equivalent (SWE) data. The SWEDataset class provides an object-oriented interface to the data preparation and gap filling functionality."
   ]
  },
  {
   "cell_type": "code",
   "execution_count": null,
   "metadata": {},
   "outputs": [],
   "source": [
    "# Import required packages\n",
    "import numpy as np\n",
    "import pandas as pd\n",
    "import matplotlib.pyplot as plt\n",
    "import seaborn as sns\n",
    "import xarray as xr\n",
    "import os\n",
    "\n",
    "# Import snowdroughtindex package\n",
    "from snowdroughtindex.core.dataset import SWEDataset\n",
    "from snowdroughtindex.utils import visualization"
   ]
  },
  {
   "cell_type": "markdown",
   "metadata": {},
   "source": [
    "## 1. Loading SWE Data\n",
    "\n",
    "First, let's load some SWE data using the SWEDataset class."
   ]
  },
  {
   "cell_type": "code",
   "execution_count": null,
   "metadata": {},
   "outputs": [],
   "source": [
    "# Create a SWEDataset object\n",
    "swe_dataset = SWEDataset()\n",
    "\n",
    "# Load data from a file\n",
    "data_file = '../data/swe_data.nc'  # Update with your actual data file path\n",
    "\n",
    "# Check if the file exists\n",
    "if os.path.exists(data_file):\n",
    "    swe_dataset.load_from_file(data_file)\n",
    "    print(f\"Loaded data from {data_file}\")\n",
    "else:\n",
    "    print(f\"File {data_file} not found. Loading sample data...\")\n",
    "    \n",
    "    # Create sample data for demonstration\n",
    "    dates = pd.date_range(start='2010-01-01', end='2020-12-31', freq='D')\n",
    "    stations = [f'station_{i}' for i in range(1, 6)]\n",
    "    \n",
    "    # Create a DataFrame with random SWE values\n",
    "    np.random.seed(42)  # For reproducibility\n",
    "    data = {}\n",
    "    for station in stations:\n",
    "        # Create seasonal pattern with random noise\n",
    "        days = np.arange(len(dates))\n",
    "        seasonal = 100 * np.sin(2 * np.pi * days / 365.25 - np.pi/2) + 100\n",
    "        seasonal[seasonal < 0] = 0  # No negative SWE values\n",
    "        noise = np.random.normal(0, 10, len(dates))\n",
    "        values = seasonal + noise\n",
    "        values[values < 0] = 0  # No negative SWE values\n",
    "        data[station] = values\n",
    "    \n",
    "    df = pd.DataFrame(data, index=dates)\n",
    "    \n",
    "    # Create station information\n",
    "    station_info = pd.DataFrame({\n",
    "        'station_id': stations,\n",
    "        'lat': np.random.uniform(40, 45, len(stations)),\n",
    "        'lon': np.random.uniform(-120, -115, len(stations)),\n",
    "        'elevation': np.random.uniform(1500, 3000, len(stations))\n",
    "    })\n",
    "    \n",
    "    # Create SWEDataset with sample data\n",
    "    swe_dataset = SWEDataset(df, station_info)\n",
    "    print(\"Sample data created successfully.\")"
   ]
  },
  {
   "cell_type": "markdown",
   "metadata": {},
   "source": [
    "## 2. Exploring the Data\n",
    "\n",
    "Let's explore the SWE data."
   ]
  },
  {
   "cell_type": "code",
   "execution_count": null,
   "metadata": {},
   "outputs": [],
   "source": [
    "# Display basic information about the dataset\n",
    "print(swe_dataset)\n",
    "\n",
    "# Display the first few rows of the data\n",
    "print(\"\\nFirst few rows of the data:\")\n",
    "display(swe_dataset.data.head())\n",
    "\n",
    "# Display station information\n",
    "if swe_dataset.stations is not None:\n",
    "    print(\"\\nStation information:\")\n",
    "    display(swe_dataset.stations)"
   ]
  },
  {
   "cell_type": "markdown",
   "metadata": {},
   "source": [
    "## 3. Visualizing the Data\n",
    "\n",
    "Let's visualize the SWE data using the visualization module."
   ]
  },
  {
   "cell_type": "code",
   "execution_count": null,
   "metadata": {},
   "outputs": [],
   "source": [
    "# Plot SWE time series\n",
    "fig = visualization.plot_swe_timeseries(swe_dataset.data)\n",
    "plt.show()"
   ]
  },
  {
   "cell_type": "markdown",
   "metadata": {},
   "source": [
    "## 4. Creating Artificial Gaps\n",
    "\n",
    "Let's create artificial gaps in the data to demonstrate the gap filling functionality."
   ]
  },
  {
   "cell_type": "code",
   "execution_count": null,
   "metadata": {},
   "outputs": [],
   "source": [
    "# Create a copy of the original data\n",
    "data_with_gaps = swe_dataset.data.copy()\n",
    "\n",
    "# Create artificial gaps (randomly remove 20% of the data)\n",
    "np.random.seed(42)  # For reproducibility\n",
    "for station in data_with_gaps.columns:\n",
    "    mask = np.random.random(len(data_with_gaps)) < 0.2\n",
    "    data_with_gaps.loc[mask, station] = np.nan\n",
    "\n",
    "# Create a new SWEDataset with gaps\n",
    "swe_dataset_with_gaps = SWEDataset(data_with_gaps, swe_dataset.stations)\n",
    "\n",
    "# Plot the data with gaps\n",
    "fig = visualization.plot_swe_timeseries(swe_dataset_with_gaps.data)\n",
    "plt.title(\"SWE Data with Artificial Gaps\")\n",
    "plt.show()"
   ]
  },
  {
   "cell_type": "markdown",
   "metadata": {},
   "source": [
    "## 5. Gap Filling\n",
    "\n",
    "Now, let's fill the gaps in the data using the gap filling functionality."
   ]
  },
  {
   "cell_type": "code",
   "execution_count": null,
   "metadata": {},
   "outputs": [],
   "source": [
    "# Fill gaps in the data\n",
    "try:\n",
    "    swe_dataset_filled = swe_dataset_with_gaps.gap_fill(\n",
    "        window_days=15,\n",
    "        min_obs_corr=5,\n",
    "        min_obs_cdf=5,\n",
    "        min_corr=0.5\n",
    "    )\n",
    "    \n",
    "    # Plot the gap-filled data\n",
    "    fig = visualization.plot_swe_timeseries(swe_dataset_filled.data)\n",
    "    plt.title(\"Gap-Filled SWE Data\")\n",
    "    plt.show()\n",
    "    \n",
    "    # Calculate the percentage of gaps filled\n",
    "    total_gaps = data_with_gaps.isna().sum().sum()\n",
    "    remaining_gaps = swe_dataset_filled.data.isna().sum().sum()\n",
    "    filled_gaps = total_gaps - remaining_gaps\n",
    "    percent_filled = (filled_gaps / total_gaps) * 100 if total_gaps > 0 else 0\n",
    "    \n",
    "    print(f\"Total gaps: {total_gaps}\")\n",
    "    print(f\"Filled gaps: {filled_gaps}\")\n",
    "    print(f\"Percentage of gaps filled: {percent_filled:.2f}%\")\n",
    "except Exception as e:\n",
    "    print(f\"Error during gap filling: {e}\")\n",
    "    print(\"Note: Gap filling may not work with the sample data due to insufficient correlations between stations.\")"
   ]
  },
  {
   "cell_type": "markdown",
   "metadata": {},
   "source": [
    "## 6. Evaluating Gap Filling Performance\n",
    "\n",
    "Let's evaluate the performance of the gap filling algorithm using artificial gaps."
   ]
  },
  {
   "cell_type": "code",
   "execution_count": null,
   "metadata": {},
   "outputs": [],
   "source": [
    "# Evaluate gap filling performance\n",
    "try:\n",
    "    evaluation, fig = swe_dataset.evaluate_gap_filling(\n",
    "        iterations=2,\n",
    "        artificial_gap_perc=10,\n",
    "        window_days=15,\n",
    "        min_obs_corr=5,\n",
    "        min_obs_cdf=5,\n",
    "        min_corr=0.5,\n",
    "        min_obs_KGE=5,\n",
    "        plot=True\n",
    "    )\n",
    "    \n",
    "    plt.show()\n",
    "    \n",
    "    # Plot evaluation results\n",
    "    fig = swe_dataset.plot_gap_filling_evaluation(evaluation)\n",
    "    plt.show()\n",
    "except Exception as e:\n",
    "    print(f\"Error during gap filling evaluation: {e}\")\n",
    "    print(\"Note: Gap filling evaluation may not work with the sample data due to insufficient correlations between stations.\")"
   ]
  },
  {
   "cell_type": "markdown",
   "metadata": {},
   "source": [
    "## 7. Extracting Monthly Data\n",
    "\n",
    "Let's extract data for the first day of each month."
   ]
  },
  {
   "cell_type": "code",
   "execution_count": null,
   "metadata": {},
   "outputs": [],
   "source": [
    "# Extract data for the first day of January\n",
    "try:\n",
    "    january_data = swe_dataset.extract_monthly_data(month=1, plot=True)\n",
    "    \n",
    "    print(\"\\nJanuary data:\")\n",
    "    display(january_data.data.head())\n",
    "except Exception as e:\n",
    "    print(f\"Error during monthly data extraction: {e}\")"
   ]
  },
  {
   "cell_type": "markdown",
   "metadata": {},
   "source": [
    "## 8. Calculating Daily Mean SWE\n",
    "\n",
    "Let's calculate the daily mean SWE across all stations."
   ]
  },
  {
   "cell_type": "code",
   "execution_count": null,
   "metadata": {},
   "outputs": [],
   "source": [
    "# Calculate daily mean SWE\n",
    "daily_mean = swe_dataset.calculate_daily_mean()\n",
    "\n",
    "# Display the first few rows\n",
    "print(\"Daily mean SWE:\")\n",
    "display(daily_mean.head())\n",
    "\n",
    "# Plot daily mean SWE\n",
    "plt.figure(figsize=(12, 6))\n",
    "plt.plot(daily_mean['date'], daily_mean['mean_SWE'])\n",
    "plt.title('Daily Mean SWE Across All Stations')\n",
    "plt.xlabel('Date')\n",
    "plt.ylabel('Mean SWE (mm)')\n",
    "plt.grid(True, alpha=0.3)\n",
    "plt.show()"
   ]
  },
  {
   "cell_type": "markdown",
   "metadata": {},
   "source": [
    "## 9. Saving Data\n",
    "\n",
    "Let's save the data to a file."
   ]
  },
  {
   "cell_type": "code",
   "execution_count": null,
   "metadata": {},
   "outputs": [],
   "source": [
    "# Save data to a CSV file\n",
    "output_file = '../data/processed/swe_data_processed.csv'\n",
    "\n",
    "# Create the directory if it doesn't exist\n",
    "os.makedirs(os.path.dirname(output_file), exist_ok=True)\n",
    "\n",
    "# Save the data\n",
    "swe_dataset.save(output_file, format='csv')\n",
    "print(f\"Data saved to {output_file}\")"
   ]
  },
  {
   "cell_type": "markdown",
   "metadata": {},
   "source": [
    "## 10. Summary\n",
    "\n",
    "In this notebook, we've demonstrated how to use the SWEDataset class for managing Snow Water Equivalent (SWE) data. We've covered:\n",
    "\n",
    "1. Loading SWE data\n",
    "2. Exploring the data\n",
    "3. Visualizing the data\n",
    "4. Creating artificial gaps\n",
    "5. Gap filling\n",
    "6. Evaluating gap filling performance\n",
    "7. Extracting monthly data\n",
    "8. Calculating daily mean SWE\n",
    "9. Saving data\n",
    "\n",
    "The SWEDataset class provides a convenient object-oriented interface to the data preparation and gap filling functionality, making it easier to work with SWE data."
   ]
  }
 ],
 "metadata": {
  "kernelspec": {
   "display_name": "Python 3",
   "language": "python",
   "name": "python3"
  },
  "language_info": {
   "codemirror_mode": {
    "name": "ipython",
    "version": 3
   },
   "file_extension": ".py",
   "mimetype": "text/x-python",
   "name": "python",
   "nbconvert_exporter": "python",
   "pygments_lexer": "ipython3",
   "version": "3.8.5"
  }
 },
 "nbformat": 4,
 "nbformat_minor": 4
}
